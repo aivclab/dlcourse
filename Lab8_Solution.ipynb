{
  "nbformat": 4,
  "nbformat_minor": 0,
  "metadata": {
    "colab": {
      "name": "Lab8_Solution.ipynb",
      "provenance": [],
      "collapsed_sections": []
    },
    "kernelspec": {
      "name": "python3",
      "display_name": "Python 3"
    },
    "accelerator": "GPU"
  },
  "cells": [
    {
      "cell_type": "markdown",
      "metadata": {
        "id": "REaV1GblZovs"
      },
      "source": [
        "#Object detection and segmentation\n",
        "In this Lab you will learn about\n",
        "\n",
        "- Fully convolutional networks\n",
        "- Localization\n",
        "- Object detection with a YOLO-like network\n",
        "- Image segmentation with U-Net\n",
        "\n",
        "We will not have time to reproduce exactly the network architectures covered in Lecture 8. Instead this Lab serves is to give your some intuition about fundamental properties of these networks.\n",
        "\n",
        "**Before we start - remember to set runtime to GPU**"
      ]
    },
    {
      "cell_type": "markdown",
      "metadata": {
        "id": "n4XtfFsFfW3s"
      },
      "source": [
        "**NOTE:** In case you have trouble running Keras/TensorFlow in Colab, try one of the following:"
      ]
    },
    {
      "cell_type": "code",
      "metadata": {
        "id": "EQTL2goufaNV"
      },
      "source": [
        "# Try this\n",
        "#!pip install --upgrade tensorflow==1.8.0\n",
        "\n",
        "# ... or this\n",
        "#%tensorflow_version 1.x\n",
        "\n",
        "# Check TensorFlow version\n",
        "#import tensorflow as tf\n",
        "#print(tf.__version__)"
      ],
      "execution_count": 1,
      "outputs": []
    },
    {
      "cell_type": "markdown",
      "metadata": {
        "id": "Qc8RJkIJaxap"
      },
      "source": [
        "##1. Download the MNIST dataset\n",
        "As usual:"
      ]
    },
    {
      "cell_type": "code",
      "metadata": {
        "id": "r-_9ZwQkiGQg",
        "outputId": "1eb2412c-9a83-4b3c-ac2d-e2d48dfbb56c",
        "colab": {
          "base_uri": "https://localhost:8080/"
        }
      },
      "source": [
        "from __future__ import print_function\n",
        "import keras\n",
        "from keras.datasets import mnist\n",
        "from keras import backend as K\n",
        "\n",
        "num_classes = 10\n",
        "\n",
        "# input image dimensions\n",
        "img_rows, img_cols = 28, 28\n",
        "\n",
        "# the data, split between train and test sets\n",
        "(x_train, y_train), (x_test, y_test) = mnist.load_data()\n",
        "\n",
        "if K.image_data_format() == 'channels_first':\n",
        "    x_train = x_train.reshape(x_train.shape[0], 1, img_rows, img_cols)\n",
        "    x_test = x_test.reshape(x_test.shape[0], 1, img_rows, img_cols)\n",
        "    input_shape = (1, img_rows, img_cols)\n",
        "else:\n",
        "    x_train = x_train.reshape(x_train.shape[0], img_rows, img_cols, 1)\n",
        "    x_test = x_test.reshape(x_test.shape[0], img_rows, img_cols, 1)\n",
        "    input_shape = (img_rows, img_cols, 1)\n",
        "\n",
        "# Pre-process inputs\n",
        "x_train = x_train.astype('float32')\n",
        "x_test = x_test.astype('float32')\n",
        "x_train /= 255\n",
        "x_test /= 255\n",
        "\n",
        "# Convert class indices to one-hot vectors\n",
        "y_train = keras.utils.to_categorical(y_train, num_classes)\n",
        "y_test = keras.utils.to_categorical(y_test, num_classes)"
      ],
      "execution_count": 2,
      "outputs": [
        {
          "output_type": "stream",
          "text": [
            "Downloading data from https://storage.googleapis.com/tensorflow/tf-keras-datasets/mnist.npz\n",
            "11493376/11490434 [==============================] - 0s 0us/step\n"
          ],
          "name": "stdout"
        }
      ]
    },
    {
      "cell_type": "markdown",
      "metadata": {
        "id": "IwMozk31fnTL"
      },
      "source": [
        "Print some stats:"
      ]
    },
    {
      "cell_type": "code",
      "metadata": {
        "id": "NTvEhwcQfqcH",
        "outputId": "a6e03104-cc64-4999-850b-811882016bca",
        "colab": {
          "base_uri": "https://localhost:8080/"
        }
      },
      "source": [
        "# Input shape: 28 x 28 x 1 = image with one color channel\n",
        "print('input_shape :',input_shape)\n",
        "\n",
        "print('x_train shape:', x_train.shape)\n",
        "print(x_train.shape[0], 'train samples')\n",
        "print(x_test.shape[0], 'test samples')\n",
        "\n",
        "# to_categorical converts class indices to one-hot vectors\n",
        "print('y_train shape:', y_train.shape)"
      ],
      "execution_count": 3,
      "outputs": [
        {
          "output_type": "stream",
          "text": [
            "input_shape : (28, 28, 1)\n",
            "x_train shape: (60000, 28, 28, 1)\n",
            "60000 train samples\n",
            "10000 test samples\n",
            "y_train shape: (60000, 10)\n"
          ],
          "name": "stdout"
        }
      ]
    },
    {
      "cell_type": "markdown",
      "metadata": {
        "id": "dkOorGdZf4L6"
      },
      "source": [
        "##2. Train a simple CNN classifier\n",
        "Set up CNN:"
      ]
    },
    {
      "cell_type": "code",
      "metadata": {
        "id": "wvHAmMda0uNE",
        "outputId": "d18ed1eb-ca25-4369-b0ab-6808a491098f",
        "colab": {
          "base_uri": "https://localhost:8080/"
        }
      },
      "source": [
        "from __future__ import print_function\n",
        "import keras\n",
        "from keras.layers import Input, Conv2D, MaxPooling2D, Dense, Flatten\n",
        "from keras.models import Model\n",
        "\n",
        "inputs = Input(shape=(28, 28, 1))\n",
        "\n",
        "# Encoder (convolutional base)\n",
        "x = Conv2D(8, kernel_size=(3, 3), padding='same', activation='relu')(inputs)\n",
        "x = MaxPooling2D((2, 2))(x)\n",
        "x = Conv2D(16, kernel_size=(3, 3), padding='same', activation='relu')(x)\n",
        "x = MaxPooling2D((2, 2))(x)\n",
        "x = Conv2D(32, kernel_size=(3, 3), padding='same', activation='relu')(x)\n",
        "encoded = Flatten()(x)\n",
        "\n",
        "# Decoder (2 fully connected layers)\n",
        "x = Dense(64, activation='relu')(encoded)\n",
        "predictions = Dense(num_classes,activation='softmax')(x)\n",
        "\n",
        "# This creates a callable model that includes the Input layer and the prediction layer\n",
        "model = Model(inputs=inputs, outputs=predictions)\n",
        "\n",
        "model.summary()"
      ],
      "execution_count": 4,
      "outputs": [
        {
          "output_type": "stream",
          "text": [
            "Model: \"functional_1\"\n",
            "_________________________________________________________________\n",
            "Layer (type)                 Output Shape              Param #   \n",
            "=================================================================\n",
            "input_1 (InputLayer)         [(None, 28, 28, 1)]       0         \n",
            "_________________________________________________________________\n",
            "conv2d (Conv2D)              (None, 28, 28, 8)         80        \n",
            "_________________________________________________________________\n",
            "max_pooling2d (MaxPooling2D) (None, 14, 14, 8)         0         \n",
            "_________________________________________________________________\n",
            "conv2d_1 (Conv2D)            (None, 14, 14, 16)        1168      \n",
            "_________________________________________________________________\n",
            "max_pooling2d_1 (MaxPooling2 (None, 7, 7, 16)          0         \n",
            "_________________________________________________________________\n",
            "conv2d_2 (Conv2D)            (None, 7, 7, 32)          4640      \n",
            "_________________________________________________________________\n",
            "flatten (Flatten)            (None, 1568)              0         \n",
            "_________________________________________________________________\n",
            "dense (Dense)                (None, 64)                100416    \n",
            "_________________________________________________________________\n",
            "dense_1 (Dense)              (None, 10)                650       \n",
            "=================================================================\n",
            "Total params: 106,954\n",
            "Trainable params: 106,954\n",
            "Non-trainable params: 0\n",
            "_________________________________________________________________\n"
          ],
          "name": "stdout"
        }
      ]
    },
    {
      "cell_type": "markdown",
      "metadata": {
        "id": "44dU5LYWrMXY"
      },
      "source": [
        "Train the model for four epochs:"
      ]
    },
    {
      "cell_type": "code",
      "metadata": {
        "id": "tB02sLW7mbX6",
        "outputId": "5f3909aa-2aeb-475b-efe1-a863cb627eea",
        "colab": {
          "base_uri": "https://localhost:8080/"
        }
      },
      "source": [
        "batch_size = 32\n",
        "epochs = 4\n",
        "\n",
        "model.compile(loss='categorical_crossentropy',\n",
        "              optimizer='SGD',\n",
        "              metrics=['accuracy'])\n",
        "\n",
        "history = model.fit(x_train, y_train,\n",
        "                    batch_size=batch_size,\n",
        "                    epochs=epochs,\n",
        "                    verbose=1,\n",
        "                    validation_data=(x_test, y_test))\n",
        "\n",
        "score = model.evaluate(x_test, y_test, verbose=0)\n",
        "print('Test loss:', score[0])\n",
        "print('Test accuracy:', score[1])"
      ],
      "execution_count": 5,
      "outputs": [
        {
          "output_type": "stream",
          "text": [
            "Epoch 1/4\n",
            "1875/1875 [==============================] - 6s 3ms/step - loss: 0.5014 - accuracy: 0.8449 - val_loss: 0.1699 - val_accuracy: 0.9466\n",
            "Epoch 2/4\n",
            "1875/1875 [==============================] - 6s 3ms/step - loss: 0.1407 - accuracy: 0.9565 - val_loss: 0.0995 - val_accuracy: 0.9687\n",
            "Epoch 3/4\n",
            "1875/1875 [==============================] - 6s 3ms/step - loss: 0.0984 - accuracy: 0.9695 - val_loss: 0.0815 - val_accuracy: 0.9738\n",
            "Epoch 4/4\n",
            "1875/1875 [==============================] - 6s 3ms/step - loss: 0.0797 - accuracy: 0.9751 - val_loss: 0.0641 - val_accuracy: 0.9780\n",
            "Test loss: 0.06406349688768387\n",
            "Test accuracy: 0.9779999852180481\n"
          ],
          "name": "stdout"
        }
      ]
    },
    {
      "cell_type": "markdown",
      "metadata": {
        "id": "xs9A2gSKhmOM"
      },
      "source": [
        "##3. Task 1: Simple sliding window\n",
        "Sliding window  (i.e., repeating the same operation on an image at many different locations) is a core operation in many computer vision tasks.\n",
        "\n",
        "![alt text](https://miro.medium.com/max/576/1*Mj8WKVKf_RpiAsX3SC1ZdQ.png)\n",
        "\n",
        "To perform sliding window efficiently - and to handle input images of varying shape - most modern CNNs are *fully convolutional*. The term is not uniquely defined, but at its core it addresses the issue that fully connected layers (or dense layers) require that the input vector has a fixed, predetermined shape. There are basically two solutions to this problem:\n",
        "\n",
        "1. Perform some sort of pooling operation on the last feature map of the convolutional encoder, such that the input to the fully connected layers has a fixed shape, regardless of the shape of the input image. For instance, *global average pooling* takes an NxNxC volume and reduces it to a C-dimensional vector by averaging the NxN valus of each channel. (see [Task 2.4 of Lab 7](https://github.com/aivclab/dlcourse/blob/master/Lab7_Solution.ipynb)).\n",
        "2. Convert the fully connected layers into convolutional layers. This allows the network to handle images of arbitrary shape. If the shape of the last feature map is NxNxC, the first step of replacing the fully connected layers with convolutional layers is to perform convolution with K different NxN sized filters to produce an output volume of shape 1x1xK. Performing successive 1x1 convolutions on this volume \"mimics\" the traditional fully connected layers. \n",
        "\n",
        "The main difference between the two approaches above is that in *1.* the output shape is always the same, whereas in *2.* the output shape increases as the shape of the input image increases. This is because *2.* performs a kind of *sliding window* operation. We will implement this later."
      ]
    },
    {
      "cell_type": "markdown",
      "metadata": {
        "id": "nkQUJdrN3UT4"
      },
      "source": [
        "###Create a larger test image to perform sliding window on\n",
        "To motivate why fully convolutional networks can perform sliding window effeciently, lets first consider simple sliding window, where each window is run through a CNN. The CNN that we trained above takes input images of size 28 x 28 and produces a 10-dimensional output vector of class probabilities. Now, suppose that the input image is three times as large (i.e., it has size 84 x 84), but the digits have the same absolute scale/shape as before. Let's generate and display such a test image using zero padding:"
      ]
    },
    {
      "cell_type": "code",
      "metadata": {
        "id": "fTAL7qdze1vA",
        "outputId": "de6f43a8-7ec5-42a2-83ad-1543eb61e1ae",
        "colab": {
          "base_uri": "https://localhost:8080/",
          "height": 251
        }
      },
      "source": [
        "import matplotlib.pyplot as plt\n",
        "import numpy as np\n",
        "\n",
        "# Change to select another test image\n",
        "i = 0\n",
        "\n",
        "# Dimensions are [batch_size, height, width, channels]\n",
        "img = np.reshape(x_train[i,:],(1,28,28,1))\n",
        "\n",
        "# Pad with zeros to obtain image of size (28 + 2*padsize) = 84 if padsize = 28\n",
        "padsize = 28\n",
        "img_large = np.pad(img,((0,0),(padsize,padsize),(padsize,padsize),(0,0)))\n",
        "print('Original shape',img.shape)\n",
        "print('Larger image shape',img_large.shape)\n",
        "\n",
        "# Display\n",
        "plt.subplot(1,2,1); plt.imshow(img.squeeze(),cmap='gray'); plt.title('Original (28 x 28)');\n",
        "plt.subplot(1,2,2); plt.imshow(img_large.squeeze(),cmap='gray'); plt.title('Larger image (84 x 84)');"
      ],
      "execution_count": 6,
      "outputs": [
        {
          "output_type": "stream",
          "text": [
            "Original shape (1, 28, 28, 1)\n",
            "Larger image shape (1, 84, 84, 1)\n"
          ],
          "name": "stdout"
        },
        {
          "output_type": "display_data",
          "data": {
            "image/png": "[encoded data removed]",
            "text/plain": [
              "<Figure size 432x288 with 2 Axes>"
            ]
          },
          "metadata": {
            "tags": [],
            "needs_background": "light"
          }
        }
      ]
    },
    {
      "cell_type": "markdown",
      "metadata": {
        "id": "wGon_HY0e0lT"
      },
      "source": [
        "###Run sliding window\n",
        "We should be able to detect the digit in the larger image (`img_large`) by running our current CNN model over the image in a sliding window fashion. \n",
        "The input image is 84 x 84 pixels, and the network accepts images of shape 28x28. With a stride of 1, how many times can we run the network over the input image along each spatial dimension? Call this number `N`, insert it in the code block below, and run it. \n",
        "\n",
        "Please ask me (Henrik) if the task is unclear, or if you get stuck.\n",
        "\n",
        "**Note** that it will take a while to run the code block below - that's the whole pointt :-)"
      ]
    },
    {
      "cell_type": "code",
      "metadata": {
        "id": "u_RK8Uh7gp-1",
        "outputId": "f86eec23-16d3-4204-9cfc-42ecd21a8913",
        "colab": {
          "base_uri": "https://localhost:8080/",
          "height": 122
        }
      },
      "source": [
        "import time\n",
        "\n",
        "# Initialize result array\n",
        "N = 56\n",
        "result = np.zeros((N,N,num_classes))\n",
        "\n",
        "# Perform sliding window\n",
        "start = time.time()\n",
        "for x in range(N):\n",
        "  for y in range(N):\n",
        "    cropout = img_large[:,x:x+28,y:y+28,:]\n",
        "    cropout = np.reshape(cropout,(1,28,28,1))\n",
        "    result[x,y,:] = model.predict(cropout)\n",
        "\n",
        "elapsed = time.time() - start\n",
        "print('Elapsed time',elapsed)\n",
        "\n",
        "# Show result\n",
        "plt.figure(figsize=(20,6))\n",
        "for c in range(num_classes):\n",
        "  plt.subplot(1,num_classes,c+1)\n",
        "  plt.imshow(result[:,:,c],vmin=0.,vmax=1.,cmap='gray')\n",
        "  plt.title(str(c))"
      ],
      "execution_count": 7,
      "outputs": [
        {
          "output_type": "stream",
          "text": [
            "Elapsed time 89.11606097221375\n"
          ],
          "name": "stdout"
        },
        {
          "output_type": "display_data",
          "data": {
            "image/png": "[encoded data removed]",
            "text/plain": [
              "<Figure size 1440x432 with 10 Axes>"
            ]
          },
          "metadata": {
            "tags": [],
            "needs_background": "light"
          }
        }
      ]
    },
    {
      "cell_type": "markdown",
      "metadata": {
        "id": "uhAe0K9ZjOZ4"
      },
      "source": [
        "### Questions\n",
        "1. What are we looking at here? That is, explain what the output images (`result`) show.\n",
        "2. How long time did it take to run sliding window this way?"
      ]
    },
    {
      "cell_type": "markdown",
      "metadata": {
        "id": "DEv9fxrnCkpL"
      },
      "source": [
        "###Answers:\n",
        "1. `result` is a 56x56x10 volume or tensor of class probablity *heatmaps*. There is one channel/heatmap for each of the 10 classes in our dataset. In each heatmap the pixel intensities correspond to the output of the CNN when located at a particular position of the input image (remember we are performing sliding window). The output intensities are the predicted class probablities. Hence, when displaying each of the 10 channels as an image (like we did above), we see that at some window positions, the CNN thinks the underlying view of the input image displays a 1, and at other window positions it displays a 2, etc.\n",
        "\n",
        "2. A little less than than 90 seconds (but I have seen computation times down to 5 seconds in Colab)."
      ]
    },
    {
      "cell_type": "markdown",
      "metadata": {
        "id": "zhuEZiMag9zM"
      },
      "source": [
        "###Extra\n",
        "The figure below shows the `argmax` (i.e., the index of the most likely class) for each spatial location. Note that the most likely class differs for different window positions. We can combine information from all spatial positions by counting the number of *votes* each class got. Here, the correct class (i.e., **5**) got the most votes."
      ]
    },
    {
      "cell_type": "code",
      "metadata": {
        "id": "MIRnYb0gDkDQ",
        "outputId": "447b551e-bdfd-4f07-f7b4-37c82b4ac149",
        "colab": {
          "base_uri": "https://localhost:8080/",
          "height": 425
        }
      },
      "source": [
        "fig, axs = plt.subplots(1,2);\n",
        "axs\n",
        "images = []\n",
        "images.append(axs[0].imshow(img_large.squeeze(), cmap='gray'))\n",
        "images.append(axs[1].imshow(np.argmax(result,axis=2),vmin=0,vmax=9))\n",
        "fig.colorbar(images[1], ax=axs, orientation='horizontal', fraction=.1)\n",
        "\n",
        "# Class with most \"votes\"\n",
        "class_map = np.argmax(result,axis=2)\n",
        "for digit in range(10):\n",
        "  ix = np.where(class_map==digit)[0]\n",
        "  votes = len(ix)\n",
        "  print(str(digit) + ' got ' + str(votes) + ' votes')"
      ],
      "execution_count": 15,
      "outputs": [
        {
          "output_type": "stream",
          "text": [
            "0 got 10 votes\n",
            "1 got 64 votes\n",
            "2 got 500 votes\n",
            "3 got 334 votes\n",
            "4 got 7 votes\n",
            "5 got 1739 votes\n",
            "6 got 101 votes\n",
            "7 got 357 votes\n",
            "8 got 10 votes\n",
            "9 got 14 votes\n"
          ],
          "name": "stdout"
        },
        {
          "output_type": "display_data",
          "data": {
            "image/png": "[encoded data removed]",
            "text/plain": [
              "<Figure size 432x288 with 3 Axes>"
            ]
          },
          "metadata": {
            "tags": [],
            "needs_background": "light"
          }
        }
      ]
    },
    {
      "cell_type": "markdown",
      "metadata": {
        "id": "obC47RsqjpJb"
      },
      "source": [
        "##4. Task 2: Efficient sliding window with FCN\n",
        "Sliding window as implemented above takes several seconds, even for this tiny image. To make the sliding window operation more efficient, we can convert our model to a fully convolutional network (FCN) by converting the fully connected layers to convolutional layers.\n",
        "\n",
        "In summary, the procedure involves the following steps:\n",
        "\n",
        "1. First set up an FCN equivalent to the CNN that we used above.\n",
        "2. Train the FCN on the 28 x 28 training images (`x_train`).\n",
        "3. Modify the FCN architecture such that it takes input images of arbitrary input shape (and test it on the 84 x 84 image).\n",
        "\n",
        "The latter is a two-step procedure, where we first modify the FCN architecture a little bit (by removing a flatten layer), then copy the weights from the trained network.\n"
      ]
    },
    {
      "cell_type": "markdown",
      "metadata": {
        "id": "kX7DLQeq3eWs"
      },
      "source": [
        "###Step 1 - set up FCN\n",
        "As a first step, convert our fully connected model into an FCN by replacing the fully connected layers with convolution layers. You can do this by filling in the missing code below (see comments to get help):\n"
      ]
    },
    {
      "cell_type": "code",
      "metadata": {
        "id": "0z7HuSBbhnzX",
        "outputId": "fcd11153-41d5-49af-fc76-4d7df3cb1faf",
        "colab": {
          "base_uri": "https://localhost:8080/"
        }
      },
      "source": [
        "from keras.activations import softmax\n",
        "\n",
        "def depthwiseSoftmax(x):\n",
        "    return softmax(x,axis=3)\n",
        "\n",
        "def FCN(inputs,train_mode=False):\n",
        "  # Encoder (convolutional base)\n",
        "  x = Conv2D(8, kernel_size=(3, 3), padding='same', activation='relu')(inputs)\n",
        "  x = MaxPooling2D((2, 2))(x)\n",
        "  x = Conv2D(16, kernel_size=(3, 3), padding='same', activation='relu')(x)\n",
        "  x = MaxPooling2D((2, 2))(x)\n",
        "  x = Conv2D(32, kernel_size=(3, 3), padding='same', activation='relu')(x)\n",
        "\n",
        "  # 1. At this point x has shape (None, 7, 7, 32)  \n",
        "  x = Conv2D(64, kernel_size=(7, 7), padding='valid', activation='relu')(x)\n",
        "\n",
        "  # 2. At this point x has shape (None, 1, 1, 64)\n",
        "  predictions = Conv2D(num_classes, 1, activation=depthwiseSoftmax, padding='same')(x)\n",
        "\n",
        "  # 3. At this point predictions has shape (None, 1, 1, num_classes)\n",
        "\n",
        "  # The flatten operation is required during training only\n",
        "  if train_mode:\n",
        "    predictions = Flatten()(predictions)\n",
        "    # 4. At this point \"predictions\" has shape (None, num_classes)\n",
        "\n",
        "  fcn = Model(inputs=inputs, outputs=predictions)\n",
        "\n",
        "  return fcn\n",
        "\n",
        "fcn = FCN(inputs=inputs,train_mode=True)\n",
        "fcn.summary()"
      ],
      "execution_count": 16,
      "outputs": [
        {
          "output_type": "stream",
          "text": [
            "Model: \"functional_3\"\n",
            "_________________________________________________________________\n",
            "Layer (type)                 Output Shape              Param #   \n",
            "=================================================================\n",
            "input_1 (InputLayer)         [(None, 28, 28, 1)]       0         \n",
            "_________________________________________________________________\n",
            "conv2d_3 (Conv2D)            (None, 28, 28, 8)         80        \n",
            "_________________________________________________________________\n",
            "max_pooling2d_2 (MaxPooling2 (None, 14, 14, 8)         0         \n",
            "_________________________________________________________________\n",
            "conv2d_4 (Conv2D)            (None, 14, 14, 16)        1168      \n",
            "_________________________________________________________________\n",
            "max_pooling2d_3 (MaxPooling2 (None, 7, 7, 16)          0         \n",
            "_________________________________________________________________\n",
            "conv2d_5 (Conv2D)            (None, 7, 7, 32)          4640      \n",
            "_________________________________________________________________\n",
            "conv2d_6 (Conv2D)            (None, 1, 1, 64)          100416    \n",
            "_________________________________________________________________\n",
            "conv2d_7 (Conv2D)            (None, 1, 1, 10)          650       \n",
            "_________________________________________________________________\n",
            "flatten_1 (Flatten)          (None, 10)                0         \n",
            "=================================================================\n",
            "Total params: 106,954\n",
            "Trainable params: 106,954\n",
            "Non-trainable params: 0\n",
            "_________________________________________________________________\n"
          ],
          "name": "stdout"
        }
      ]
    },
    {
      "cell_type": "markdown",
      "metadata": {
        "id": "iQyWluqPmIMY"
      },
      "source": [
        "###Step 2 - train FCN\n",
        "Unfortunately, it is not so straight forward to transfer the learned weights from the existing CNN (`model`) to the FCN (`fcn`). So we need to quickly train it:"
      ]
    },
    {
      "cell_type": "code",
      "metadata": {
        "id": "_7az3y5YkBUk",
        "outputId": "0a5935c8-258d-4272-9796-372a23ca04d6",
        "colab": {
          "base_uri": "https://localhost:8080/"
        }
      },
      "source": [
        "epochs = 4\n",
        "\n",
        "fcn.compile(loss='categorical_crossentropy',\n",
        "            optimizer='SGD',\n",
        "            metrics=['accuracy'])\n",
        "\n",
        "history = fcn.fit(x_train, y_train,\n",
        "                  batch_size=batch_size,\n",
        "                  epochs=epochs,\n",
        "                  verbose=1,\n",
        "                  validation_data=(x_test, y_test))\n",
        "\n",
        "score = model.evaluate(x_test, y_test, verbose=0)\n",
        "print('Test loss:', score[0])\n",
        "print('Test accuracy:', score[1])"
      ],
      "execution_count": 17,
      "outputs": [
        {
          "output_type": "stream",
          "text": [
            "Epoch 1/4\n",
            "1875/1875 [==============================] - 6s 3ms/step - loss: 0.4844 - accuracy: 0.8571 - val_loss: 0.1453 - val_accuracy: 0.9527\n",
            "Epoch 2/4\n",
            "1875/1875 [==============================] - 6s 3ms/step - loss: 0.1177 - accuracy: 0.9640 - val_loss: 0.0788 - val_accuracy: 0.9749\n",
            "Epoch 3/4\n",
            "1875/1875 [==============================] - 6s 3ms/step - loss: 0.0838 - accuracy: 0.9740 - val_loss: 0.0664 - val_accuracy: 0.9770\n",
            "Epoch 4/4\n",
            "1875/1875 [==============================] - 6s 3ms/step - loss: 0.0677 - accuracy: 0.9794 - val_loss: 0.0592 - val_accuracy: 0.9793\n",
            "Test loss: 0.06406349688768387\n",
            "Test accuracy: 0.9779999852180481\n"
          ],
          "name": "stdout"
        }
      ]
    },
    {
      "cell_type": "markdown",
      "metadata": {
        "id": "Byntwzvimju7"
      },
      "source": [
        "####Question\n",
        "1. Why is the `predictions = Flatten()(x)` operation required during training, but not during test?"
      ]
    },
    {
      "cell_type": "markdown",
      "metadata": {
        "id": "aV0fAON5Djg1"
      },
      "source": [
        "###Answers\n",
        "1. Because the training targets (`y_train`) are vectors, the network must also output vectors (of the same shape) during training. This is ensured by the Flatten operation. Without the Flatten operation the output shape would be `[batch_size,1,1,10]`, but with Flatten it becomes `[batch_size,10]`."
      ]
    },
    {
      "cell_type": "markdown",
      "metadata": {
        "id": "kSpRrkOxCBzj"
      },
      "source": [
        "###Step 3.1 - make FCN accept images of arbitrary shape\n",
        "Now, that we have trained our FCN, we can modify it to take input images of arbitrary shape. This is a two-step procedure. First set input height/width to `None` and remove the `Flatten` operation by setting `train_mode=False`:"
      ]
    },
    {
      "cell_type": "code",
      "metadata": {
        "id": "CLSuvt1enmqZ",
        "outputId": "c445ebf0-1868-47ed-8310-05b4b4ab4087",
        "colab": {
          "base_uri": "https://localhost:8080/"
        }
      },
      "source": [
        "# Tell Keras that height/width can be arbitrary\n",
        "large_input_shape = ((None,None,1))\n",
        "large_inputs = Input(large_input_shape)\n",
        "\n",
        "fcn_large = FCN(inputs=large_inputs,train_mode=False)\n",
        "fcn_large.summary()"
      ],
      "execution_count": 18,
      "outputs": [
        {
          "output_type": "stream",
          "text": [
            "Model: \"functional_5\"\n",
            "_________________________________________________________________\n",
            "Layer (type)                 Output Shape              Param #   \n",
            "=================================================================\n",
            "input_2 (InputLayer)         [(None, None, None, 1)]   0         \n",
            "_________________________________________________________________\n",
            "conv2d_8 (Conv2D)            (None, None, None, 8)     80        \n",
            "_________________________________________________________________\n",
            "max_pooling2d_4 (MaxPooling2 (None, None, None, 8)     0         \n",
            "_________________________________________________________________\n",
            "conv2d_9 (Conv2D)            (None, None, None, 16)    1168      \n",
            "_________________________________________________________________\n",
            "max_pooling2d_5 (MaxPooling2 (None, None, None, 16)    0         \n",
            "_________________________________________________________________\n",
            "conv2d_10 (Conv2D)           (None, None, None, 32)    4640      \n",
            "_________________________________________________________________\n",
            "conv2d_11 (Conv2D)           (None, None, None, 64)    100416    \n",
            "_________________________________________________________________\n",
            "conv2d_12 (Conv2D)           (None, None, None, 10)    650       \n",
            "=================================================================\n",
            "Total params: 106,954\n",
            "Trainable params: 106,954\n",
            "Non-trainable params: 0\n",
            "_________________________________________________________________\n"
          ],
          "name": "stdout"
        }
      ]
    },
    {
      "cell_type": "markdown",
      "metadata": {
        "id": "rG3fhdF1ClvK"
      },
      "source": [
        "Next, copy the weights from the trained model:"
      ]
    },
    {
      "cell_type": "code",
      "metadata": {
        "id": "ysgdheE3oNGp",
        "outputId": "bd79a760-87b5-4cd1-d600-3f01cabc75cf",
        "colab": {
          "base_uri": "https://localhost:8080/"
        }
      },
      "source": [
        "# copy weights from one model to another model    \n",
        "# tested in Keras 1.x    \n",
        "def copyModel2Model(model_source,model_target):        \n",
        "    for l_tg,l_sr in zip(model_target.layers,model_source.layers):\n",
        "        wk0 = l_sr.get_weights()\n",
        "        l_tg.set_weights(wk0)\n",
        "    print(\"model source was copied into model target\")\n",
        "\n",
        "copyModel2Model(fcn,fcn_large)"
      ],
      "execution_count": 19,
      "outputs": [
        {
          "output_type": "stream",
          "text": [
            "model source was copied into model target\n"
          ],
          "name": "stdout"
        }
      ]
    },
    {
      "cell_type": "markdown",
      "metadata": {
        "id": "u-pK5gHDC4IZ"
      },
      "source": [
        "Let's verify that we get the same results with `fcn` and `fcn_large`:"
      ]
    },
    {
      "cell_type": "code",
      "metadata": {
        "id": "oAvE_d3jpuSZ",
        "outputId": "6bcde430-40de-4759-82ba-f4dae5c71adf",
        "colab": {
          "base_uri": "https://localhost:8080/"
        }
      },
      "source": [
        "# FCN that always expects 28 x 28 input\n",
        "result = fcn.predict(img)\n",
        "print('result',result)\n",
        "print('result.shape',result.shape)\n",
        "\n",
        "# FCN that accepts arbitrary input shape (but fed with 28x28 image here)\n",
        "result_large = fcn_large.predict(img)\n",
        "print(result_large)\n",
        "print('result_large.shape',result_large.shape)"
      ],
      "execution_count": 20,
      "outputs": [
        {
          "output_type": "stream",
          "text": [
            "result [[3.4596697e-09 6.3892842e-09 1.3162199e-06 4.4765122e-02 2.9586281e-11\n",
            "  9.5521474e-01 2.4730462e-10 9.4096649e-06 2.4558265e-06 6.9236307e-06]]\n",
            "result.shape (1, 10)\n",
            "[[[[3.4596697e-09 6.3892842e-09 1.3162199e-06 4.4765122e-02\n",
            "    2.9586281e-11 9.5521474e-01 2.4730462e-10 9.4096649e-06\n",
            "    2.4558265e-06 6.9236307e-06]]]]\n",
            "result_large.shape (1, 1, 1, 10)\n"
          ],
          "name": "stdout"
        }
      ]
    },
    {
      "cell_type": "markdown",
      "metadata": {
        "id": "dSE5tkcYF5Ha"
      },
      "source": [
        "####Questions:\n",
        "1. Is there any sliding window going on here (when running `fcn_large`)?\n",
        "2. Why are the output shapes `result.shape` and `result_large.shape` different?"
      ]
    },
    {
      "cell_type": "markdown",
      "metadata": {
        "id": "eSDOD4b_D_1z"
      },
      "source": [
        "###Answers\n",
        "1. No, the output of `fcn_large` has shape `[batch_size,height,width,num_classes] = [1,1,1,10]`, so no sliding window. Otherwize we would have `height` and `width` larger than 1.\n",
        "2. The output of `fcn` is a [1,10] vector because of the Flatten operation. The output of `fcn_large` is an image (or array or tensor) that has a width and a height. In this case `[batch_size,height,width,num_classes] = [1,1,1,10]`."
      ]
    },
    {
      "cell_type": "markdown",
      "metadata": {
        "id": "Dq6B7cQF4BYK"
      },
      "source": [
        "###Test speed (FCN vs simple slinding window)"
      ]
    },
    {
      "cell_type": "markdown",
      "metadata": {
        "id": "T7u1FXbwDvBW"
      },
      "source": [
        "Finally, let's verify that `fcn_large` performs sliding window much faster than the simple sliding window above by processing the 84 x 84 image, `img_large`:"
      ]
    },
    {
      "cell_type": "code",
      "metadata": {
        "id": "zoJeYn0ODV8y",
        "outputId": "ec21c737-634c-484c-e98d-c28bf1a81d22",
        "colab": {
          "base_uri": "https://localhost:8080/"
        }
      },
      "source": [
        "start = time.time()\n",
        "result_large = fcn_large.predict(img_large)\n",
        "elapsed = time.time() - start\n",
        "print(result_large.shape)\n",
        "print(elapsed)"
      ],
      "execution_count": 21,
      "outputs": [
        {
          "output_type": "stream",
          "text": [
            "(1, 15, 15, 10)\n",
            "0.12848448753356934\n"
          ],
          "name": "stdout"
        }
      ]
    },
    {
      "cell_type": "markdown",
      "metadata": {
        "id": "2XHDZ-Jpmb9-"
      },
      "source": [
        "Display the results:"
      ]
    },
    {
      "cell_type": "code",
      "metadata": {
        "id": "9CqDXqgDrI-L",
        "outputId": "def9b75e-de00-4e37-c2b1-06e7346bf339",
        "colab": {
          "base_uri": "https://localhost:8080/",
          "height": 355
        }
      },
      "source": [
        "# Show input image\n",
        "plt.figure()\n",
        "plt.imshow(img_large.squeeze(),cmap='gray')\n",
        "\n",
        "# Show result\n",
        "plt.figure(figsize=(20,6))\n",
        "for c in range(num_classes):\n",
        "  plt.subplot(1,num_classes,c+1)\n",
        "  plt.imshow(result_large[:,:,:,c].squeeze(),vmin=0.,vmax=1.,cmap='gray')\n",
        "  plt.title(str(c))"
      ],
      "execution_count": 22,
      "outputs": [
        {
          "output_type": "display_data",
          "data": {
            "image/png": "[encoded data removed]",
            "text/plain": [
              "<Figure size 432x288 with 1 Axes>"
            ]
          },
          "metadata": {
            "tags": [],
            "needs_background": "light"
          }
        },
        {
          "output_type": "display_data",
          "data": {
            "image/png": "[encoded data removed]",
            "text/plain": [
              "<Figure size 1440x432 with 10 Axes>"
            ]
          },
          "metadata": {
            "tags": [],
            "needs_background": "light"
          }
        }
      ]
    },
    {
      "cell_type": "markdown",
      "metadata": {
        "id": "q5J15TLJGtBj"
      },
      "source": [
        "###Questions:\n",
        "1. With simple sliding window, the output shape of `results` was NxNx10 = 56x56x10. However, when using FCN for sliding window, the output shape is 15x15x10. Why?"
      ]
    },
    {
      "cell_type": "markdown",
      "metadata": {
        "id": "Bc30K2hQE5zc"
      },
      "source": [
        "###Answers\n",
        "1. The output will have the same height and width as the last feature map of the coonvolutional encoder. With the particular input shape used here (84 x 84) the last feature map has height and width 15 (due to the convolutions and max pooling operations)."
      ]
    },
    {
      "cell_type": "markdown",
      "metadata": {
        "id": "mapzf8Y0Hv87"
      },
      "source": [
        "##5. Task 3: Simple localization\n",
        "The goal of localization is to find the bounding box of a single object in an image. This is a regression problem, where we seek to predict the corners of the bounding box (or eqivalently one corner + height and width of the bbox). Either way, the output of the regression is 4 numbers.\n",
        "\n",
        "Localization can be performed in the *class agnostic* way, where we use the same regressor for all classes, or the *class specific* way. In the latter case, the output of the regression is C x 4 dimensional, where C is the number of classes.\n",
        "\n",
        "Here we will focus on the simpler class agnostic approach."
      ]
    },
    {
      "cell_type": "markdown",
      "metadata": {
        "id": "WY27xHHl4QgG"
      },
      "source": [
        "###Train and test data\n",
        "First, let's create train and test data for this task."
      ]
    },
    {
      "cell_type": "code",
      "metadata": {
        "id": "mKwFuZyXH06g"
      },
      "source": [
        "num_train = x_train.shape[0]\n",
        "y_train_loc = np.zeros((num_train,4)) # Bounding box corners\n",
        "for i in range(num_train):\n",
        "  \n",
        "  # Bounding box corners coordinates\n",
        "  tmp = x_train[i,:,:,:]\n",
        "  ix = np.where(tmp>0.1)\n",
        "  rows = ix[0]\n",
        "  cols = ix[1]  \n",
        "  y_train_loc[i,0] = np.min(rows) # Upper left corner - row coordinate\n",
        "  y_train_loc[i,1] = np.min(cols) # Upper left corner - column coordinate\n",
        "  y_train_loc[i,2] = np.max(rows) # Lower right corner - row coordinate\n",
        "  y_train_loc[i,3] = np.max(cols) # Lower right corner - column coordinate\n",
        "\n",
        "num_test = x_test.shape[0]\n",
        "y_test_loc = np.zeros((num_test,4))\n",
        "for i in range(num_test):\n",
        "  \n",
        "  # Bounding box corners coordinates\n",
        "  tmp = x_test[i,:,:,:]\n",
        "  ix = np.where(tmp>0.1)\n",
        "  rows = ix[0]\n",
        "  cols = ix[1]  \n",
        "  y_test_loc[i,0] = np.min(rows)\n",
        "  y_test_loc[i,1] = np.min(cols)\n",
        "  y_test_loc[i,2] = np.max(rows)\n",
        "  y_test_loc[i,3] = np.max(cols)"
      ],
      "execution_count": 23,
      "outputs": []
    },
    {
      "cell_type": "markdown",
      "metadata": {
        "id": "0OkxIsIELPks"
      },
      "source": [
        "Show some examples:"
      ]
    },
    {
      "cell_type": "code",
      "metadata": {
        "id": "5a4rlUSmIoQH",
        "outputId": "9dfec4ab-4476-4ed7-cf78-fe0ae3fcd9b1",
        "colab": {
          "base_uri": "https://localhost:8080/",
          "height": 178
        }
      },
      "source": [
        "import cv2\n",
        "plt.figure(figsize=(20,4))\n",
        "for i in range(10):\n",
        "  img = np.tile(x_train[i,:,:,:],(1,1,3))\n",
        "  xmin = int(y_train_loc[i,0]) # row\n",
        "  ymin = int(y_train_loc[i,1]) # col\n",
        "  xmax = int(y_train_loc[i,2]) # row\n",
        "  ymax = int(y_train_loc[i,3]) # col\n",
        "  cv2.rectangle(img,(ymin,xmin),(ymax,xmax),(0,1,0),1)\n",
        "\n",
        "  ax = plt.subplot(2,5,i+1)\n",
        "  plt.imshow(img)\n",
        "  ax.get_xaxis().set_visible(False)\n",
        "  ax.get_yaxis().set_visible(False)"
      ],
      "execution_count": 24,
      "outputs": [
        {
          "output_type": "display_data",
          "data": {
            "image/png": "[encoded data removed]",
            "text/plain": [
              "<Figure size 1440x288 with 10 Axes>"
            ]
          },
          "metadata": {
            "tags": [],
            "needs_background": "light"
          }
        }
      ]
    },
    {
      "cell_type": "markdown",
      "metadata": {
        "id": "tmKcaOfuncAP"
      },
      "source": [
        "###Implement Localization network\n",
        "Your task is to implement and train a CNN that predicts the bounding box coordinates: `(ymin,xmin),(ymax,xmax)`. You can use the CNN architecture that we used and modify the last layer only. It should output 4 real-valued numbers. "
      ]
    },
    {
      "cell_type": "code",
      "metadata": {
        "id": "Qp7eoL-GNEcY",
        "outputId": "9b893887-2052-4446-a29b-97a4efb39e4f",
        "colab": {
          "base_uri": "https://localhost:8080/"
        }
      },
      "source": [
        "inputs = Input(shape=(28, 28, 1))\n",
        "\n",
        "# Encoder (convolutional base)\n",
        "x = Conv2D(8, kernel_size=(3, 3), padding='same', activation='relu')(inputs)\n",
        "x = MaxPooling2D((2, 2))(x)\n",
        "x = Conv2D(16, kernel_size=(3, 3), padding='same', activation='relu')(x)\n",
        "x = MaxPooling2D((2, 2))(x)\n",
        "x = Conv2D(32, kernel_size=(3, 3), padding='same', activation='relu')(x)\n",
        "encoded = Flatten()(x)\n",
        "\n",
        "# Decoder (2 fully connected layers)\n",
        "x = Dense(64, activation='relu')(encoded)\n",
        "predictions = Dense(4)(x)\n",
        "\n",
        "# This creates a callable model that includes the Input layer and the prediction layer\n",
        "localizer = Model(inputs=inputs, outputs=predictions)\n",
        "\n",
        "localizer.summary()"
      ],
      "execution_count": 25,
      "outputs": [
        {
          "output_type": "stream",
          "text": [
            "Model: \"functional_7\"\n",
            "_________________________________________________________________\n",
            "Layer (type)                 Output Shape              Param #   \n",
            "=================================================================\n",
            "input_3 (InputLayer)         [(None, 28, 28, 1)]       0         \n",
            "_________________________________________________________________\n",
            "conv2d_13 (Conv2D)           (None, 28, 28, 8)         80        \n",
            "_________________________________________________________________\n",
            "max_pooling2d_6 (MaxPooling2 (None, 14, 14, 8)         0         \n",
            "_________________________________________________________________\n",
            "conv2d_14 (Conv2D)           (None, 14, 14, 16)        1168      \n",
            "_________________________________________________________________\n",
            "max_pooling2d_7 (MaxPooling2 (None, 7, 7, 16)          0         \n",
            "_________________________________________________________________\n",
            "conv2d_15 (Conv2D)           (None, 7, 7, 32)          4640      \n",
            "_________________________________________________________________\n",
            "flatten_2 (Flatten)          (None, 1568)              0         \n",
            "_________________________________________________________________\n",
            "dense_2 (Dense)              (None, 64)                100416    \n",
            "_________________________________________________________________\n",
            "dense_3 (Dense)              (None, 4)                 260       \n",
            "=================================================================\n",
            "Total params: 106,564\n",
            "Trainable params: 106,564\n",
            "Non-trainable params: 0\n",
            "_________________________________________________________________\n"
          ],
          "name": "stdout"
        }
      ]
    },
    {
      "cell_type": "markdown",
      "metadata": {
        "id": "icAs0SMroy7j"
      },
      "source": [
        "###Training\n",
        "Recall that localization is a regression problem and not a classification problem. For regression, we usually want to minimize the L2 loss or the *mean squared error* (mse) as it is called in Keras. The procedure for training the localizer is more or less the same as for the classifier, except that we need to change the loss to `mse`:"
      ]
    },
    {
      "cell_type": "code",
      "metadata": {
        "id": "GxC7-G6hNjvf",
        "outputId": "03756fe0-a346-496b-ed62-fec21347bae4",
        "colab": {
          "base_uri": "https://localhost:8080/"
        }
      },
      "source": [
        "batch_size = 32\n",
        "epochs = 4\n",
        "\n",
        "localizer.compile(loss='mse',\n",
        "                  optimizer='Adam')\n",
        "\n",
        "history = localizer.fit(x_train, y_train_loc,\n",
        "                    batch_size=batch_size,\n",
        "                    epochs=epochs,\n",
        "                    verbose=1,\n",
        "                    validation_data=(x_test, y_test_loc))"
      ],
      "execution_count": 26,
      "outputs": [
        {
          "output_type": "stream",
          "text": [
            "Epoch 1/4\n",
            "1875/1875 [==============================] - 4s 2ms/step - loss: 2.5357 - val_loss: 0.2715\n",
            "Epoch 2/4\n",
            "1875/1875 [==============================] - 4s 2ms/step - loss: 0.2567 - val_loss: 0.2416\n",
            "Epoch 3/4\n",
            "1875/1875 [==============================] - 4s 2ms/step - loss: 0.2011 - val_loss: 0.2027\n",
            "Epoch 4/4\n",
            "1875/1875 [==============================] - 4s 2ms/step - loss: 0.1680 - val_loss: 0.1390\n"
          ],
          "name": "stdout"
        }
      ]
    },
    {
      "cell_type": "markdown",
      "metadata": {
        "id": "E5kwfG5KprU7"
      },
      "source": [
        "###Model evaluation\n",
        "Display test results (do not expect perfect results...):"
      ]
    },
    {
      "cell_type": "code",
      "metadata": {
        "id": "hBfFvfQ8OWTw",
        "outputId": "21dc8111-93d2-46ac-cfc5-5b6a9b9b1ebc",
        "colab": {
          "base_uri": "https://localhost:8080/",
          "height": 215
        }
      },
      "source": [
        "# Predict bounding boxes for one test batch\n",
        "result = localizer.predict(x_test[0:batch_size,:])\n",
        "\n",
        "plt.figure(figsize=(20,4))\n",
        "for i in range(10):\n",
        "\n",
        "  img = np.tile(x_test[i,:,:,:],(1,1,3))\n",
        "  xmin = int(result[i,0]) # row\n",
        "  ymin = int(result[i,1]) # col\n",
        "  xmax = int(result[i,2]) # row\n",
        "  ymax = int(result[i,3]) # col\n",
        "  cv2.rectangle(img,(ymin,xmin),(ymax,xmax),(0,1,0),1)\n",
        "\n",
        "  ax = plt.subplot(2,5,i+1)\n",
        "  plt.imshow(img)\n",
        "  ax.get_xaxis().set_visible(False)\n",
        "  ax.get_yaxis().set_visible(False)"
      ],
      "execution_count": 27,
      "outputs": [
        {
          "output_type": "stream",
          "text": [
            "WARNING:tensorflow:5 out of the last 3140 calls to <function Model.make_predict_function.<locals>.predict_function at 0x7efebe10af28> triggered tf.function retracing. Tracing is expensive and the excessive number of tracings could be due to (1) creating @tf.function repeatedly in a loop, (2) passing tensors with different shapes, (3) passing Python objects instead of tensors. For (1), please define your @tf.function outside of the loop. For (2), @tf.function has experimental_relax_shapes=True option that relaxes argument shapes that can avoid unnecessary retracing. For (3), please refer to https://www.tensorflow.org/tutorials/customization/performance#python_or_tensor_args and https://www.tensorflow.org/api_docs/python/tf/function for  more details.\n"
          ],
          "name": "stdout"
        },
        {
          "output_type": "display_data",
          "data": {
            "image/png": "[encoded data removed]",
            "text/plain": [
              "<Figure size 1440x288 with 10 Axes>"
            ]
          },
          "metadata": {
            "tags": [],
            "needs_background": "light"
          }
        }
      ]
    },
    {
      "cell_type": "markdown",
      "metadata": {
        "id": "NV6vSV3WCQZd"
      },
      "source": [
        "##6. Task 4: Object detection\n",
        "Classification + Localization predicts one class label and one bounding box per image. This is problematic if the image contains multiple objects. Object detection is about detecting and classifying multiple objects in images. Object detection networks output the corner coordinates of the bounding box of each detect object, along with a class label.\n",
        "\n",
        "![alt text](https://miro.medium.com/max/576/1*Mj8WKVKf_RpiAsX3SC1ZdQ.png)\n",
        "\n",
        "There are many ways to implement object detection with CNNs. You may want to take a look at this 3-part tutorial:\n",
        "- [A Step-by-Step Introduction to the Basic Object Detection Algorithms (Part 1)](https://www.analyticsvidhya.com/blog/2018/10/a-step-by-step-introduction-to-the-basic-object-detection-algorithms-part-1/)\n",
        "- [A Practical Implementation of the Faster R-CNN Algorithm for Object Detection (Part 2 – with Python codes)](https://www.analyticsvidhya.com/blog/2018/11/implementation-faster-r-cnn-python-object-detection/)\n",
        "- [A Practical Guide to Object Detection using the Popular YOLO Framework – Part III (with Python codes)](https://www.analyticsvidhya.com/blog/2018/12/practical-guide-object-detection-yolo-framewor-python/?utm_source=blog&utm_medium=implementation-faster-r-cnn-python-object-detection)\n",
        "\n",
        "The R-CNN family of techniques we saw in Lecture 8 primarily use regions to localize the objects within the image. In short\n",
        "- **R-CNN** feeds each region proposal through a CNN to predict the class and bounding box, which is really slow\n",
        "- **Fast R-CNN** speeds up R-CNN by running the image through a fully convolutional CNN once, then extracts regions from the resulting feature volume to predict classes and bounding boxes.\n",
        "- **Faster R-CNN** speeds up Fast R-CNN by integrating the region proposal step into the network (instead of running selective search).\n",
        "\n",
        "The R-CNN family of techniques does not look at the entire image, only at the parts of the images which have a higher chance of containing an object. The **YOLO** framework (You Only Look Once) on the other hand, deals with object detection in a different way. It takes the entire image in a single instance and predicts the bounding box coordinates and class probabilities for these boxes. The biggest advantage of using YOLO is its superb speed – it’s incredibly fast and can process 45 frames per second. YOLO also understands generalized object representation.\n",
        "\n",
        "![alt text](https://miro.medium.com/max/1152/1*m8p5lhWdFDdapEFa2zUtIA.jpeg)\n",
        "\n",
        "The basic idea of our simple YOLO-like object detector below is as follows:\n",
        "\n",
        "- The input image is divided into a grid (7-by-7 in the paper).\n",
        "- Each grid cell can be the center of one object, or no object. The object can be bigger or smaller than the cell, it doesn't matter; the important thing to consider is whether a cell represents the center of an object or not.\n",
        "- If a cell is the center of an object, we want our model to know during training (and predict it at test time). For this purpose, we introduce a concept called *confidence*: The confidence is 1 if the cell represents an objects, and otherwise it is 0. In the figure above, the confidence - as predicted by the model - is represented by the thickness of the black boxes in the top-most image.\n",
        "- If the confidence is 1, it means there is an object, so we want to predict its bounding box (relative to the center of the grid cell).\n",
        "- Also, we want to predict the class label of the object. To be more precise, we want our model to predict the class probabilities (for all classes).\n",
        "\n",
        "**Example:**\n",
        "If the input image has shape 64x64, the output of the YOLO-like model will have shape 2x2x15:\n",
        "- 1 output per cell for the confidence (is there an object or not?)\n",
        "- 4 outputs per cell corresponding to the upper left and lower right coordinates of the bounding box\n",
        "- 10 outputs per cell corresponding to the class probabalities (assuming we have 10 classes).\n",
        "\n",
        "This totals 15 outputs per cell.\n"
      ]
    },
    {
      "cell_type": "markdown",
      "metadata": {
        "id": "rHkjYyA09Slk"
      },
      "source": [
        "###Set up YOLO-like network\n",
        "Your first task is to fill in the empty spots below (marked with ???), then run the code block to set up the object detection network."
      ]
    },
    {
      "cell_type": "markdown",
      "metadata": {
        "id": "8F5cTba0FH6z"
      },
      "source": [
        "###Solution:"
      ]
    },
    {
      "cell_type": "code",
      "metadata": {
        "id": "DBaW6otN9dHO",
        "outputId": "cd40e9b6-0534-4e51-aee1-5c734982294b",
        "colab": {
          "base_uri": "https://localhost:8080/"
        }
      },
      "source": [
        "from keras.layers import concatenate\n",
        "from keras.activations import softmax\n",
        "\n",
        "def depthwiseSoftmax(x):\n",
        "    return softmax(x,axis=3)\n",
        "\n",
        "input_img = Input(shape=(64, 64, 1))\n",
        "\n",
        "x = Conv2D(8, 33, activation='relu', padding='same')(input_img) #nb_filter, nb_row, nb_col\n",
        "x = MaxPooling2D((2, 2), padding='same')(x)\n",
        "x = Conv2D(16, 3, activation='relu', padding='same')(x)\n",
        "x = MaxPooling2D((2, 2), padding='same')(x)\n",
        "x = Conv2D(32, 3, activation='relu', padding='same')(x)\n",
        "encoded = MaxPooling2D((2, 2), padding='same')(x)\n",
        "\n",
        "# Notice that all three outputs use the same encoder\n",
        "\n",
        "# 1. This predicts whether there is an object in a cell or not\n",
        "x = Conv2D(4, 3, activation='relu', padding='same')(encoded)\n",
        "x = MaxPooling2D((2, 2), padding='same')(x)\n",
        "x = Conv2D(4, 3, activation='relu', padding='same')(x)\n",
        "x = MaxPooling2D((2, 2), padding='same')(x)\n",
        "confidence = Conv2D(1, 1, activation='sigmoid', padding='same')(x)\n",
        "\n",
        "# 2. This predicts the bounding box coordinates for each cell\n",
        "x = Conv2D(4, 3, activation='relu', padding='same')(encoded)\n",
        "x = MaxPooling2D((2, 2), padding='same')(x)\n",
        "x = Conv2D(4, 3, activation='relu', padding='same')(x)\n",
        "x = MaxPooling2D((2, 2), padding='same')(x)\n",
        "box = Conv2D(4, 1, padding='same')(x)\n",
        "\n",
        "# 3. This predicts the class probabilities for each cell\n",
        "x = Conv2D(16, 3, activation='relu', padding='same')(encoded)\n",
        "x = MaxPooling2D((2, 2), padding='same')(x)\n",
        "x = Conv2D(16, 3, activation='relu', padding='same')(x)\n",
        "x = MaxPooling2D((2, 2), padding='same')(x)\n",
        "classes = Conv2D(10, 1, activation=depthwiseSoftmax, padding='same')(x)\n",
        "\n",
        "# Merge output\n",
        "merged = concatenate([confidence, box, classes])\n",
        "\n",
        "objdet = Model(input_img, merged)\n",
        "objdet.compile(optimizer='Adam', loss='mse')\n",
        "\n",
        "objdet.summary()"
      ],
      "execution_count": 28,
      "outputs": [
        {
          "output_type": "stream",
          "text": [
            "Model: \"functional_9\"\n",
            "__________________________________________________________________________________________________\n",
            "Layer (type)                    Output Shape         Param #     Connected to                     \n",
            "==================================================================================================\n",
            "input_4 (InputLayer)            [(None, 64, 64, 1)]  0                                            \n",
            "__________________________________________________________________________________________________\n",
            "conv2d_16 (Conv2D)              (None, 64, 64, 8)    8720        input_4[0][0]                    \n",
            "__________________________________________________________________________________________________\n",
            "max_pooling2d_8 (MaxPooling2D)  (None, 32, 32, 8)    0           conv2d_16[0][0]                  \n",
            "__________________________________________________________________________________________________\n",
            "conv2d_17 (Conv2D)              (None, 32, 32, 16)   1168        max_pooling2d_8[0][0]            \n",
            "__________________________________________________________________________________________________\n",
            "max_pooling2d_9 (MaxPooling2D)  (None, 16, 16, 16)   0           conv2d_17[0][0]                  \n",
            "__________________________________________________________________________________________________\n",
            "conv2d_18 (Conv2D)              (None, 16, 16, 32)   4640        max_pooling2d_9[0][0]            \n",
            "__________________________________________________________________________________________________\n",
            "max_pooling2d_10 (MaxPooling2D) (None, 8, 8, 32)     0           conv2d_18[0][0]                  \n",
            "__________________________________________________________________________________________________\n",
            "conv2d_19 (Conv2D)              (None, 8, 8, 4)      1156        max_pooling2d_10[0][0]           \n",
            "__________________________________________________________________________________________________\n",
            "conv2d_22 (Conv2D)              (None, 8, 8, 4)      1156        max_pooling2d_10[0][0]           \n",
            "__________________________________________________________________________________________________\n",
            "conv2d_25 (Conv2D)              (None, 8, 8, 16)     4624        max_pooling2d_10[0][0]           \n",
            "__________________________________________________________________________________________________\n",
            "max_pooling2d_11 (MaxPooling2D) (None, 4, 4, 4)      0           conv2d_19[0][0]                  \n",
            "__________________________________________________________________________________________________\n",
            "max_pooling2d_13 (MaxPooling2D) (None, 4, 4, 4)      0           conv2d_22[0][0]                  \n",
            "__________________________________________________________________________________________________\n",
            "max_pooling2d_15 (MaxPooling2D) (None, 4, 4, 16)     0           conv2d_25[0][0]                  \n",
            "__________________________________________________________________________________________________\n",
            "conv2d_20 (Conv2D)              (None, 4, 4, 4)      148         max_pooling2d_11[0][0]           \n",
            "__________________________________________________________________________________________________\n",
            "conv2d_23 (Conv2D)              (None, 4, 4, 4)      148         max_pooling2d_13[0][0]           \n",
            "__________________________________________________________________________________________________\n",
            "conv2d_26 (Conv2D)              (None, 4, 4, 16)     2320        max_pooling2d_15[0][0]           \n",
            "__________________________________________________________________________________________________\n",
            "max_pooling2d_12 (MaxPooling2D) (None, 2, 2, 4)      0           conv2d_20[0][0]                  \n",
            "__________________________________________________________________________________________________\n",
            "max_pooling2d_14 (MaxPooling2D) (None, 2, 2, 4)      0           conv2d_23[0][0]                  \n",
            "__________________________________________________________________________________________________\n",
            "max_pooling2d_16 (MaxPooling2D) (None, 2, 2, 16)     0           conv2d_26[0][0]                  \n",
            "__________________________________________________________________________________________________\n",
            "conv2d_21 (Conv2D)              (None, 2, 2, 1)      5           max_pooling2d_12[0][0]           \n",
            "__________________________________________________________________________________________________\n",
            "conv2d_24 (Conv2D)              (None, 2, 2, 4)      20          max_pooling2d_14[0][0]           \n",
            "__________________________________________________________________________________________________\n",
            "conv2d_27 (Conv2D)              (None, 2, 2, 10)     170         max_pooling2d_16[0][0]           \n",
            "__________________________________________________________________________________________________\n",
            "concatenate (Concatenate)       (None, 2, 2, 15)     0           conv2d_21[0][0]                  \n",
            "                                                                 conv2d_24[0][0]                  \n",
            "                                                                 conv2d_27[0][0]                  \n",
            "==================================================================================================\n",
            "Total params: 24,275\n",
            "Trainable params: 24,275\n",
            "Non-trainable params: 0\n",
            "__________________________________________________________________________________________________\n"
          ],
          "name": "stdout"
        }
      ]
    },
    {
      "cell_type": "markdown",
      "metadata": {
        "id": "VtLlialYGZVm"
      },
      "source": [
        "###Training data\n",
        "Let's generate some training data for our object detector.\n",
        "\n",
        "The training images (`x_train_obj`) will be 64x64, where two of the four quadrants will contain one handwritten digit. This just serves to illustrate that we can teach a network to detect and classify more than one digit per input image.\n",
        "\n",
        "The output is (`y_train_obj`) is 2x2x15 as explained above:\n",
        "- 1 output per cell for the confidence (is there an object or not?)\n",
        "- 4 outputs per cell corresponding to the upper left and lower right coordinates of the bounding box\n",
        "- 10 outputs per cell corresponding to the class probabalities (assuming we have 10 classes).\n"
      ]
    },
    {
      "cell_type": "code",
      "metadata": {
        "id": "s8EGlKP8Gd28"
      },
      "source": [
        "x_train_obj = np.zeros((5000,64,64,1))\n",
        "y_train_obj = np.zeros((5000,2,2,15))\n",
        "\n",
        "for i in range(5000):\n",
        "  \n",
        "  ## 1 \n",
        "  q = np.random.randint(0,2) # 1st or 2nd image quadrant?\n",
        "  \n",
        "  # Random image\n",
        "  rand_ix = np.random.randint(0,x_train.shape[0])\n",
        "  x_off_start = np.random.randint(0,5)\n",
        "  y_off_start = np.random.randint(0,5)\n",
        "  x_train_obj[i,0+x_off_start:28+x_off_start,32*q+y_off_start:32*q+28+y_off_start,:] = x_train[rand_ix,:,:,:]\n",
        "  \n",
        "  # Set confidence to 1\n",
        "  y_train_obj[i,0,q,0] = 1\n",
        "\n",
        "  # Class label\n",
        "  label = np.argmax(y_train[rand_ix,:])\n",
        "  y_train_obj[i,0,q,5+label] = 1\n",
        "\n",
        "  # Bounding box corners coordinates\n",
        "  tmp = x_train[rand_ix,:,:,:]\n",
        "  ix = np.where(tmp>0.1)\n",
        "  rows = ix[0]\n",
        "  cols = ix[1]  \n",
        "  y_train_obj[i,0,q,1] = np.min(rows) + x_off_start\n",
        "  y_train_obj[i,0,q,2] = np.min(cols) + y_off_start\n",
        "  y_train_obj[i,0,q,3] = np.max(rows) + x_off_start\n",
        "  y_train_obj[i,0,q,4] = np.max(cols) + y_off_start\n",
        "\n",
        "  ## 2\n",
        "  q = np.random.randint(0,2) # 3rd or 4rd image quadrant?\n",
        "  \n",
        "  # Random image\n",
        "  rand_ix = np.random.randint(0,x_train.shape[0])\n",
        "  x_off_start = np.random.randint(0,5)\n",
        "  y_off_start = np.random.randint(0,5)\n",
        "  x_train_obj[i,32+x_off_start:32+28+x_off_start,32*q+y_off_start:32*q+28+y_off_start,:] = x_train[rand_ix,:,:,:]\n",
        "  \n",
        "  # Set confidence to 1\n",
        "  y_train_obj[i,1,q,0] = 1\n",
        "\n",
        "  # Class label\n",
        "  label = np.argmax(y_train[rand_ix,:])\n",
        "  y_train_obj[i,1,q,5+label] = 1\n",
        "\n",
        "  # Bounding box corners coordinates\n",
        "  tmp = x_train[rand_ix,:,:,:]\n",
        "  ix = np.where(tmp>0.1)\n",
        "  rows = ix[0]\n",
        "  cols = ix[1]  \n",
        "  y_train_obj[i,1,q,1] = np.min(rows) + x_off_start\n",
        "  y_train_obj[i,1,q,2] = np.min(cols) + y_off_start\n",
        "  y_train_obj[i,1,q,3] = np.max(rows) + x_off_start\n",
        "  y_train_obj[i,1,q,4] = np.max(cols) + y_off_start"
      ],
      "execution_count": 29,
      "outputs": []
    },
    {
      "cell_type": "markdown",
      "metadata": {
        "id": "DLAKnAV0KkSC"
      },
      "source": [
        "Display example outputs"
      ]
    },
    {
      "cell_type": "code",
      "metadata": {
        "id": "3Usjz_hbI7k4",
        "outputId": "141ddacb-77cc-4f10-fcf1-08bab99a209d",
        "colab": {
          "base_uri": "https://localhost:8080/",
          "height": 371
        }
      },
      "source": [
        "plt.figure(figsize=(20,4))\n",
        "for k in range(10):\n",
        "  result = np.tile(x_train_obj[k,:,:,:],(1,1,3))\n",
        "\n",
        "  for i in range(2):\n",
        "    for j in range(2):\n",
        "      object_present = np.round(y_train_obj[k,i,j,0])\n",
        "      if object_present:\n",
        "        class_index = np.argmax(y_train_obj[k,i,j,5:])\n",
        "        xmin = int(y_train_obj[k,i,j,1] + i*32) # row\n",
        "        ymin = int(y_train_obj[k,i,j,2] + j*32) # col\n",
        "        xmax = int(y_train_obj[k,i,j,3] + i*32) # row\n",
        "        ymax = int(y_train_obj[k,i,j,4] + j*32) # col\n",
        "        cv2.rectangle(result,(ymin,xmin),(ymax,xmax),(0,255,0),1)\n",
        "        cv2.putText(result, str(class_index), (ymin-10, xmin+10), cv2.FONT_HERSHEY_SIMPLEX, 0.5, (0, 255, 0),lineType=cv2.LINE_AA)\n",
        "  ax = plt.subplot(2,5,k+1)\n",
        "  plt.imshow(result)\n",
        "  ax.get_xaxis().set_visible(False)\n",
        "  ax.get_yaxis().set_visible(False)"
      ],
      "execution_count": 30,
      "outputs": [
        {
          "output_type": "stream",
          "text": [
            "Clipping input data to the valid range for imshow with RGB data ([0..1] for floats or [0..255] for integers).\n",
            "Clipping input data to the valid range for imshow with RGB data ([0..1] for floats or [0..255] for integers).\n",
            "Clipping input data to the valid range for imshow with RGB data ([0..1] for floats or [0..255] for integers).\n",
            "Clipping input data to the valid range for imshow with RGB data ([0..1] for floats or [0..255] for integers).\n",
            "Clipping input data to the valid range for imshow with RGB data ([0..1] for floats or [0..255] for integers).\n",
            "Clipping input data to the valid range for imshow with RGB data ([0..1] for floats or [0..255] for integers).\n",
            "Clipping input data to the valid range for imshow with RGB data ([0..1] for floats or [0..255] for integers).\n",
            "Clipping input data to the valid range for imshow with RGB data ([0..1] for floats or [0..255] for integers).\n",
            "Clipping input data to the valid range for imshow with RGB data ([0..1] for floats or [0..255] for integers).\n",
            "Clipping input data to the valid range for imshow with RGB data ([0..1] for floats or [0..255] for integers).\n"
          ],
          "name": "stderr"
        },
        {
          "output_type": "display_data",
          "data": {
            "image/png": "[encoded data removed]",
            "text/plain": [
              "<Figure size 1440x288 with 10 Axes>"
            ]
          },
          "metadata": {
            "tags": [],
            "needs_background": "light"
          }
        }
      ]
    },
    {
      "cell_type": "markdown",
      "metadata": {
        "id": "q3x93OVGOLvO"
      },
      "source": [
        "###Training\n",
        "We are ready to start training the model."
      ]
    },
    {
      "cell_type": "code",
      "metadata": {
        "id": "osyiFWyhWUri",
        "outputId": "c3af0fb1-298d-434b-ccc1-b5e8349982ba",
        "colab": {
          "base_uri": "https://localhost:8080/"
        }
      },
      "source": [
        "objdet.fit(x_train_obj, y_train_obj, epochs=50, batch_size=128,shuffle=True,verbose=1)"
      ],
      "execution_count": 31,
      "outputs": [
        {
          "output_type": "stream",
          "text": [
            "Epoch 1/50\n",
            "40/40 [==============================] - 1s 14ms/step - loss: 36.9142\n",
            "Epoch 2/50\n",
            "40/40 [==============================] - 0s 11ms/step - loss: 20.2403\n",
            "Epoch 3/50\n",
            "40/40 [==============================] - 0s 11ms/step - loss: 11.6912\n",
            "Epoch 4/50\n",
            "40/40 [==============================] - 0s 11ms/step - loss: 7.6584\n",
            "Epoch 5/50\n",
            "40/40 [==============================] - 0s 11ms/step - loss: 5.2604\n",
            "Epoch 6/50\n",
            "40/40 [==============================] - 0s 11ms/step - loss: 3.5112\n",
            "Epoch 7/50\n",
            "40/40 [==============================] - 0s 11ms/step - loss: 2.3719\n",
            "Epoch 8/50\n",
            "40/40 [==============================] - 0s 11ms/step - loss: 1.5948\n",
            "Epoch 9/50\n",
            "40/40 [==============================] - 0s 11ms/step - loss: 1.1234\n",
            "Epoch 10/50\n",
            "40/40 [==============================] - 0s 11ms/step - loss: 0.8791\n",
            "Epoch 11/50\n",
            "40/40 [==============================] - 0s 12ms/step - loss: 0.7678\n",
            "Epoch 12/50\n",
            "40/40 [==============================] - 0s 11ms/step - loss: 0.6946\n",
            "Epoch 13/50\n",
            "40/40 [==============================] - 0s 11ms/step - loss: 0.6339\n",
            "Epoch 14/50\n",
            "40/40 [==============================] - 0s 11ms/step - loss: 0.6040\n",
            "Epoch 15/50\n",
            "40/40 [==============================] - 0s 11ms/step - loss: 0.5854\n",
            "Epoch 16/50\n",
            "40/40 [==============================] - 0s 11ms/step - loss: 0.5787\n",
            "Epoch 17/50\n",
            "40/40 [==============================] - 0s 11ms/step - loss: 0.5580\n",
            "Epoch 18/50\n",
            "40/40 [==============================] - 0s 11ms/step - loss: 0.5372\n",
            "Epoch 19/50\n",
            "40/40 [==============================] - 0s 11ms/step - loss: 0.5266\n",
            "Epoch 20/50\n",
            "40/40 [==============================] - 0s 11ms/step - loss: 0.5235\n",
            "Epoch 21/50\n",
            "40/40 [==============================] - 0s 10ms/step - loss: 0.5063\n",
            "Epoch 22/50\n",
            "40/40 [==============================] - 0s 12ms/step - loss: 0.4952\n",
            "Epoch 23/50\n",
            "40/40 [==============================] - 0s 11ms/step - loss: 0.4924\n",
            "Epoch 24/50\n",
            "40/40 [==============================] - 0s 10ms/step - loss: 0.4850\n",
            "Epoch 25/50\n",
            "40/40 [==============================] - 0s 11ms/step - loss: 0.4756\n",
            "Epoch 26/50\n",
            "40/40 [==============================] - 0s 11ms/step - loss: 0.4709\n",
            "Epoch 27/50\n",
            "40/40 [==============================] - 0s 11ms/step - loss: 0.4646\n",
            "Epoch 28/50\n",
            "40/40 [==============================] - 0s 11ms/step - loss: 0.4883\n",
            "Epoch 29/50\n",
            "40/40 [==============================] - 0s 11ms/step - loss: 0.4595\n",
            "Epoch 30/50\n",
            "40/40 [==============================] - 0s 11ms/step - loss: 0.4512\n",
            "Epoch 31/50\n",
            "40/40 [==============================] - 0s 11ms/step - loss: 0.4564\n",
            "Epoch 32/50\n",
            "40/40 [==============================] - 0s 11ms/step - loss: 0.4464\n",
            "Epoch 33/50\n",
            "40/40 [==============================] - 0s 11ms/step - loss: 0.4413\n",
            "Epoch 34/50\n",
            "40/40 [==============================] - 0s 12ms/step - loss: 0.4373\n",
            "Epoch 35/50\n",
            "40/40 [==============================] - 0s 12ms/step - loss: 0.4336\n",
            "Epoch 36/50\n",
            "40/40 [==============================] - 0s 11ms/step - loss: 0.4280\n",
            "Epoch 37/50\n",
            "40/40 [==============================] - 0s 11ms/step - loss: 0.4233\n",
            "Epoch 38/50\n",
            "40/40 [==============================] - 0s 11ms/step - loss: 0.4200\n",
            "Epoch 39/50\n",
            "40/40 [==============================] - 0s 11ms/step - loss: 0.4194\n",
            "Epoch 40/50\n",
            "40/40 [==============================] - 0s 11ms/step - loss: 0.4152\n",
            "Epoch 41/50\n",
            "40/40 [==============================] - 0s 11ms/step - loss: 0.4130\n",
            "Epoch 42/50\n",
            "40/40 [==============================] - 0s 11ms/step - loss: 0.4091\n",
            "Epoch 43/50\n",
            "40/40 [==============================] - 0s 11ms/step - loss: 0.4084\n",
            "Epoch 44/50\n",
            "40/40 [==============================] - 0s 11ms/step - loss: 0.4007\n",
            "Epoch 45/50\n",
            "40/40 [==============================] - 0s 11ms/step - loss: 0.4025\n",
            "Epoch 46/50\n",
            "40/40 [==============================] - 0s 12ms/step - loss: 0.3948\n",
            "Epoch 47/50\n",
            "40/40 [==============================] - 0s 11ms/step - loss: 0.3920\n",
            "Epoch 48/50\n",
            "40/40 [==============================] - 0s 11ms/step - loss: 0.3931\n",
            "Epoch 49/50\n",
            "40/40 [==============================] - 0s 11ms/step - loss: 0.3872\n",
            "Epoch 50/50\n",
            "40/40 [==============================] - 0s 12ms/step - loss: 0.3892\n"
          ],
          "name": "stdout"
        },
        {
          "output_type": "execute_result",
          "data": {
            "text/plain": [
              "<tensorflow.python.keras.callbacks.History at 0x7efead390f60>"
            ]
          },
          "metadata": {
            "tags": []
          },
          "execution_count": 31
        }
      ]
    },
    {
      "cell_type": "markdown",
      "metadata": {
        "id": "TveS0ULsOR75"
      },
      "source": [
        "###Model evaluation\n",
        "The code below shows displays the results for 10 example images. For each cell in each image, it predicts the confidence, the bounding box and the class label.\n",
        "\n",
        "However, the confidence is not used for anything, so all boxes and class labels are shown, regardless of whethter the confidence is high or low.\n",
        "\n",
        "**Your task** is to fix the code, such that bounding boxes and class labels are only shown if the model is confident that there is on object in a given cell:"
      ]
    },
    {
      "cell_type": "code",
      "metadata": {
        "id": "c1kETljRYh7f",
        "outputId": "c7f7f004-38f7-49be-f7b5-95dd7f10b786",
        "colab": {
          "base_uri": "https://localhost:8080/",
          "height": 388
        }
      },
      "source": [
        "out = objdet.predict(x_train_obj[0:10,:,:,:])\n",
        "\n",
        "plt.figure(figsize=(20,4))\n",
        "for k in range(10):\n",
        "  result = np.tile(x_train_obj[k,:,:,:],(1,1,3))\n",
        "\n",
        "  for i in range(2):\n",
        "    for j in range(2):\n",
        "      # Display bounding box and class label only if confidence is larger than 0.5\n",
        "      confidence = out[k,i,j,0]\n",
        "      object_present = np.round(confidence)\n",
        "      if object_present:\n",
        "        class_index = np.argmax(out[k,i,j,5:])\n",
        "        xmin = int(out[k,i,j,1] + i*32) # row\n",
        "        ymin = int(out[k,i,j,2] + j*32) # col\n",
        "        xmax = int(out[k,i,j,3] + i*32) # row\n",
        "        ymax = int(out[k,i,j,4] + j*32) # col\n",
        "        cv2.rectangle(result,(ymin,xmin),(ymax,xmax),(0,255,0),1)\n",
        "        cv2.putText(result, str(class_index), (ymin-10, xmin+10), cv2.FONT_HERSHEY_SIMPLEX, 0.5, (0, 255, 0),lineType=cv2.LINE_AA)\n",
        "  ax = plt.subplot(2,5,k+1)\n",
        "  plt.imshow(result)\n",
        "  ax.get_xaxis().set_visible(False)\n",
        "  ax.get_yaxis().set_visible(False)"
      ],
      "execution_count": 32,
      "outputs": [
        {
          "output_type": "stream",
          "text": [
            "WARNING:tensorflow:6 out of the last 3141 calls to <function Model.make_predict_function.<locals>.predict_function at 0x7efead32ad90> triggered tf.function retracing. Tracing is expensive and the excessive number of tracings could be due to (1) creating @tf.function repeatedly in a loop, (2) passing tensors with different shapes, (3) passing Python objects instead of tensors. For (1), please define your @tf.function outside of the loop. For (2), @tf.function has experimental_relax_shapes=True option that relaxes argument shapes that can avoid unnecessary retracing. For (3), please refer to https://www.tensorflow.org/tutorials/customization/performance#python_or_tensor_args and https://www.tensorflow.org/api_docs/python/tf/function for  more details.\n"
          ],
          "name": "stdout"
        },
        {
          "output_type": "stream",
          "text": [
            "Clipping input data to the valid range for imshow with RGB data ([0..1] for floats or [0..255] for integers).\n",
            "Clipping input data to the valid range for imshow with RGB data ([0..1] for floats or [0..255] for integers).\n",
            "Clipping input data to the valid range for imshow with RGB data ([0..1] for floats or [0..255] for integers).\n",
            "Clipping input data to the valid range for imshow with RGB data ([0..1] for floats or [0..255] for integers).\n",
            "Clipping input data to the valid range for imshow with RGB data ([0..1] for floats or [0..255] for integers).\n",
            "Clipping input data to the valid range for imshow with RGB data ([0..1] for floats or [0..255] for integers).\n",
            "Clipping input data to the valid range for imshow with RGB data ([0..1] for floats or [0..255] for integers).\n",
            "Clipping input data to the valid range for imshow with RGB data ([0..1] for floats or [0..255] for integers).\n",
            "Clipping input data to the valid range for imshow with RGB data ([0..1] for floats or [0..255] for integers).\n",
            "Clipping input data to the valid range for imshow with RGB data ([0..1] for floats or [0..255] for integers).\n"
          ],
          "name": "stderr"
        },
        {
          "output_type": "display_data",
          "data": {
            "image/png": "[encoded data removed]",
            "text/plain": [
              "<Figure size 1440x288 with 10 Axes>"
            ]
          },
          "metadata": {
            "tags": [],
            "needs_background": "light"
          }
        }
      ]
    },
    {
      "cell_type": "markdown",
      "metadata": {
        "id": "sK3z-27PBVLn"
      },
      "source": [
        "**Note:** Do not expect perfect results. Our object detection network is over-simplified compared to state-of-the-art. Or more precisely, the loss function is far from ideal, so we are optmizing *the wrong objective*, so to say."
      ]
    },
    {
      "cell_type": "markdown",
      "metadata": {
        "id": "QJzrjPFn455A"
      },
      "source": [
        "##7. Task 5: Image segmentation with U-Net"
      ]
    },
    {
      "cell_type": "markdown",
      "metadata": {
        "id": "_zhuKLxG6wPG"
      },
      "source": [
        "###Representing the task\n",
        "Image segmentation is a form of image-to-image transformation. It outputs a softmax classification per pixel. So if the input image has size 64x64, and there are 10 classes, the output will have shape 64x64x10. That is, for each pixel the network outputs a vector of class probabilities:\n",
        "\n",
        "![alt text](https://miro.medium.com/max/498/1*P1ooLjeSwhxeJGyFawCvaQ.png)"
      ]
    },
    {
      "cell_type": "markdown",
      "metadata": {
        "id": "iWU_knJFHgtF"
      },
      "source": [
        "###Training data\n",
        "We will create training images (x_train_seg) of size 64x64, where two of the four quadrants will contain one handwritten digit. This is to illustrate that we can teach a network to identify and segment more than one digit per input image.\n",
        "\n",
        "The target output (`y_train_seg`) will be 64x64x10, with a one-hot vector for each pixel indicating the correct class."
      ]
    },
    {
      "cell_type": "code",
      "metadata": {
        "id": "5jS8Dwk6H2Qr"
      },
      "source": [
        "x_train_seg = np.zeros((5000,64,64,1))\n",
        "y_train_seg = np.zeros((5000,64,64,10))\n",
        "\n",
        "for i in range(5000):\n",
        "  \n",
        "  ## 1\n",
        "  q = np.random.randint(0,2) # 1st or 2nd image quadrant?\n",
        "  rand_ix = np.random.randint(0,x_train.shape[0])\n",
        "  x_off_start = np.random.randint(0,5)\n",
        "  y_off_start = np.random.randint(0,5)\n",
        "  x_train_seg[i,0+x_off_start:28+x_off_start,32*q+y_off_start:32*q+28+y_off_start,:] = x_train[rand_ix,:,:,:]\n",
        "\n",
        "  # Mask\n",
        "  tmp = x_train[rand_ix,:,:,:]\n",
        "  ix = np.where(tmp>0.1)\n",
        "  tmp = np.zeros(tmp.shape)\n",
        "  tmp[ix] = 1\n",
        "  label = np.argmax(y_train[rand_ix,:])\n",
        "  y_train_seg[i,0+x_off_start:28+x_off_start,32*q+y_off_start:32*q+28+y_off_start,label] = tmp.squeeze()\n",
        "  \n",
        "  ## 2\n",
        "  q = np.random.randint(0,2) #  3rd or 4th image quadrant?\n",
        "  rand_ix = np.random.randint(0,x_train.shape[0])\n",
        "  x_off_start = np.random.randint(0,5)\n",
        "  y_off_start = np.random.randint(0,5)\n",
        "  x_train_seg[i,32+x_off_start:32+28+x_off_start,32*q+y_off_start:32*q+28+y_off_start,:] = x_train[rand_ix,:,:,:]\n",
        "\n",
        "  # Mask\n",
        "  tmp = x_train[rand_ix,:,:,:]\n",
        "  ix = np.where(tmp>0.1)\n",
        "  tmp = np.zeros(tmp.shape)\n",
        "  tmp[ix] = 1\n",
        "  label = np.argmax(y_train[rand_ix,:])\n",
        "  y_train_seg[i,32+x_off_start:32+28+x_off_start,32*q+y_off_start:32*q+28+y_off_start,label] = tmp.squeeze()"
      ],
      "execution_count": 33,
      "outputs": []
    },
    {
      "cell_type": "markdown",
      "metadata": {
        "id": "eDCApMqM7Sqj"
      },
      "source": [
        "Show examples:"
      ]
    },
    {
      "cell_type": "code",
      "metadata": {
        "id": "sNh7RfpjM9rl",
        "outputId": "a050efcc-fc98-49b0-ebb2-e81ff83f4b26",
        "colab": {
          "base_uri": "https://localhost:8080/",
          "height": 429
        }
      },
      "source": [
        "# Show examples of input to output mappings\n",
        "for ex in range(5):\n",
        "  plt.figure(figsize=(20,6))\n",
        "  rand_ix = np.random.randint(0,5000)\n",
        "  ax = plt.subplot(1,11,1)\n",
        "  plt.imshow(x_train_seg[rand_ix,:,:,:].squeeze())\n",
        "  plt.title('Input image')\n",
        "  for i in range(10):\n",
        "    ax = plt.subplot(1,11,i+2)\n",
        "    plt.imshow(y_train_seg[rand_ix,:,:,i].squeeze())\n",
        "    plt.title(\"Out class \"+str(i))"
      ],
      "execution_count": 34,
      "outputs": [
        {
          "output_type": "display_data",
          "data": {
            "image/png": "[encoded data removed]",
            "text/plain": [
              "<Figure size 1440x432 with 11 Axes>"
            ]
          },
          "metadata": {
            "tags": [],
            "needs_background": "light"
          }
        },
        {
          "output_type": "display_data",
          "data": {
            "image/png": "[encoded data removed]",
            "text/plain": [
              "<Figure size 1440x432 with 11 Axes>"
            ]
          },
          "metadata": {
            "tags": [],
            "needs_background": "light"
          }
        },
        {
          "output_type": "display_data",
          "data": {
            "image/png": "[encoded data removed]",
            "text/plain": [
              "<Figure size 1440x432 with 11 Axes>"
            ]
          },
          "metadata": {
            "tags": [],
            "needs_background": "light"
          }
        },
        {
          "output_type": "display_data",
          "data": {
            "image/png": "[encoded data removed]",
            "text/plain": [
              "<Figure size 1440x432 with 11 Axes>"
            ]
          },
          "metadata": {
            "tags": [],
            "needs_background": "light"
          }
        },
        {
          "output_type": "display_data",
          "data": {
            "image/png": "[encoded data removed]",
            "text/plain": [
              "<Figure size 1440x432 with 11 Axes>"
            ]
          },
          "metadata": {
            "tags": [],
            "needs_background": "light"
          }
        }
      ]
    },
    {
      "cell_type": "markdown",
      "metadata": {
        "id": "rvyONqJ27jSl"
      },
      "source": [
        "**Your task** is to implement a function `show_segmentation` that takes a 64x64x10 volume of class probabilities as input (e.g., `y_train_seg`) and displays a 64x64 image, where the intensity is the class index with the highest probability."
      ]
    },
    {
      "cell_type": "markdown",
      "metadata": {
        "id": "oDnb6TwPFe62"
      },
      "source": [
        "###Solution:\n"
      ]
    },
    {
      "cell_type": "code",
      "metadata": {
        "id": "22kPniSl8Mh-",
        "outputId": "e510834f-4652-4dac-e624-8b9fdb7638b4",
        "colab": {
          "base_uri": "https://localhost:8080/",
          "height": 203
        }
      },
      "source": [
        "# Simply take argmax along depth channel\n",
        "def show_segmentation(x):\n",
        "  plt.imshow(np.argmax(x,axis=2),vmin=0,vmax=9)\n",
        "  \n",
        "plt.subplot(121);\n",
        "plt.imshow(x_train_seg[0,:,:,:].squeeze(),cmap='gray')\n",
        "plt.subplot(122)\n",
        "show_segmentation(y_train_seg[0,:,:,:].squeeze())"
      ],
      "execution_count": 35,
      "outputs": [
        {
          "output_type": "display_data",
          "data": {
            "image/png": "[encoded data removed]",
            "text/plain": [
              "<Figure size 432x288 with 2 Axes>"
            ]
          },
          "metadata": {
            "tags": [],
            "needs_background": "light"
          }
        }
      ]
    },
    {
      "cell_type": "markdown",
      "metadata": {
        "id": "sVfoiPrt_210"
      },
      "source": [
        "###U-Net for image segmentation\n",
        "See if you can implement a U-Net inspired by this one (not necessarily identical to), except that it should operate on 64x64 images instead of 128x128 images:\n",
        "\n",
        "![alt text](https://miro.medium.com/max/937/1*yzbjioOqZDYbO6yHMVpXVQ.jpeg)\n",
        "\n",
        "Recall that\n",
        "- 2@Conv layers means that two consecutive Convolution Layers are applied\n",
        "- c1, c2, ... c9 are the output tensors of Convolutional Layers\n",
        "- p1, p2, p3 and p4 are the output tensors of Max Pooling Layers\n",
        "- u6, u7, u8 and u9 are the output tensors of up-sampling (transposed convolutional is called `Conv2DTranspose` in Keras) layers.\n",
        "\n",
        "\n"
      ]
    },
    {
      "cell_type": "markdown",
      "metadata": {
        "id": "TY2kfPAwFj9b"
      },
      "source": [
        "###Solution\n",
        "Yours may differ :-)"
      ]
    },
    {
      "cell_type": "code",
      "metadata": {
        "id": "a_Yw6_PkkWkU",
        "outputId": "f63397b8-0eda-4bff-c3d4-014a2245d6cd",
        "colab": {
          "base_uri": "https://localhost:8080/"
        }
      },
      "source": [
        "from keras.layers import concatenate, Conv2DTranspose\n",
        "\n",
        "def depthwiseSoftmax(x):\n",
        "    return softmax(x,axis=3)\n",
        "\n",
        "inputs = Input(shape=(64, 64, 1))\n",
        "\n",
        "# Encoder\n",
        "c1 = Conv2D(8, 3, activation = 'relu', padding = 'same', kernel_initializer = 'he_normal')(inputs)\n",
        "c1 = Conv2D(8, 3, activation = 'relu', padding = 'same', kernel_initializer = 'he_normal')(c1)\n",
        "p1 = MaxPooling2D(pool_size=(2, 2))(c1)\n",
        "c2 = Conv2D(16, 3, activation = 'relu', padding = 'same', kernel_initializer = 'he_normal')(p1)\n",
        "c2 = Conv2D(16, 3, activation = 'relu', padding = 'same', kernel_initializer = 'he_normal')(c2)\n",
        "p2 = MaxPooling2D(pool_size=(2, 2))(c2)\n",
        "c3 = Conv2D(32, 3, activation = 'relu', padding = 'same', kernel_initializer = 'he_normal')(p2)\n",
        "c3 = Conv2D(32, 3, activation = 'relu', padding = 'same', kernel_initializer = 'he_normal')(c3)\n",
        "p3 = MaxPooling2D(pool_size=(2, 2))(c3)\n",
        "c4 = Conv2D(64, 3, activation = 'relu', padding = 'same', kernel_initializer = 'he_normal')(p3)\n",
        "c4 = Conv2D(64, 3, activation = 'relu', padding = 'same', kernel_initializer = 'he_normal')(c4)\n",
        "\n",
        "# Decoder\n",
        "u5 = Conv2DTranspose(32, (3, 3), strides = (2, 2), padding = 'same')(c4)\n",
        "u5 = concatenate([c3,u5], axis = 3)\n",
        "c5 = Conv2D(32, 3, activation = 'relu', padding = 'same', kernel_initializer = 'he_normal')(u5)\n",
        "c5 = Conv2D(32, 3, activation = 'relu', padding = 'same', kernel_initializer = 'he_normal')(c5)\n",
        "u6 = Conv2DTranspose(16, (3, 3), strides = (2, 2), padding = 'same')(c5)\n",
        "u6 = concatenate([c2,u6], axis = 3)\n",
        "c6 = Conv2D(16, 3, activation = 'relu', padding = 'same', kernel_initializer = 'he_normal')(u6)\n",
        "c6 = Conv2D(16, 3, activation = 'relu', padding = 'same', kernel_initializer = 'he_normal')(c6)\n",
        "\n",
        "u7 = Conv2DTranspose(8, (3, 3), strides = (2, 2), padding = 'same')(c6)\n",
        "u7 = concatenate([c1,u7], axis = 3)\n",
        "c7 = Conv2D(8, 3, activation = 'relu', padding = 'same', kernel_initializer = 'he_normal')(u7)\n",
        "c7 = Conv2D(8, 3, activation = 'relu', padding = 'same', kernel_initializer = 'he_normal')(c7)\n",
        "\n",
        "# Perform softmax on each pixel, so axis should be 3 because output has shape: batch_size x 64 x 64 x num_classes\n",
        "c8 = Conv2D(num_classes, 1, activation = depthwiseSoftmax)(c7)\n",
        "\n",
        "model = Model(inputs, c8)\n",
        "model.summary()\n",
        "model.compile(optimizer='Adam', loss = 'binary_crossentropy')"
      ],
      "execution_count": 38,
      "outputs": [
        {
          "output_type": "stream",
          "text": [
            "Model: \"functional_11\"\n",
            "__________________________________________________________________________________________________\n",
            "Layer (type)                    Output Shape         Param #     Connected to                     \n",
            "==================================================================================================\n",
            "input_7 (InputLayer)            [(None, 64, 64, 1)]  0                                            \n",
            "__________________________________________________________________________________________________\n",
            "conv2d_58 (Conv2D)              (None, 64, 64, 8)    80          input_7[0][0]                    \n",
            "__________________________________________________________________________________________________\n",
            "conv2d_59 (Conv2D)              (None, 64, 64, 8)    584         conv2d_58[0][0]                  \n",
            "__________________________________________________________________________________________________\n",
            "max_pooling2d_23 (MaxPooling2D) (None, 32, 32, 8)    0           conv2d_59[0][0]                  \n",
            "__________________________________________________________________________________________________\n",
            "conv2d_60 (Conv2D)              (None, 32, 32, 16)   1168        max_pooling2d_23[0][0]           \n",
            "__________________________________________________________________________________________________\n",
            "conv2d_61 (Conv2D)              (None, 32, 32, 16)   2320        conv2d_60[0][0]                  \n",
            "__________________________________________________________________________________________________\n",
            "max_pooling2d_24 (MaxPooling2D) (None, 16, 16, 16)   0           conv2d_61[0][0]                  \n",
            "__________________________________________________________________________________________________\n",
            "conv2d_62 (Conv2D)              (None, 16, 16, 32)   4640        max_pooling2d_24[0][0]           \n",
            "__________________________________________________________________________________________________\n",
            "conv2d_63 (Conv2D)              (None, 16, 16, 32)   9248        conv2d_62[0][0]                  \n",
            "__________________________________________________________________________________________________\n",
            "max_pooling2d_25 (MaxPooling2D) (None, 8, 8, 32)     0           conv2d_63[0][0]                  \n",
            "__________________________________________________________________________________________________\n",
            "conv2d_64 (Conv2D)              (None, 8, 8, 64)     18496       max_pooling2d_25[0][0]           \n",
            "__________________________________________________________________________________________________\n",
            "conv2d_65 (Conv2D)              (None, 8, 8, 64)     36928       conv2d_64[0][0]                  \n",
            "__________________________________________________________________________________________________\n",
            "conv2d_transpose_6 (Conv2DTrans (None, 16, 16, 32)   18464       conv2d_65[0][0]                  \n",
            "__________________________________________________________________________________________________\n",
            "concatenate_7 (Concatenate)     (None, 16, 16, 64)   0           conv2d_63[0][0]                  \n",
            "                                                                 conv2d_transpose_6[0][0]         \n",
            "__________________________________________________________________________________________________\n",
            "conv2d_66 (Conv2D)              (None, 16, 16, 32)   18464       concatenate_7[0][0]              \n",
            "__________________________________________________________________________________________________\n",
            "conv2d_67 (Conv2D)              (None, 16, 16, 32)   9248        conv2d_66[0][0]                  \n",
            "__________________________________________________________________________________________________\n",
            "conv2d_transpose_7 (Conv2DTrans (None, 32, 32, 16)   4624        conv2d_67[0][0]                  \n",
            "__________________________________________________________________________________________________\n",
            "concatenate_8 (Concatenate)     (None, 32, 32, 32)   0           conv2d_61[0][0]                  \n",
            "                                                                 conv2d_transpose_7[0][0]         \n",
            "__________________________________________________________________________________________________\n",
            "conv2d_68 (Conv2D)              (None, 32, 32, 16)   4624        concatenate_8[0][0]              \n",
            "__________________________________________________________________________________________________\n",
            "conv2d_69 (Conv2D)              (None, 32, 32, 16)   2320        conv2d_68[0][0]                  \n",
            "__________________________________________________________________________________________________\n",
            "conv2d_transpose_8 (Conv2DTrans (None, 64, 64, 8)    1160        conv2d_69[0][0]                  \n",
            "__________________________________________________________________________________________________\n",
            "concatenate_9 (Concatenate)     (None, 64, 64, 16)   0           conv2d_59[0][0]                  \n",
            "                                                                 conv2d_transpose_8[0][0]         \n",
            "__________________________________________________________________________________________________\n",
            "conv2d_70 (Conv2D)              (None, 64, 64, 8)    1160        concatenate_9[0][0]              \n",
            "__________________________________________________________________________________________________\n",
            "conv2d_71 (Conv2D)              (None, 64, 64, 8)    584         conv2d_70[0][0]                  \n",
            "__________________________________________________________________________________________________\n",
            "conv2d_72 (Conv2D)              (None, 64, 64, 10)   90          conv2d_71[0][0]                  \n",
            "==================================================================================================\n",
            "Total params: 134,202\n",
            "Trainable params: 134,202\n",
            "Non-trainable params: 0\n",
            "__________________________________________________________________________________________________\n"
          ],
          "name": "stdout"
        }
      ]
    },
    {
      "cell_type": "markdown",
      "metadata": {
        "id": "By1_TT4pOrpu"
      },
      "source": [
        "###Training"
      ]
    },
    {
      "cell_type": "code",
      "metadata": {
        "id": "iu1bZx4J65lM",
        "outputId": "874b5972-d326-41c7-d53b-eefd5a027788",
        "colab": {
          "base_uri": "https://localhost:8080/"
        }
      },
      "source": [
        "model.fit(x_train_seg, y_train_seg, epochs=30, batch_size=64,shuffle=True,verbose=1)"
      ],
      "execution_count": 40,
      "outputs": [
        {
          "output_type": "stream",
          "text": [
            "Epoch 1/30\n",
            "79/79 [==============================] - 2s 30ms/step - loss: 0.1199\n",
            "Epoch 2/30\n",
            "79/79 [==============================] - 2s 28ms/step - loss: 0.1175\n",
            "Epoch 3/30\n",
            "79/79 [==============================] - 2s 28ms/step - loss: 0.1133\n",
            "Epoch 4/30\n",
            "79/79 [==============================] - 2s 28ms/step - loss: 0.1080\n",
            "Epoch 5/30\n",
            "79/79 [==============================] - 2s 28ms/step - loss: 0.1053\n",
            "Epoch 6/30\n",
            "79/79 [==============================] - 2s 28ms/step - loss: 0.1033\n",
            "Epoch 7/30\n",
            "79/79 [==============================] - 2s 28ms/step - loss: 0.1024\n",
            "Epoch 8/30\n",
            "79/79 [==============================] - 2s 28ms/step - loss: 0.1017\n",
            "Epoch 9/30\n",
            "79/79 [==============================] - 2s 29ms/step - loss: 0.1013\n",
            "Epoch 10/30\n",
            "79/79 [==============================] - 2s 28ms/step - loss: 0.1007\n",
            "Epoch 11/30\n",
            "79/79 [==============================] - 2s 29ms/step - loss: 0.1006\n",
            "Epoch 12/30\n",
            "79/79 [==============================] - 2s 29ms/step - loss: 0.1005\n",
            "Epoch 13/30\n",
            "79/79 [==============================] - 2s 28ms/step - loss: 0.1002\n",
            "Epoch 14/30\n",
            "79/79 [==============================] - 2s 28ms/step - loss: 0.1000\n",
            "Epoch 15/30\n",
            "79/79 [==============================] - 2s 29ms/step - loss: 0.1001\n",
            "Epoch 16/30\n",
            "79/79 [==============================] - 2s 29ms/step - loss: 0.1001\n",
            "Epoch 17/30\n",
            "79/79 [==============================] - 2s 28ms/step - loss: 0.0997\n",
            "Epoch 18/30\n",
            "79/79 [==============================] - 2s 29ms/step - loss: 0.0997\n",
            "Epoch 19/30\n",
            "79/79 [==============================] - 2s 29ms/step - loss: 0.0997\n",
            "Epoch 20/30\n",
            "79/79 [==============================] - 2s 29ms/step - loss: 0.0994\n",
            "Epoch 21/30\n",
            "79/79 [==============================] - 2s 29ms/step - loss: 0.0993\n",
            "Epoch 22/30\n",
            "79/79 [==============================] - 2s 29ms/step - loss: 0.0992\n",
            "Epoch 23/30\n",
            "79/79 [==============================] - 2s 29ms/step - loss: 0.0992\n",
            "Epoch 24/30\n",
            "79/79 [==============================] - 2s 29ms/step - loss: 0.0991\n",
            "Epoch 25/30\n",
            "79/79 [==============================] - 2s 29ms/step - loss: 0.0994\n",
            "Epoch 26/30\n",
            "79/79 [==============================] - 2s 29ms/step - loss: 0.1001\n",
            "Epoch 27/30\n",
            "79/79 [==============================] - 2s 29ms/step - loss: 0.0998\n",
            "Epoch 28/30\n",
            "79/79 [==============================] - 2s 29ms/step - loss: 0.0994\n",
            "Epoch 29/30\n",
            "79/79 [==============================] - 2s 29ms/step - loss: 0.0993\n",
            "Epoch 30/30\n",
            "79/79 [==============================] - 2s 29ms/step - loss: 0.0991\n"
          ],
          "name": "stdout"
        },
        {
          "output_type": "execute_result",
          "data": {
            "text/plain": [
              "<tensorflow.python.keras.callbacks.History at 0x7efdabbcb5f8>"
            ]
          },
          "metadata": {
            "tags": []
          },
          "execution_count": 40
        }
      ]
    },
    {
      "cell_type": "markdown",
      "metadata": {
        "id": "ECy9tSPLOuG2"
      },
      "source": [
        "###Model evaluation"
      ]
    },
    {
      "cell_type": "code",
      "metadata": {
        "id": "vY7F1-seFTBs",
        "outputId": "cec208a3-4bf9-484e-df90-dd69ac702873",
        "colab": {
          "base_uri": "https://localhost:8080/",
          "height": 779
        }
      },
      "source": [
        "# Pick 4 random examples\n",
        "rand_ix = np.random.randint(0,5000,4)\n",
        "out = model.predict(x_train_seg[rand_ix,:,:,:])\n",
        "ref = y_train_seg[rand_ix,:,:,:].squeeze()\n",
        "for k in range(4):\n",
        "  plt.figure(figsize=(20,4))\n",
        "  plt.subplot(1,3,1)\n",
        "  plt.imshow(x_train_seg[rand_ix[k],:,:,:].squeeze(),cmap='gray')\n",
        "  plt.title('Input image')\n",
        "  ax.get_xaxis().set_visible(False)\n",
        "  ax.get_yaxis().set_visible(False)\n",
        "\n",
        "  plt.subplot(1,3,2)\n",
        "  show_segmentation(ref[k,:,:,:].squeeze())\n",
        "  plt.title('Ground truth')\n",
        "  ax.get_xaxis().set_visible(False)\n",
        "  ax.get_yaxis().set_visible(False)\n",
        "\n",
        "  plt.subplot(1,3,3)\n",
        "  show_segmentation(out[k,:,:,:].squeeze())\n",
        "  plt.title('Predicted')\n",
        "  ax.get_xaxis().set_visible(False)\n",
        "  ax.get_yaxis().set_visible(False)"
      ],
      "execution_count": 41,
      "outputs": [
        {
          "output_type": "stream",
          "text": [
            "WARNING:tensorflow:7 out of the last 3142 calls to <function Model.make_predict_function.<locals>.predict_function at 0x7efdaba130d0> triggered tf.function retracing. Tracing is expensive and the excessive number of tracings could be due to (1) creating @tf.function repeatedly in a loop, (2) passing tensors with different shapes, (3) passing Python objects instead of tensors. For (1), please define your @tf.function outside of the loop. For (2), @tf.function has experimental_relax_shapes=True option that relaxes argument shapes that can avoid unnecessary retracing. For (3), please refer to https://www.tensorflow.org/tutorials/customization/performance#python_or_tensor_args and https://www.tensorflow.org/api_docs/python/tf/function for  more details.\n"
          ],
          "name": "stdout"
        },
        {
          "output_type": "display_data",
          "data": {
            "image/png": "[encoded data removed]",
            "text/plain": [
              "<Figure size 1440x288 with 3 Axes>"
            ]
          },
          "metadata": {
            "tags": [],
            "needs_background": "light"
          }
        },
        {
          "output_type": "display_data",
          "data": {
            "image/png": "[encoded data removed]",
            "text/plain": [
              "<Figure size 1440x288 with 3 Axes>"
            ]
          },
          "metadata": {
            "tags": [],
            "needs_background": "light"
          }
        },
        {
          "output_type": "display_data",
          "data": {
            "image/png": "[encoded data removed]",
            "text/plain": [
              "<Figure size 1440x288 with 3 Axes>"
            ]
          },
          "metadata": {
            "tags": [],
            "needs_background": "light"
          }
        },
        {
          "output_type": "display_data",
          "data": {
            "image/png": "[encoded data removed]",
            "text/plain": [
              "<Figure size 1440x288 with 3 Axes>"
            ]
          },
          "metadata": {
            "tags": [],
            "needs_background": "light"
          }
        }
      ]
    },
    {
      "cell_type": "code",
      "metadata": {
        "id": "GAM9E9zorT9W"
      },
      "source": [
        ""
      ],
      "execution_count": null,
      "outputs": []
    }
  ]
}