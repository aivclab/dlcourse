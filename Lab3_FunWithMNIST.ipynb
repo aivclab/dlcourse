{
  "nbformat": 4,
  "nbformat_minor": 0,
  "metadata": {
    "colab": {
      "name": "Lab3_FunWithMNIST.ipynb",
      "provenance": [],
      "collapsed_sections": [],
      "toc_visible": true
    },
    "kernelspec": {
      "name": "python3",
      "display_name": "Python 3"
    },
    "accelerator": "GPU"
  },
  "cells": [
    {
      "cell_type": "markdown",
      "metadata": {
        "id": "REaV1GblZovs",
        "colab_type": "text"
      },
      "source": [
        "#Fun with MNIST\n",
        "Convolutional Neural Networks (CNNs) are able to solve a wide range of computer vision tasks. In this Lab you will learn about\n",
        "\n",
        "- Image classification\n",
        "- Convolutional AutoEncoders\n",
        "- Denoising AutoEncoders\n",
        "- Image super resolution\n",
        "- Image regression\n",
        "- Image segmentation\n",
        "- Object detection\n",
        "- Few-shot learning with Siamese networks\n",
        "- Generative Adversarial Networks (GANs)\n",
        "\n",
        "The purpose of the Lab is to give your some intuition about how to tweak CNNs to solve different tasks.\n",
        "\n",
        "**Before we start - remember to set runtime to GPU**"
      ]
    },
    {
      "cell_type": "markdown",
      "metadata": {
        "id": "Qc8RJkIJaxap",
        "colab_type": "text"
      },
      "source": [
        "##Task 1: Downloading and pre-processing the MNIST dataset\n",
        "The MNIST dataset of handwritten digits is so commonly used that it comes with most deep learning frameworks, including Keras. Let's download the dataset and explore a little bit."
      ]
    },
    {
      "cell_type": "code",
      "metadata": {
        "id": "r-_9ZwQkiGQg",
        "colab_type": "code",
        "colab": {}
      },
      "source": [
        "from __future__ import print_function\n",
        "import keras\n",
        "from keras.datasets import mnist\n",
        "from keras import backend as K\n",
        "\n",
        "num_classes = 10\n",
        "\n",
        "# input image dimensions\n",
        "img_rows, img_cols = 28, 28\n",
        "\n",
        "# the data, split between train and test sets\n",
        "(x_train, y_train), (x_test, y_test) = mnist.load_data()\n",
        "\n",
        "if K.image_data_format() == 'channels_first':\n",
        "    x_train = x_train.reshape(x_train.shape[0], 1, img_rows, img_cols)\n",
        "    x_test = x_test.reshape(x_test.shape[0], 1, img_rows, img_cols)\n",
        "    input_shape = (1, img_rows, img_cols)\n",
        "else:\n",
        "    x_train = x_train.reshape(x_train.shape[0], img_rows, img_cols, 1)\n",
        "    x_test = x_test.reshape(x_test.shape[0], img_rows, img_cols, 1)\n",
        "    input_shape = (img_rows, img_cols, 1)\n",
        "\n",
        "# Pre-process inputs\n",
        "x_train = x_train.astype('float32')\n",
        "x_test = x_test.astype('float32')\n",
        "x_train /= 255\n",
        "x_test /= 255\n",
        "\n",
        "# Convert class indices to one-hot vectors\n",
        "y_train = keras.utils.to_categorical(y_train, num_classes)\n",
        "y_test = keras.utils.to_categorical(y_test, num_classes)"
      ],
      "execution_count": null,
      "outputs": []
    },
    {
      "cell_type": "markdown",
      "metadata": {
        "id": "xHvyXrdliPFE",
        "colab_type": "text"
      },
      "source": [
        "###Questions 1.1\n",
        "1. What is the input shape?\n",
        "2. How many training examples are there?\n",
        "3. How many test examples are there?\n",
        "4. What does `to_categorical` do?"
      ]
    },
    {
      "cell_type": "markdown",
      "metadata": {
        "id": "5OX-mswCi2vY",
        "colab_type": "text"
      },
      "source": [
        "##Task 2: Logistic regression\n",
        "Now, let's define a tiny Keras model for logistic regression. Mathematically this model outputs a 10-dimensional vector `y` of class probabilities, where\n",
        "\n",
        "\n",
        "```\n",
        "y = softmax(W*x + b)\n",
        "```\n",
        "\n",
        "and\n",
        "- `x` is a 28x28 = 784-dimensional vector corresponding to the input image, \n",
        "- `W` is a 10 x 784 matrix of weights\n",
        "- `b` is a 10-dimensional vector of biases\n",
        "\n",
        "Defining models in Keras is not very intuitive from a mathematical perspective. Here is one way to implement the equation above using Keras' [Sequential API](https://keras.io/getting-started/sequential-model-guide/). A Sequential model is a just a linear stack of layers."
      ]
    },
    {
      "cell_type": "code",
      "metadata": {
        "id": "HSqZ3O4ocxQ-",
        "colab_type": "code",
        "colab": {}
      },
      "source": [
        "from keras.models import Sequential\n",
        "from keras.layers import Dense, Flatten, Activation\n",
        "\n",
        "# Model\n",
        "model = Sequential()\n",
        "model.add(Flatten(input_shape=input_shape))\n",
        "model.add(Dense(num_classes))\n",
        "model.add(Activation('softmax'))\n",
        "\n",
        "model.summary()"
      ],
      "execution_count": null,
      "outputs": []
    },
    {
      "cell_type": "markdown",
      "metadata": {
        "id": "CJBX3bW9kaq8",
        "colab_type": "text"
      },
      "source": [
        "###Questions 2.1\n",
        "1. What does Flatten() do and why is it necessary to have it here?\n",
        "2. What does Dense() do, and why does it have 7850 parameters?\n",
        "3. What does Activation() do?"
      ]
    },
    {
      "cell_type": "markdown",
      "metadata": {
        "id": "7PqpHs6EgXMP",
        "colab_type": "text"
      },
      "source": [
        "###Training"
      ]
    },
    {
      "cell_type": "markdown",
      "metadata": {
        "id": "eABHA5aSmBdy",
        "colab_type": "text"
      },
      "source": [
        "Now, let's train the model for 10 iterations (epochs). We will be using the cross entropy loss for multiple classes and stochastic gradient descent (SGD). The difference between normal gradient descent and SGD is that normal gradient descent calculates the gradients based on all training examples, whereas SGD approximates the gradient by calculating it on small batches (of size 128 in this example)."
      ]
    },
    {
      "cell_type": "code",
      "metadata": {
        "id": "qimN5at5djhI",
        "colab_type": "code",
        "colab": {}
      },
      "source": [
        "batch_size = 128\n",
        "epochs = 10\n",
        "\n",
        "# Compile the model before training\n",
        "model.compile(optimizer='sgd',loss='categorical_crossentropy',metrics=['accuracy'])\n",
        "\n",
        "# Fit model\n",
        "history = model.fit(x_train, y_train,\n",
        "            batch_size=batch_size,\n",
        "            epochs=epochs,\n",
        "            verbose=1,\n",
        "            validation_data=(x_test, y_test))\n",
        "\n",
        "score = model.evaluate(x_test, y_test, verbose=0)\n",
        "print('Test loss:', score[0])\n",
        "print('Test accuracy:', score[1])"
      ],
      "execution_count": null,
      "outputs": []
    },
    {
      "cell_type": "markdown",
      "metadata": {
        "id": "q_r7oO_Pm8TK",
        "colab_type": "text"
      },
      "source": [
        "###Model evaluation\n",
        "You can visualize the loss and accuracy curves like this:"
      ]
    },
    {
      "cell_type": "code",
      "metadata": {
        "id": "gj2-tNJShfjj",
        "colab_type": "code",
        "colab": {}
      },
      "source": [
        "import matplotlib.pyplot as plt\n",
        "\n",
        "def show_history(history):\n",
        "  plt.figure(figsize=(20,6))\n",
        "\n",
        "  # summarize history for accuracy\n",
        "  plt.subplot(121)\n",
        "  plt.plot(history.history['accuracy'])\n",
        "  plt.plot(history.history['val_accuracy'])\n",
        "  plt.title('model accuracy')\n",
        "  plt.ylabel('accuracy')\n",
        "  plt.xlabel('epoch')\n",
        "  plt.legend(['train', 'test'], loc='upper left')\n",
        "\n",
        "  # summarize history for loss\n",
        "  plt.subplot(122)\n",
        "  plt.plot(history.history['loss'])\n",
        "  plt.plot(history.history['val_loss'])\n",
        "  plt.title('model loss')\n",
        "  plt.ylabel('loss')\n",
        "  plt.xlabel('epoch')\n",
        "  plt.legend(['train', 'test'], loc='upper left')\n",
        "  plt.show()\n",
        "\n",
        "show_history(history)"
      ],
      "execution_count": null,
      "outputs": []
    },
    {
      "cell_type": "markdown",
      "metadata": {
        "id": "U8v3SUB2o-Tp",
        "colab_type": "text"
      },
      "source": [
        "###Task 2.1: Training on a smaller data set\n",
        "Training on the entire MNIST training data set is guaranteed to work (almost) always. Simply because of the large number of images in the training set. This is boring. So let's make our problem a little more challenging by reducing the number of training examples to just 10 from each class. "
      ]
    },
    {
      "cell_type": "code",
      "metadata": {
        "id": "wxOTzj5tp46I",
        "colab_type": "code",
        "colab": {}
      },
      "source": [
        "import numpy as np\n",
        "\n",
        "# create smaller training set\n",
        "digit_indices = np.asarray([np.where(np.argmax(y_train,axis=1) == i)[0][np.random.randint(0,5000,10)] for i in range(num_classes)]).flatten()\n",
        "x_train_small = x_train[digit_indices,:]\n",
        "y_train_small = y_train[digit_indices,:]"
      ],
      "execution_count": null,
      "outputs": []
    },
    {
      "cell_type": "code",
      "metadata": {
        "id": "5ZVxQgYIIG7Y",
        "colab_type": "code",
        "colab": {}
      },
      "source": [
        "batch_size = 20\n",
        "epochs = 50 # We need more epochs because we have fewer training samples\n",
        "\n",
        "# Model (redefine the model in order to reinitialize the weights to random values)\n",
        "model = Sequential()\n",
        "model.add(Flatten(input_shape=input_shape))\n",
        "model.add(Dense(num_classes))\n",
        "model.add(Activation('softmax'))\n",
        "\n",
        "# Compile the model before training\n",
        "model.compile(optimizer=keras.optimizers.SGD(),loss='categorical_crossentropy',metrics=['accuracy'])\n",
        "\n",
        "# Fit model (this will take a little while. Set verbose to 1 if you want to see how training progresses)\n",
        "history = model.fit(x_train_small, y_train_small,\n",
        "            batch_size=batch_size,\n",
        "            epochs=epochs,\n",
        "            validation_data=(x_test, y_test),\n",
        "            verbose=0,\n",
        "            shuffle=True)\n",
        "\n",
        "score = model.evaluate(x_test, y_test, verbose=0)\n",
        "print('Test loss:', score[0])\n",
        "print('Test accuracy:', score[1])\n",
        "\n",
        "# Plot old vs new loss\n",
        "show_history(history)"
      ],
      "execution_count": null,
      "outputs": []
    },
    {
      "cell_type": "markdown",
      "metadata": {
        "id": "nkmF52862hxn",
        "colab_type": "text"
      },
      "source": [
        "###Question 2.2\n",
        "1. What is the accuracy of our model on the small data set?\n",
        "2. Try to modify the batch size. Do you notice any differences during training?"
      ]
    },
    {
      "cell_type": "markdown",
      "metadata": {
        "id": "jypf_eK3Iopc",
        "colab_type": "text"
      },
      "source": [
        "###Task 2.2: Finding a better learning rate\n",
        "Your task is to find a better learning rate than the default used above, which is 0.01. You can adjust the learning rate by setting the `lr` argument of keras.optimizer.SGD:\n",
        "\n",
        "```\n",
        "keras.optimizers.SGD(lr=0.01)\n",
        "```\n",
        "\n",
        "To make the process of finding a better learning rate faster, you may want to initially lower the number of epochs. When you are done searhing for a better learning rate, retrain your model with 200 epochs.\n"
      ]
    },
    {
      "cell_type": "markdown",
      "metadata": {
        "id": "bTIMPPIXnmps",
        "colab_type": "text"
      },
      "source": [
        "###Task 2.3: Displaying the learned weights\n",
        "Figure out a way to extract the learned weight matrix `W` from the model.\n",
        "\n",
        "Then display them as images (there are 10 classes and one 28x28 weight image per class):"
      ]
    },
    {
      "cell_type": "code",
      "metadata": {
        "id": "eTDJCvLqn_3n",
        "colab_type": "code",
        "colab": {}
      },
      "source": [
        "W = # Your code goes here\n",
        "W = W.reshape((28,28,10)) # there are 10 classes and one 28x28 weight image per class\n",
        "plt.figure(figsize=(20,4))\n",
        "for i in range(10):\n",
        "  ax = plt.subplot(2,5,i+1)\n",
        "  plt.imshow(W[:,:,i])\n",
        "  ax.get_xaxis().set_visible(False)\n",
        "  ax.get_yaxis().set_visible(False)\n",
        "  plt.gray()"
      ],
      "execution_count": null,
      "outputs": []
    },
    {
      "cell_type": "markdown",
      "metadata": {
        "id": "d_HLWIZ7MUms",
        "colab_type": "text"
      },
      "source": [
        "###Task 2.4: Weight decay\n",
        "With only 10 observations per class in our training data set, it is very likely that our model overfits the training data. This leads to poor generalization (i.e., the model doesn't work that well on unseen data).\n",
        "\n",
        "One way to avoid overfitting is by means of regularization. The best kind of regularization is \"adding more data\" (of course). Another possibility is to use weight decay.\n",
        "\n",
        "So let's try to modify the loss function of the model by adding an L2 regularization term. The regularization term is added using an extra parameter to the Dense layer function.\n",
        "\n",
        "Compare the performance (accuracy) with the first model with the default learning rate. Don't expect a huge gain in performance (I got around 71%)."
      ]
    },
    {
      "cell_type": "code",
      "metadata": {
        "id": "uiY_I0FKLmBv",
        "colab_type": "code",
        "colab": {}
      },
      "source": [
        "epochs = 50\n",
        "\n",
        "# lamda is the weight of the L2 penalty term\n",
        "lamda = 1\n",
        "L2_regularizer = keras.regularizers.l2(lamda)\n",
        "\n",
        "# Model\n",
        "model = Sequential()\n",
        "model.add(Flatten(input_shape=input_shape))\n",
        "model.add(Dense(num_classes,\n",
        "                activation='softmax',\n",
        "                kernel_regularizer=L2_regularizer))\n",
        "\n",
        "# Training\n",
        "model.compile(optimizer=keras.optimizers.SGD(),loss='categorical_crossentropy',metrics=['accuracy'])\n",
        "history_reg = model.fit(x_train_small, y_train_small,\n",
        "            batch_size=batch_size,\n",
        "            epochs=epochs,\n",
        "            verbose=0,\n",
        "            validation_data=(x_test, y_test))\n",
        "\n",
        "# Evaluation\n",
        "score = model.evaluate(x_test, y_test, verbose=0)\n",
        "print('Test loss:', score[0])\n",
        "print('Test accuracy:', score[1])\n",
        "\n",
        "# Plot old vs new loss\n",
        "print(\"Loss curves with old learning rate (0.01)\")\n",
        "show_history(history)\n",
        "print(\"Loss curves with new learning rate (0.1)\")\n",
        "show_history(history_reg)"
      ],
      "execution_count": null,
      "outputs": []
    },
    {
      "cell_type": "markdown",
      "metadata": {
        "id": "-OigocSPpfuo",
        "colab_type": "text"
      },
      "source": [
        "**Now comes the interesting part:** Try once more to display the weights - this time of the regularized model."
      ]
    },
    {
      "cell_type": "code",
      "metadata": {
        "id": "4Ry1Am1ddFV9",
        "colab_type": "code",
        "colab": {}
      },
      "source": [
        "#W = # Your code goes here\n",
        "W = W.reshape((28,28,10))\n",
        "plt.figure(figsize=(20,4))\n",
        "for i in range(10):\n",
        "  ax = plt.subplot(2,5,i+1)\n",
        "  plt.imshow(W[:,:,i])\n",
        "  ax.get_xaxis().set_visible(False)\n",
        "  ax.get_yaxis().set_visible(False)\n",
        "  plt.gray()"
      ],
      "execution_count": null,
      "outputs": []
    },
    {
      "cell_type": "markdown",
      "metadata": {
        "id": "1rivkoCuppm3",
        "colab_type": "text"
      },
      "source": [
        "###Questions 2.2\n",
        "1. How do the weights of the regularized model differ from the weights of the non-regularized model?\n",
        "2. Can you explain why?"
      ]
    },
    {
      "cell_type": "markdown",
      "metadata": {
        "id": "_Y2gg6tWesR1",
        "colab_type": "text"
      },
      "source": [
        "###Functional API instead of Sequential API\n",
        "The models above have been specified using Keras' [Sequential API](https://keras.io/getting-started/sequential-model-guide/). Keras also allows you to specify models a [Functional API](https://keras.io/getting-started/functional-api-guide/). The Keras functional API is the way to go for defining complex models, such as multi-output models, directed acyclic graphs, or models with shared layers.\n",
        "\n",
        "Here is how to set up the logistic regression model using the functional API:"
      ]
    },
    {
      "cell_type": "code",
      "metadata": {
        "id": "rZ3KOeSjpoTJ",
        "colab_type": "code",
        "colab": {}
      },
      "source": [
        "from keras.layers import Input\n",
        "from keras.models import Model\n",
        "\n",
        "# This returns a tensor\n",
        "inputs = Input(shape=input_shape)\n",
        "\n",
        "# A layer instance is callable on a tensor, and returns a tensor\n",
        "x = Flatten()(inputs)\n",
        "x = Dense(num_classes)(x)\n",
        "predictions = Activation('softmax')(x)\n",
        "\n",
        "# This creates a model that includes the Input layer and the prediction layer\n",
        "model = Model(inputs=inputs, outputs=predictions)\n",
        "\n",
        "# Training\n",
        "model.compile(optimizer='sgd',loss='categorical_crossentropy',metrics=['accuracy'])\n",
        "model.fit(x_train, y_train,\n",
        "          batch_size=50,\n",
        "          epochs=5,\n",
        "          verbose=1,\n",
        "          validation_data=(x_test, y_test))\n",
        "\n",
        "# Evaluation\n",
        "score = model.evaluate(x_test, y_test, verbose=0)\n",
        "print('Test loss:', score[0])\n",
        "print('Test accuracy:', score[1])"
      ],
      "execution_count": null,
      "outputs": []
    },
    {
      "cell_type": "markdown",
      "metadata": {
        "id": "zHf86VZYlrAB",
        "colab_type": "text"
      },
      "source": [
        "##Task 3: Our first CNN\n",
        "Here we will build and train our own CNN.\n",
        "\n",
        "Here is a simple example:"
      ]
    },
    {
      "cell_type": "code",
      "metadata": {
        "id": "wvHAmMda0uNE",
        "colab_type": "code",
        "colab": {}
      },
      "source": [
        "from keras.layers import Dropout\n",
        "from keras.layers import Conv2D, MaxPooling2D\n",
        "\n",
        "inputs = Input(shape=(28, 28, 1))\n",
        "\n",
        "# Encoder (convolutional base)\n",
        "x = Conv2D(8, kernel_size=(3, 3), activation='relu')(inputs)\n",
        "x = MaxPooling2D((2, 2))(x)\n",
        "x = Conv2D(16, kernel_size=(3, 3), activation='relu')(x)\n",
        "x = MaxPooling2D((2, 2))(x)\n",
        "x = Conv2D(32, kernel_size=(3, 3), activation='relu')(x)\n",
        "encoded = Flatten()(x)\n",
        "\n",
        "# Decoder (2 fully connected layers)\n",
        "x = Dense(64, activation='relu')(encoded)\n",
        "x = Dropout(0.5)(x)\n",
        "predictions = Dense(num_classes,activation='softmax')(x)\n",
        "\n",
        "# This creates a callable model that includes the Input layer and the prediction layer\n",
        "model = Model(inputs=inputs, outputs=predictions)\n",
        "\n",
        "model.summary()"
      ],
      "execution_count": null,
      "outputs": []
    },
    {
      "cell_type": "markdown",
      "metadata": {
        "id": "SNATzsjAnWCi",
        "colab_type": "text"
      },
      "source": [
        "###Questions 3.1\n",
        "1. How many layers does this CNN have?\n",
        "2. What does the MaxPooling2D layer do?\n",
        "3. What does the Dropout layer do?\n",
        "4. What is the shape of the input of the last convolutiona layer (i.e., just before the flatten layer)"
      ]
    },
    {
      "cell_type": "markdown",
      "metadata": {
        "id": "5zgpNVDP2nKi",
        "colab_type": "text"
      },
      "source": [
        "For the record, the same model can also be defined using the sequential API:\n",
        "\n",
        "\n",
        "```\n",
        "from keras.layers import Dropout\n",
        "from keras.layers import Conv2D ![alt text](https://), MaxPooling2D\n",
        "\n",
        "input_img = Input(shape=(28, 28, 1))\n",
        "model = Sequential()\n",
        "model.add(Conv2D(8,\n",
        "                 kernel_size=(3, 3),\n",
        "                 activation='relu',\n",
        "                 input_shape=input_shape))\n",
        "model.add(MaxPooling2D(pool_size=(2, 2)))\n",
        "model.add(Conv2D(16,\n",
        "                 kernel_size=(3, 3),\n",
        "                 activation='relu'))\n",
        "model.add(MaxPooling2D(pool_size=(2, 2)))\n",
        "model.add(Conv2D(32,\n",
        "                 kernel_size=(3, 3),\n",
        "                 activation='relu'))\n",
        "model.add(Flatten())\n",
        "model.add(Dense(64,\n",
        "                activation='relu'))\n",
        "model.add(Dropout(0.5))\n",
        "model.add(Dense(num_classes, activation='softmax'))\n",
        "\n",
        "model.summary()\n",
        "```\n",
        "\n"
      ]
    },
    {
      "cell_type": "markdown",
      "metadata": {
        "id": "44dU5LYWrMXY",
        "colab_type": "text"
      },
      "source": [
        "###Training\n",
        "Let's train our model"
      ]
    },
    {
      "cell_type": "code",
      "metadata": {
        "id": "tB02sLW7mbX6",
        "colab_type": "code",
        "colab": {}
      },
      "source": [
        "model.compile(loss='categorical_crossentropy',\n",
        "              optimizer='SGD',\n",
        "              metrics=['accuracy'])\n",
        "\n",
        "history = model.fit(x_train, y_train,\n",
        "                    batch_size=100,\n",
        "                    epochs=5,\n",
        "                    verbose=1,\n",
        "                    validation_data=(x_test, y_test))\n",
        "\n",
        "score = model.evaluate(x_test, y_test, verbose=0)\n",
        "print('Test loss:', score[0])\n",
        "print('Test accuracy:', score[1])"
      ],
      "execution_count": null,
      "outputs": []
    },
    {
      "cell_type": "code",
      "metadata": {
        "id": "H_1w3A-jr0od",
        "colab_type": "code",
        "colab": {}
      },
      "source": [
        "show_history(history)"
      ],
      "execution_count": null,
      "outputs": []
    },
    {
      "cell_type": "markdown",
      "metadata": {
        "id": "jOxQ0LletyuB",
        "colab_type": "text"
      },
      "source": [
        "###Task 3.1\n",
        "In the above model the input shape to the Flatten layer  is 3x3x32, which is then flattened to a 288-dimensional vector (this is the variable named `encoded`)\n",
        "\n",
        "Your task is to modify the network such that variable `encoded` has dimensionality 2 instead of 288.\n",
        "\n",
        "Hint: You could insert an extra layer before the Flatten layer that reduces the 3x3x32 input tensor to a 1x1x2 tensor. There are several solutions."
      ]
    },
    {
      "cell_type": "code",
      "metadata": {
        "id": "nF0XJUxJ4Qpj",
        "colab_type": "code",
        "colab": {}
      },
      "source": [
        "from keras.layers import Dropout\n",
        "from keras.layers import Conv2D, MaxPooling2D\n",
        "\n",
        "inputs = Input(shape=(28, 28, 1))\n",
        "\n",
        "# Encoder (convolutional base)\n",
        "x = Conv2D(8, kernel_size=(3, 3), activation='relu')(inputs)\n",
        "x = MaxPooling2D((2, 2))(x)\n",
        "x = Conv2D(16, kernel_size=(3, 3), activation='relu')(x)\n",
        "x = MaxPooling2D((2, 2))(x)\n",
        "x = Conv2D(32, kernel_size=(3, 3), activation='relu')(x)\n",
        "x = # Your code goes here\n",
        "encoded = Flatten()(x)\n",
        "\n",
        "# Decoder (2 fully connected layers)\n",
        "x = Dense(64, activation='relu')(encoded)\n",
        "x = Dropout(0.5)(x)\n",
        "predictions = Dense(num_classes,activation='softmax')(x)\n",
        "\n",
        "# This creates a callable model that includes the Input layer and the prediction layer\n",
        "model = Model(inputs=inputs, outputs=predictions)\n",
        "\n",
        "model.summary()"
      ],
      "execution_count": null,
      "outputs": []
    },
    {
      "cell_type": "markdown",
      "metadata": {
        "id": "69KNBxBEv53g",
        "colab_type": "text"
      },
      "source": [
        "###Training\n",
        "Train the model."
      ]
    },
    {
      "cell_type": "code",
      "metadata": {
        "id": "eyDbES-izBol",
        "colab_type": "code",
        "colab": {}
      },
      "source": [
        "model.compile(loss=keras.losses.categorical_crossentropy,\n",
        "              optimizer=keras.optimizers.SGD(learning_rate=0.01, momentum=0.9),\n",
        "              metrics=['accuracy'])\n",
        "\n",
        "model.fit(x_train, y_train,\n",
        "          batch_size=100,\n",
        "          epochs=10,\n",
        "          verbose=1,\n",
        "          validation_data=(x_test, y_test))\n",
        "\n",
        "score = model.evaluate(x_test, y_test, verbose=0)\n",
        "print('Test loss:', score[0])\n",
        "print('Test accuracy:', score[1])"
      ],
      "execution_count": null,
      "outputs": []
    },
    {
      "cell_type": "markdown",
      "metadata": {
        "id": "9HrN8wbHwA0q",
        "colab_type": "text"
      },
      "source": [
        "###Task 3.2\n",
        "Run all test examples through your model and for each example extract the 2-dimensional vector output of the Flatten layer (variable named `encoded`). To make predictions on a batch, you can do like this: ``out = model_encoded.predict(batch)``.\n",
        "\n",
        "Then plot those vectors in a 2D plot, where each class gets its own color.\n",
        "\n",
        "You might find this code useful:"
      ]
    },
    {
      "cell_type": "code",
      "metadata": {
        "id": "AGUoaLHVwn5T",
        "colab_type": "code",
        "colab": {
          "base_uri": "https://localhost:8080/",
          "height": 265
        },
        "outputId": "a33fb9fb-447d-4fab-b41e-a8c12356917d"
      },
      "source": [
        "model_encoded = Model(inputs=model.input, outputs=encoded)\n",
        "\n",
        "# Plot 10 dots with 10 different colors\n",
        "for i in range(10):\n",
        "  plt.plot(i,i,'.C'+str(i))"
      ],
      "execution_count": null,
      "outputs": [
        {
          "output_type": "display_data",
          "data": {
            "image/png": "[encoded data removed]",
            "text/plain": [
              "<Figure size 432x288 with 1 Axes>"
            ]
          },
          "metadata": {
            "tags": [],
            "needs_background": "light"
          }
        }
      ]
    },
    {
      "cell_type": "markdown",
      "metadata": {
        "id": "9iR1BvO15aCQ",
        "colab_type": "text"
      },
      "source": [
        "###Comment\n",
        "The point of this little exercise is to show you that you can use CNN encoders to compress images down to just 2 dimensions. This is a powerful concept for visualizing high-dimensional data. In this example, the 2D representation actually separates the 10 classes quite nicely."
      ]
    },
    {
      "cell_type": "markdown",
      "metadata": {
        "id": "6YJnv8WI7b4B",
        "colab_type": "text"
      },
      "source": [
        "##Task 4: Convolutional Autoencoder\n",
        "Autoencoders are special types of neural networks that map the input X to the same output (namely X). So the autoencoder (AE) is an identity function:\n",
        "\n",
        "```\n",
        "X = AE(X)\n",
        "```\n",
        "\n",
        "So what's the point? The point is that the autoencoder compresses the image down to a low-dimensional representation, which can be decoded again to reconstruct the original input image. This has many useful applications, such as data compression and representation learning. Only the important information is stored in the low-dimensional representation.\n",
        "\n",
        "The autoencoder consists of a trained encoder (E) and a trained decoder (D):\n",
        "\n",
        "```\n",
        "X = AE(X) = D(E(X))\n",
        "```\n",
        "\n",
        "It is typically (but not always) the encoding E(X) that we are interested in.\n",
        "\n",
        "Note that the autoecoder does not need the class labels to train. So it is an *unsupervised* machine learning technique.\n",
        "\n",
        "Here is an example of a convolutional autoencoder:"
      ]
    },
    {
      "cell_type": "code",
      "metadata": {
        "id": "KNUtSwB-1thF",
        "colab_type": "code",
        "colab": {}
      },
      "source": [
        "from keras.layers import UpSampling2D\n",
        "\n",
        "inputs = Input(shape=(28, 28, 1))\n",
        "\n",
        "# Encoder (convolutional base)\n",
        "x = Conv2D(16, kernel_size=(3, 3), activation='relu', padding='same')(inputs)\n",
        "x = MaxPooling2D((2, 2), padding='same')(x)\n",
        "x = Conv2D(8, kernel_size=(3, 3), activation='relu', padding='same')(x)\n",
        "x = MaxPooling2D((2, 2), padding='same')(x)\n",
        "x = Conv2D(8, kernel_size=(3, 3), activation='relu', padding='same')(x)\n",
        "encoded = MaxPooling2D((2, 2), padding='same')(x)\n",
        "print((\"shape of encoded\", K.int_shape(encoded)))\n",
        "\n",
        "# Decoder (upsamling)\n",
        "x = Conv2D(8, kernel_size=(3, 3), activation='relu', padding='same')(encoded)\n",
        "x = UpSampling2D((2, 2))(x)\n",
        "x = Conv2D(8, kernel_size=(3, 3), activation='relu', padding='same')(x)\n",
        "x = UpSampling2D((2, 2))(x)\n",
        "x = Conv2D(16, kernel_size=(3, 3), activation='relu', padding='same')(x) \n",
        "x = UpSampling2D((2, 2))(x)\n",
        "decoded = Conv2D(1, kernel_size=(5, 5), padding='valid')(x)\n",
        "print((\"shape of decoded\", K.int_shape(decoded)))\n",
        "\n",
        "autoencoder = Model(inputs, decoded)\n",
        "autoencoder.summary()"
      ],
      "execution_count": null,
      "outputs": []
    },
    {
      "cell_type": "markdown",
      "metadata": {
        "id": "nk0IV2fFAfuw",
        "colab_type": "text"
      },
      "source": [
        "###Questions 4.1\n",
        "1. What is the shape of the encoded image?\n",
        "2. Why are we not flattening (i.e., vectorizing) the encoded image like we did before?\n",
        "3. What does UpSampling2D do?\n",
        "4. Why do you think upsampling is followed by a convolution?\n",
        "5. What is the difference between using `padding='same'` and `padding='valid'`?"
      ]
    },
    {
      "cell_type": "markdown",
      "metadata": {
        "id": "bKXQlf8tBnmc",
        "colab_type": "text"
      },
      "source": [
        "###Training\n",
        "Let's train the autoencoder:"
      ]
    },
    {
      "cell_type": "code",
      "metadata": {
        "id": "Vw_OqAHD5k1-",
        "colab_type": "code",
        "colab": {}
      },
      "source": [
        "autoencoder.compile(optimizer=keras.optimizers.SGD(learning_rate=0.01, momentum=0.9), loss='mse')\n",
        "autoencoder.fit(x_train, x_train, epochs=10, batch_size=100,\n",
        "               shuffle=True, validation_data=(x_test, x_test), verbose=1)"
      ],
      "execution_count": null,
      "outputs": []
    },
    {
      "cell_type": "code",
      "metadata": {
        "id": "FSYL9fe757yF",
        "colab_type": "code",
        "colab": {}
      },
      "source": [
        "# utility function for showing images\n",
        "def show_imgs(x_test, n=10):\n",
        "    sz = x_test.shape[1]\n",
        "    plt.figure(figsize=(20, 4))\n",
        "    for i in range(n):\n",
        "        ax = plt.subplot(2, n, i+1)\n",
        "        plt.imshow(x_test[i].reshape(sz,sz))\n",
        "        plt.gray()\n",
        "        ax.get_xaxis().set_visible(False)\n",
        "        ax.get_yaxis().set_visible(False)\n",
        "    plt.show()"
      ],
      "execution_count": null,
      "outputs": []
    },
    {
      "cell_type": "code",
      "metadata": {
        "id": "edNyzCMW6PaS",
        "colab_type": "code",
        "colab": {}
      },
      "source": [
        "decoded_imgs = autoencoder.predict(x_test)\n",
        "print(\"input (upper row)\")\n",
        "show_imgs(x_test)\n",
        "print(\"decoded (bottom row)\")\n",
        "show_imgs(decoded_imgs)"
      ],
      "execution_count": null,
      "outputs": []
    },
    {
      "cell_type": "markdown",
      "metadata": {
        "id": "_LAsmAerCSLh",
        "colab_type": "text"
      },
      "source": [
        "###Improving the autoencoder\n",
        "This is good, but not great. Let's use cross entropy loss instead. This requires that the decoding is a probability, hence the sigmoid below:"
      ]
    },
    {
      "cell_type": "code",
      "metadata": {
        "id": "nJJhiPNeCiAg",
        "colab_type": "code",
        "colab": {}
      },
      "source": [
        "decoded_sigmoid = Activation('sigmoid')(decoded) # decoded is the output of the first autoencoder\n",
        "autoencoder2 = Model(inputs, decoded_sigmoid)\n",
        "autoencoder2.compile(optimizer=keras.optimizers.SGD(learning_rate=0.01, momentum=0.9), loss='binary_crossentropy')\n",
        "autoencoder2.fit(x_train, x_train, epochs=10, batch_size=100,\n",
        "               shuffle=True, validation_data=(x_test, x_test), verbose=1)"
      ],
      "execution_count": null,
      "outputs": []
    },
    {
      "cell_type": "code",
      "metadata": {
        "id": "OyRb-DNXDBBM",
        "colab_type": "code",
        "colab": {}
      },
      "source": [
        "decoded_imgs = autoencoder2.predict(x_test)\n",
        "print(\"input (upper row)\")\n",
        "show_imgs(x_test)\n",
        "print(\"decoded (bottom row)\")\n",
        "show_imgs(decoded_imgs)"
      ],
      "execution_count": null,
      "outputs": []
    },
    {
      "cell_type": "markdown",
      "metadata": {
        "id": "SYNuOKadDk_P",
        "colab_type": "text"
      },
      "source": [
        "###Questions 4.2\n",
        "1. What is the difference between 'mse' loss and 'binary_crossentropy' loss?\n",
        "2. Can you explain why 'binary_crossentropy' works better?"
      ]
    },
    {
      "cell_type": "markdown",
      "metadata": {
        "id": "LEU1ZDqg6bk9",
        "colab_type": "text"
      },
      "source": [
        "##Task 5: Denoising Autoencoder\n",
        "Autoencoders can get really advanced, like [Variational Autoencoders](https://towardsdatascience.com/intuitively-understanding-variational-autoencoders-1bfe67eb5daf). A slightly less complicated, yet powerful autoecoder variant is the [Denoising Autoencoder](https://www.cs.toronto.edu/~larocheh/publications/icml-2008-denoising-autoencoders.pdf).\n",
        "\n",
        "As stated above autoencoders have many useful applications. One of these is *noise reduction*. The underlying idea is very simple: Add random noise to the input X, and teach the autoencoder to remove the noise. That is, the autoencoder should learn the mapping:\n",
        "\n",
        "```\n",
        "X = AE(X + noise)\n",
        "```"
      ]
    },
    {
      "cell_type": "markdown",
      "metadata": {
        "id": "MnzL99s2IYtR",
        "colab_type": "text"
      },
      "source": [
        "###Task 5.1\n",
        "Create two new data sets based on x_train and x_test, where you have added noise such that\n",
        "\n",
        "```\n",
        "x_train_noisy = x_train + noise\n",
        "x_test_noisy = x_test + noise\n",
        "```\n",
        "\n",
        "You may want to look at numpy functions like np.random.normal and np.clip\n",
        "\n",
        "Retrain autoencoder2 on the noisy images (input = x_train_noisy and output = x_train).\n",
        "\n",
        "High much noise can you add before the thing breaks down?"
      ]
    },
    {
      "cell_type": "code",
      "metadata": {
        "id": "wD06QF9EwDbp",
        "colab_type": "code",
        "colab": {}
      },
      "source": [
        "#Your code goes here\n",
        "#x_train_noisy = ???\n",
        "#x_test_noisy = ???"
      ],
      "execution_count": null,
      "outputs": []
    },
    {
      "cell_type": "code",
      "metadata": {
        "id": "YH5iYSws6nI0",
        "colab_type": "code",
        "colab": {}
      },
      "source": [
        "# it takes more epochs to converge\n",
        "autoencoder2.fit(x_train_noisy, x_train, epochs=10, batch_size=100,\n",
        "                shuffle=True, validation_data=(x_test_noisy, x_test))"
      ],
      "execution_count": null,
      "outputs": []
    },
    {
      "cell_type": "code",
      "metadata": {
        "id": "ynvpaB666wlm",
        "colab_type": "code",
        "colab": {}
      },
      "source": [
        "# denoising\n",
        "print(\"denoising\")\n",
        "decoded_imgs = autoencoder2.predict(x_test_noisy)\n",
        "print(\"input (upper row)\")\n",
        "show_imgs(x_test_noisy)\n",
        "print(\"decoded (bottom row)\")\n",
        "show_imgs(decoded_imgs)\n",
        "\n",
        "# what if we feed the original noise-free test images?\n",
        "decoded_imgs = autoencoder2.predict(x_test)\n",
        "print(\"\\nof course, it works with original noise-less images\")\n",
        "print(\"input (upper row)\")\n",
        "show_imgs(x_test)\n",
        "print(\"decoded (bottom row)\")\n",
        "show_imgs(decoded_imgs)"
      ],
      "execution_count": null,
      "outputs": []
    },
    {
      "cell_type": "markdown",
      "metadata": {
        "id": "F1cRW2XrKHif",
        "colab_type": "text"
      },
      "source": [
        "##Task 6: Super resolution\n",
        "The convolutional autoencoder is a network that maps an image to another image. There are other types of these *image-to-image networks*.\n",
        "\n",
        "One example is a super resolution network. This is pretty much an autoencoder, except that the input image has lower spatial resolution than the output image. Super resolution networks learn to increase the spatial of the input image.\n",
        "\n",
        "Your task is to modify the autoencoder such that it takes an 14x14x1 image as input and transforms it to a 28x28x1 image. Specifically, the training and test inputs should be\n",
        "\n"
      ]
    },
    {
      "cell_type": "code",
      "metadata": {
        "id": "Dvcl2mGLu0v3",
        "colab_type": "code",
        "colab": {}
      },
      "source": [
        "# Low resolution images (pick every other pixel)\n",
        "x_train_small = x_train[:,::2,::2,:] \n",
        "x_test_small = x_test[:,::2,::2,:]\n",
        "\n",
        "# Show example\n",
        "print(\"Input low resolution images\")\n",
        "show_imgs(x_train_small)\n",
        "print(\"Output high resolution images (target)\")\n",
        "show_imgs(x_train)"
      ],
      "execution_count": null,
      "outputs": []
    },
    {
      "cell_type": "markdown",
      "metadata": {
        "id": "SjUB_cm4yRj6",
        "colab_type": "text"
      },
      "source": [
        "##Task 7: Image regression\n",
        "Recall that regression problems are when the output of the model is one or more scalar values, rather than class labels. Both the autoencoder and super resolution network are examples of regression models. Another example of image regression is [facial landmark prediction](https://medium.com/@rishiswethan.c.r/emotion-detection-using-facial-landmarks-and-deep-learning-b7f54fe551bf), which can be used for emotion recognition.\n",
        "\n",
        "In this task we will estimate the rotation angle of rotated MNIST images (but it could just as well have been estimating pixel coordinates of facial landmarks).\n",
        "\n",
        "As a first step, we need an image generator that generates batches of randomly rotated images, along with the target rotation angles that the model should learn to predict. This code was modified from https://d4nst.github.io/2017/01/12/image-orientation/\n",
        "\n"
      ]
    },
    {
      "cell_type": "code",
      "metadata": {
        "id": "EAhmL_jj_5m-",
        "colab_type": "code",
        "colab": {}
      },
      "source": [
        "from keras.preprocessing.image import Iterator\n",
        "from keras.utils.np_utils import to_categorical\n",
        "import cv2\n",
        "\n",
        "class RotNetDataGenerator(Iterator):\n",
        "\n",
        "    def __init__(self, input, batch_size=64,\n",
        "                 preprocess_func=None, shuffle=False):\n",
        "\n",
        "        self.images = input\n",
        "        self.batch_size = batch_size\n",
        "        self.input_shape = self.images.shape[1:]\n",
        "        self.preprocess_func = preprocess_func\n",
        "        self.shuffle = shuffle\n",
        "\n",
        "        # add dimension if the images are greyscale\n",
        "        if len(self.input_shape) == 2:\n",
        "            self.input_shape = self.input_shape + (1,)\n",
        "        N = self.images.shape[0]\n",
        "\n",
        "        super(RotNetDataGenerator, self).__init__(N, batch_size, shuffle, None)\n",
        "        \n",
        "    def _get_batches_of_transformed_samples(self, index_array):\n",
        "        # create array to hold the images\n",
        "        batch_x = np.zeros((len(index_array),) + self.input_shape, dtype='float32')\n",
        "        # create array to hold the labels\n",
        "        batch_y = np.zeros(len(index_array), dtype='float32')\n",
        "\n",
        "        # iterate through the current batch\n",
        "        for i, j in enumerate(index_array):\n",
        "          \n",
        "            image = self.images[j].squeeze()\n",
        "\n",
        "            # get a random angle\n",
        "            rotation_angle = np.random.randint(-45,45)\n",
        "\n",
        "            # rotate the image\n",
        "            rows,cols = image.shape\n",
        "            M = cv2.getRotationMatrix2D(((cols-1)/2.0,(rows-1)/2.0),rotation_angle,1)\n",
        "            rotated_image = cv2.warpAffine(image,M,(cols,rows))\n",
        "\n",
        "            # add dimension to account for the channels if the image is greyscale\n",
        "            if rotated_image.ndim == 2:\n",
        "                rotated_image = np.expand_dims(rotated_image, axis=2)\n",
        "\n",
        "            # store the image and label in their corresponding batches\n",
        "            batch_x[i] = rotated_image\n",
        "            batch_y[i] = rotation_angle\n",
        "\n",
        "        # preprocess input images\n",
        "        if self.preprocess_func:\n",
        "            batch_x = self.preprocess_func(batch_x)\n",
        "\n",
        "        return batch_x, batch_y\n",
        "\n",
        "    def next(self):\n",
        "        with self.lock:\n",
        "            # get input data index and size of the current batch\n",
        "            index_array = next(self.index_generator)\n",
        "        # create array to hold the images\n",
        "        return self._get_batches_of_transformed_samples(index_array)"
      ],
      "execution_count": null,
      "outputs": []
    },
    {
      "cell_type": "markdown",
      "metadata": {
        "id": "PBRKLikE37WE",
        "colab_type": "text"
      },
      "source": [
        "###Test the generator"
      ]
    },
    {
      "cell_type": "code",
      "metadata": {
        "id": "LJSiRdxcBcEQ",
        "colab_type": "code",
        "colab": {}
      },
      "source": [
        "# Instantiate\n",
        "datagen = RotNetDataGenerator(\n",
        "        x_train,\n",
        "        batch_size=32,\n",
        "        preprocess_func=None,\n",
        "        shuffle=False\n",
        "    )\n",
        "\n",
        "# Generate batch\n",
        "rotated_images, angles = datagen.next()\n",
        "\n",
        "# Display\n",
        "print(\"Images (before rotation)\")\n",
        "show_imgs(x_train)\n",
        "print(\"Images after random rotation\")\n",
        "show_imgs(rotated_images)"
      ],
      "execution_count": null,
      "outputs": []
    },
    {
      "cell_type": "markdown",
      "metadata": {
        "id": "-rWkMWvh9hNt",
        "colab_type": "text"
      },
      "source": [
        "###Task 7.1\n",
        "Make a small CNN that takes as input an 28x28x1 image and outputs a single scalar value (the rotation angle).\n",
        "\n",
        "The last layer of your network should be\n",
        "\n",
        "```\n",
        "angle = Dense(1)(x)\n",
        "```\n",
        "\n",
        "This is a dense layer without any activation function, hence the output of this layer is simply `angle = W*x + b`."
      ]
    },
    {
      "cell_type": "code",
      "metadata": {
        "id": "f3EMvU5N94L3",
        "colab_type": "code",
        "colab": {}
      },
      "source": [
        "inputs = Input(shape=(28, 28, 1))\n",
        "\n",
        "# Encoder (convolutional base)\n",
        "# Your codes goes here\n",
        "\n",
        "# Decoder (predict angle)\n",
        "x = # Your code goes here\n",
        "angle = Dense(1)(x)\n",
        "\n",
        "angle_estimator = Model(input=inputs, output=angle)"
      ],
      "execution_count": null,
      "outputs": []
    },
    {
      "cell_type": "markdown",
      "metadata": {
        "id": "H9eeVPFI-tVq",
        "colab_type": "text"
      },
      "source": [
        "###Training"
      ]
    },
    {
      "cell_type": "code",
      "metadata": {
        "id": "bW2RzBPJG0P-",
        "colab_type": "code",
        "colab": {}
      },
      "source": [
        "angle_estimator.compile(optimizer='rmsprop',loss='mse')\n",
        "\n",
        "# training loop\n",
        "angle_estimator.fit_generator(\n",
        "    RotNetDataGenerator(\n",
        "        x_train,\n",
        "        batch_size=100,\n",
        "        preprocess_func=None,\n",
        "        shuffle=True\n",
        "    ),\n",
        "    epochs=50,\n",
        "    validation_data=RotNetDataGenerator(\n",
        "        x_test,\n",
        "        batch_size=100,\n",
        "        preprocess_func=None))"
      ],
      "execution_count": null,
      "outputs": []
    },
    {
      "cell_type": "markdown",
      "metadata": {
        "id": "98or9_7_6YNu",
        "colab_type": "text"
      },
      "source": [
        "###Model evaluation"
      ]
    },
    {
      "cell_type": "code",
      "metadata": {
        "id": "jYmyHlZ5MEKH",
        "colab_type": "code",
        "colab": {}
      },
      "source": [
        "# Set up generator\n",
        "datagen = RotNetDataGenerator(\n",
        "        x_test,\n",
        "        batch_size=32,\n",
        "        preprocess_func=None,\n",
        "        shuffle=False\n",
        "    )\n",
        "\n",
        "# Generate test images\n",
        "rotated_images, angles = datagen.next()\n",
        "print(\"Test images before rotation\")\n",
        "show_imgs(x_test)\n",
        "print(\"Test images after rotation\")\n",
        "show_imgs(rotated_images)\n",
        "\n",
        "# Predict angles\n",
        "angles_pred = angle_estimator.predict(rotated_images)\n",
        "\n",
        "# Plot angles\n",
        "plt.plot(angles)\n",
        "plt.plot(angles_pred)\n",
        "plt.legend(['True','Predicted']);"
      ],
      "execution_count": null,
      "outputs": []
    },
    {
      "cell_type": "markdown",
      "metadata": {
        "id": "dqtngpfbAaM8",
        "colab_type": "text"
      },
      "source": [
        "**HELP**: The predicted angles should match the true angles reasonably well. If your model fails to predict the angles, it could be because the model is underfitting. This indicates that the capacity of the model is too low. To increase capacity, add more connections in dense layers and/or more output maps in convolutional layers (I will explain this in the class)."
      ]
    },
    {
      "cell_type": "markdown",
      "metadata": {
        "id": "xLrZfojj8Cd7",
        "colab_type": "text"
      },
      "source": [
        "###De-rotate images\n",
        "Now that we have estimated the rotation angles, let's de-rotate the images back to their original alignment."
      ]
    },
    {
      "cell_type": "code",
      "metadata": {
        "id": "H78jSdQoNC5-",
        "colab_type": "code",
        "colab": {}
      },
      "source": [
        "de_rotated_images = np.zeros(rotated_images.shape)\n",
        "\n",
        "for i in range(rotated_images.shape[0]):\n",
        "  image = rotated_images[i,:,:,:].squeeze()\n",
        "\n",
        "  # get predicted angle\n",
        "  rotation_angle = -angles_pred[i]\n",
        "\n",
        "  # rotate the image\n",
        "  rows,cols = image.shape\n",
        "  M = cv2.getRotationMatrix2D(((cols-1)/2.0,(rows-1)/2.0),rotation_angle,1)\n",
        "  de_rotated_image = cv2.warpAffine(image,M,(cols,rows))\n",
        "\n",
        "  de_rotated_images[i,:,:,0] = de_rotated_image\n",
        "\n",
        "print('Images before rotation (ground truth)')\n",
        "show_imgs(x_test)\n",
        "print('Images after rotation (to be de-rotated)')\n",
        "show_imgs(rotated_images)\n",
        "print('De-rotated images (should match ground truth)')\n",
        "show_imgs(de_rotated_images)"
      ],
      "execution_count": null,
      "outputs": []
    },
    {
      "cell_type": "markdown",
      "metadata": {
        "id": "NV6vSV3WCQZd",
        "colab_type": "text"
      },
      "source": [
        "##Task 8: Object detection\n",
        "**Motivation:** Classification CNNs assign one label to each input image. This is problematic if the image contains multiple objects. \n",
        "\n",
        "Object detection is about detecting and classifying multiple objects in images. Object detection networks output the corner coordinates of the bounding box of each detect object, along with a class label.\n",
        "\n",
        "There are many ways to implement object detection with CNNs. You may want to take a look at this 3-part tutorial:\n",
        "- https://towardsdatascience.com/beginners-guide-to-object-detection-algorithms-6620fb31c375\n",
        "- https://www.analyticsvidhya.com/blog/2018/11/implementation-faster-r-cnn-python-object-detection/?utm_source=blog&utm_medium=a-step-by-step-introduction-to-the-basic-object-detection-algorithms-part-1\n",
        "- https://www.analyticsvidhya.com/blog/2018/12/practical-guide-object-detection-yolo-framewor-python/?utm_source=blog&utm_medium=implementation-faster-r-cnn-python-object-detection\n",
        "\n",
        "The basic idea of our simple object detector below is as follows:\n",
        "\n",
        "- The output image is divided into a 2-by-2 grid\n",
        "- Each grid cell can contain one object, or no object. We want our model to output whether it thinks there is an object in the cell or not.\n",
        "- If a cell contains an object, we want our model to output the corner coordinates of the bounding box (relative to the center of the grid cell).\n",
        "- Also, if there is an object in a cell, we want to predict its class label.\n",
        "\n",
        "If the input image has shape 64x64, the output of the model will have shape 2x2x15:\n",
        "- 1 output per cell for the confidence (is there an object or not?)\n",
        "- 4 outputs per cell corresponding to the upper left and lower right coordinates of the bounding box\n",
        "- 10 outputs per cell corresponding to the class probabalities (assuming we have 10 classes).\n",
        "\n",
        "This totals 15 outputs per cell.\n"
      ]
    },
    {
      "cell_type": "markdown",
      "metadata": {
        "id": "rHkjYyA09Slk",
        "colab_type": "text"
      },
      "source": [
        "###Task 8.1\n",
        "Fill in the empty spots below (marked with ???), then run the code block to set up the object detection network."
      ]
    },
    {
      "cell_type": "code",
      "metadata": {
        "id": "DBaW6otN9dHO",
        "colab_type": "code",
        "colab": {}
      },
      "source": [
        "from keras.layers import concatenate\n",
        "from keras.activations import softmax\n",
        "\n",
        "def softMaxAxis3(x):\n",
        "    return softmax(x,axis=3)\n",
        "\n",
        "input_img = Input(shape=(64, 64, 1))\n",
        "\n",
        "x = Conv2D(8, 33, activation='relu', padding='same')(input_img) #nb_filter, nb_row, nb_col\n",
        "x = MaxPooling2D((2, 2), padding='same')(x)\n",
        "x = Conv2D(16, 3, activation='relu', padding='same')(x)\n",
        "x = MaxPooling2D((2, 2), padding='same')(x)\n",
        "x = Conv2D(32, 3, activation='relu', padding='same')(x)\n",
        "encoded = MaxPooling2D((2, 2), padding='same')(x)\n",
        "\n",
        "# Notice that all three outputs use the same encoder\n",
        "\n",
        "# 1. This predicts whether there is an object in a cell or not\n",
        "x = Conv2D(4, 3, activation='relu', padding='same')(encoded)\n",
        "x = MaxPooling2D((2, 2), padding='same')(x)\n",
        "x = Conv2D(4, 3, activation='relu', padding='same')(x)\n",
        "x = MaxPooling2D((2, 2), padding='same')(x)\n",
        "confidence = Conv2D(???, 1, activation='sigmoid', padding='same')(x)\n",
        "\n",
        "# 2. This predicts the bounding box coordinates for each cell\n",
        "x = Conv2D(4, 3, activation='relu', padding='same')(encoded)\n",
        "x = MaxPooling2D((2, 2), padding='same')(x)\n",
        "x = Conv2D(4, 3, activation='relu', padding='same')(x)\n",
        "x = MaxPooling2D((2, 2), padding='same')(x)\n",
        "box = Conv2D(???, 1, padding='same')(x)\n",
        "\n",
        "# 3. This predicts the class probabilities for each cell\n",
        "x = Conv2D(16, 3, activation='relu', padding='same')(encoded)\n",
        "x = MaxPooling2D((2, 2), padding='same')(x)\n",
        "x = Conv2D(16, 3, activation='relu', padding='same')(x)\n",
        "x = MaxPooling2D((2, 2), padding='same')(x)\n",
        "classes = Conv2D(???, 1, activation=softMaxAxis3, padding='same')(x)\n",
        "\n",
        "# Merge output\n",
        "merged = concatenate([confidence, box, classes])\n",
        "\n",
        "objdet = Model(input_img, merged)\n",
        "objdet.compile(optimizer='rmsprop', loss='mse')"
      ],
      "execution_count": null,
      "outputs": []
    },
    {
      "cell_type": "markdown",
      "metadata": {
        "id": "1FGcUFY18kOO",
        "colab_type": "text"
      },
      "source": [
        "###Quesions 8.1\n",
        "1. What does softMaxAxis3 do, and why is it needed?"
      ]
    },
    {
      "cell_type": "markdown",
      "metadata": {
        "id": "VtLlialYGZVm",
        "colab_type": "text"
      },
      "source": [
        "###Training data\n",
        "Let's generate some training data for our object detector.\n",
        "\n",
        "The training images (`x_train_obj`) will be 64x64, where two of the four quadrants will contain one handwritten digit. This just serves to illustrate that we can teach a network to detect and classify more than one digit per input image.\n",
        "\n",
        "The output is (`y_train_obj`) is 2x2x15 as explained above:\n",
        "- 1 output per cell for the confidence (is there an object or not?)\n",
        "- 4 outputs per cell corresponding to the upper left and lower right coordinates of the bounding box\n",
        "- 10 outputs per cell corresponding to the class probabalities (assuming we have 10 classes).\n"
      ]
    },
    {
      "cell_type": "code",
      "metadata": {
        "id": "s8EGlKP8Gd28",
        "colab_type": "code",
        "colab": {}
      },
      "source": [
        "x_train_obj = np.zeros((5000,64,64,1))\n",
        "y_train_obj = np.zeros((5000,2,2,15))\n",
        "\n",
        "for i in range(5000):\n",
        "  \n",
        "  ## 1 \n",
        "  q = np.random.randint(0,2) # 1st or 2nd image quadrant?\n",
        "  \n",
        "  # Random image\n",
        "  rand_ix = np.random.randint(0,x_train.shape[0])\n",
        "  x_off_start = np.random.randint(0,5)\n",
        "  y_off_start = np.random.randint(0,5)\n",
        "  x_train_obj[i,0+x_off_start:28+x_off_start,32*q+y_off_start:32*q+28+y_off_start,:] = x_train[rand_ix,:,:,:]\n",
        "  \n",
        "  # Set confidence to 1\n",
        "  y_train_obj[i,0,q,0] = 1\n",
        "\n",
        "  # Class label\n",
        "  label = np.argmax(y_train[rand_ix,:])\n",
        "  y_train_obj[i,0,q,5+label] = 1\n",
        "\n",
        "  # Bounding box corners coordinates\n",
        "  tmp = x_train[rand_ix,:,:,:]\n",
        "  ix = np.where(tmp>0.1)\n",
        "  rows = ix[0]\n",
        "  cols = ix[1]  \n",
        "  y_train_obj[i,0,q,1] = np.min(rows) + x_off_start\n",
        "  y_train_obj[i,0,q,2] = np.min(cols) + y_off_start\n",
        "  y_train_obj[i,0,q,3] = np.max(rows) + x_off_start\n",
        "  y_train_obj[i,0,q,4] = np.max(cols) + y_off_start\n",
        "\n",
        "  ## 2\n",
        "  q = np.random.randint(0,2) # 3rd or 4rd image quadrant?\n",
        "  \n",
        "  # Random image\n",
        "  rand_ix = np.random.randint(0,x_train.shape[0])\n",
        "  x_off_start = np.random.randint(0,5)\n",
        "  y_off_start = np.random.randint(0,5)\n",
        "  x_train_obj[i,32+x_off_start:32+28+x_off_start,32*q+y_off_start:32*q+28+y_off_start,:] = x_train[rand_ix,:,:,:]\n",
        "  \n",
        "  # Set confidence to 1\n",
        "  y_train_obj[i,1,q,0] = 1\n",
        "\n",
        "  # Class label\n",
        "  label = np.argmax(y_train[rand_ix,:])\n",
        "  y_train_obj[i,1,q,5+label] = 1\n",
        "\n",
        "  # Bounding box corners coordinates\n",
        "  tmp = x_train[rand_ix,:,:,:]\n",
        "  ix = np.where(tmp>0.1)\n",
        "  rows = ix[0]\n",
        "  cols = ix[1]  \n",
        "  y_train_obj[i,1,q,1] = np.min(rows) + x_off_start\n",
        "  y_train_obj[i,1,q,2] = np.min(cols) + y_off_start\n",
        "  y_train_obj[i,1,q,3] = np.max(rows) + x_off_start\n",
        "  y_train_obj[i,1,q,4] = np.max(cols) + y_off_start"
      ],
      "execution_count": null,
      "outputs": []
    },
    {
      "cell_type": "markdown",
      "metadata": {
        "id": "DLAKnAV0KkSC",
        "colab_type": "text"
      },
      "source": [
        "Display example outputs"
      ]
    },
    {
      "cell_type": "code",
      "metadata": {
        "id": "3Usjz_hbI7k4",
        "colab_type": "code",
        "colab": {}
      },
      "source": [
        "import cv2\n",
        "plt.figure(figsize=(20,4))\n",
        "for k in range(10):\n",
        "  result = np.tile(x_train_obj[k,:,:,:],(1,1,3))\n",
        "\n",
        "  for i in range(2):\n",
        "    for j in range(2):\n",
        "      object_present = np.round(y_train_obj[k,i,j,0])\n",
        "      if object_present:\n",
        "        class_index = np.argmax(y_train_obj[k,i,j,5:])\n",
        "        xmin = int(y_train_obj[k,i,j,1] + i*32) # row\n",
        "        ymin = int(y_train_obj[k,i,j,2] + j*32) # col\n",
        "        xmax = int(y_train_obj[k,i,j,3] + i*32) # row\n",
        "        ymax = int(y_train_obj[k,i,j,4] + j*32) # col\n",
        "        cv2.rectangle(result,(ymin,xmin),(ymax,xmax),(0,255,0),1)\n",
        "        cv2.putText(result, str(class_index), (ymin-10, xmin+10), cv2.FONT_HERSHEY_SIMPLEX, 0.5, (0, 255, 0),lineType=cv2.LINE_AA)\n",
        "  ax = plt.subplot(2,5,k+1)\n",
        "  plt.imshow(result)\n",
        "  ax.get_xaxis().set_visible(False)\n",
        "  ax.get_yaxis().set_visible(False)"
      ],
      "execution_count": null,
      "outputs": []
    },
    {
      "cell_type": "markdown",
      "metadata": {
        "id": "q3x93OVGOLvO",
        "colab_type": "text"
      },
      "source": [
        "###Training\n",
        "We are ready to start training the model."
      ]
    },
    {
      "cell_type": "code",
      "metadata": {
        "id": "osyiFWyhWUri",
        "colab_type": "code",
        "colab": {}
      },
      "source": [
        "objdet.fit(x_train_obj, y_train_obj, epochs=100, batch_size=128,shuffle=True,verbose=1)"
      ],
      "execution_count": null,
      "outputs": []
    },
    {
      "cell_type": "markdown",
      "metadata": {
        "id": "TveS0ULsOR75",
        "colab_type": "text"
      },
      "source": [
        "###Model evaluation"
      ]
    },
    {
      "cell_type": "code",
      "metadata": {
        "id": "c1kETljRYh7f",
        "colab_type": "code",
        "colab": {}
      },
      "source": [
        "out = objdet.predict(x_train_obj[0:10,:,:,:])\n",
        "\n",
        "plt.figure(figsize=(20,4))\n",
        "for k in range(10):\n",
        "  result = np.tile(x_train_obj[k,:,:,:],(1,1,3))\n",
        "\n",
        "  for i in range(2):\n",
        "    for j in range(2):\n",
        "      object_present = np.round(out[k,i,j,0])\n",
        "      if object_present:\n",
        "        class_index = np.argmax(out[k,i,j,5:])\n",
        "        xmin = int(out[k,i,j,1] + i*32) # row\n",
        "        ymin = int(out[k,i,j,2] + j*32) # col\n",
        "        xmax = int(out[k,i,j,3] + i*32) # row\n",
        "        ymax = int(out[k,i,j,4] + j*32) # col\n",
        "        cv2.rectangle(result,(ymin,xmin),(ymax,xmax),(0,255,0),1)\n",
        "        cv2.putText(result, str(class_index), (ymin-10, xmin+10), cv2.FONT_HERSHEY_SIMPLEX, 0.5, (0, 255, 0),lineType=cv2.LINE_AA)\n",
        "  ax = plt.subplot(2,5,k+1)\n",
        "  plt.imshow(result)\n",
        "  ax.get_xaxis().set_visible(False)\n",
        "  ax.get_yaxis().set_visible(False)"
      ],
      "execution_count": null,
      "outputs": []
    },
    {
      "cell_type": "markdown",
      "metadata": {
        "id": "sK3z-27PBVLn",
        "colab_type": "text"
      },
      "source": [
        "**Note:** Do not expect perfect results. Our object detection network is over-simplified compared to state-of-the-art. Or more precisely, the loss function is far from ideal, so we are optimizing *the wrong objective*, so to say."
      ]
    },
    {
      "cell_type": "markdown",
      "metadata": {
        "id": "QJzrjPFn455A",
        "colab_type": "text"
      },
      "source": [
        "##Task 9: Image segmentation\n",
        "Image segmentation is a form of image-to-image transformation. It outputs a softmax classification per pixel. So if the input image has size 64x64, and there are 10 classes, the output will have shape 64x64x10. That is, for each pixel the network outputs a vector of class probabilities:\n",
        "\n",
        "![alt text](https://miro.medium.com/max/498/1*P1ooLjeSwhxeJGyFawCvaQ.png)\n",
        "\n",
        "Source of inspiration: https://medium.com/100-shades-of-machine-learning/https-medium-com-100-shades-of-machine-learning-rediscovering-semantic-segmentation-part1-83e1462e0805\n",
        "\n",
        "Let's first make a new training set."
      ]
    },
    {
      "cell_type": "markdown",
      "metadata": {
        "id": "qn4GeiUOLYe-",
        "colab_type": "text"
      },
      "source": [
        "###Training images\n",
        "The training images (x_train_seg) will be 64x64, where two of the four quadrants will contain one handwritten digit. This is to illustrate that we can teach a network to identify and segment more than one digit per input image.\n",
        "\n",
        "The target output (`y_train_seg`) will be 64x64x10, with a one-hot vector for each pixel indicating the correct class."
      ]
    },
    {
      "cell_type": "code",
      "metadata": {
        "id": "5jS8Dwk6H2Qr",
        "colab_type": "code",
        "colab": {}
      },
      "source": [
        "x_train_seg = np.zeros((5000,64,64,1))\n",
        "y_train_seg = np.zeros((5000,64,64,10))\n",
        "\n",
        "for i in range(5000):\n",
        "  \n",
        "  ## 1\n",
        "  q = np.random.randint(0,2) # 1st or 2nd image quadrant?\n",
        "  rand_ix = np.random.randint(0,x_train.shape[0])\n",
        "  x_off_start = np.random.randint(0,5)\n",
        "  y_off_start = np.random.randint(0,5)\n",
        "  x_train_seg[i,0+x_off_start:28+x_off_start,32*q+y_off_start:32*q+28+y_off_start,:] = x_train[rand_ix,:,:,:]\n",
        "\n",
        "  # Mask\n",
        "  tmp = x_train[rand_ix,:,:,:]\n",
        "  ix = np.where(tmp>0.1)\n",
        "  tmp = np.zeros(tmp.shape)\n",
        "  tmp[ix] = 1\n",
        "  label = np.argmax(y_train[rand_ix,:])\n",
        "  y_train_seg[i,0+x_off_start:28+x_off_start,32*q+y_off_start:32*q+28+y_off_start,label] = tmp.squeeze()\n",
        "  \n",
        "  ## 2\n",
        "  q = np.random.randint(0,2) #  3rd or 4th image quadrant?\n",
        "  rand_ix = np.random.randint(0,x_train.shape[0])\n",
        "  x_off_start = np.random.randint(0,5)\n",
        "  y_off_start = np.random.randint(0,5)\n",
        "  x_train_seg[i,32+x_off_start:32+28+x_off_start,32*q+y_off_start:32*q+28+y_off_start,:] = x_train[rand_ix,:,:,:]\n",
        "\n",
        "  # Mask\n",
        "  tmp = x_train[rand_ix,:,:,:]\n",
        "  ix = np.where(tmp>0.1)\n",
        "  tmp = np.zeros(tmp.shape)\n",
        "  tmp[ix] = 1\n",
        "  label = np.argmax(y_train[rand_ix,:])\n",
        "  y_train_seg[i,32+x_off_start:32+28+x_off_start,32*q+y_off_start:32*q+28+y_off_start,label] = tmp.squeeze()"
      ],
      "execution_count": null,
      "outputs": []
    },
    {
      "cell_type": "code",
      "metadata": {
        "id": "sNh7RfpjM9rl",
        "colab_type": "code",
        "colab": {}
      },
      "source": [
        "# Show examples of input to output mappings\n",
        "for ex in range(5):\n",
        "  plt.figure(figsize=(20,6))\n",
        "  rand_ix = np.random.randint(0,5000)\n",
        "  ax = plt.subplot(1,11,1)\n",
        "  plt.imshow(x_train_seg[rand_ix,:,:,:].squeeze())\n",
        "  plt.title('Input image')\n",
        "  for i in range(10):\n",
        "    ax = plt.subplot(1,11,i+2)\n",
        "    plt.imshow(y_train_seg[rand_ix,:,:,i].squeeze())\n",
        "    plt.title(\"Out class \"+str(i))"
      ],
      "execution_count": null,
      "outputs": []
    },
    {
      "cell_type": "markdown",
      "metadata": {
        "id": "sVfoiPrt_210",
        "colab_type": "text"
      },
      "source": [
        "###U-Net for image segmentation\n",
        "We will use a light version of the so-called U-Net:\n",
        "- https://arxiv.org/pdf/1505.04597.pdf\n",
        "- https://towardsdatascience.com/understanding-semantic-segmentation-with-unet-6be4f42d4b47\n",
        "\n",
        "![alt text](https://miro.medium.com/max/720/1*OkUrpDD6I0FpugA_bbYBJQ.png)"
      ]
    },
    {
      "cell_type": "code",
      "metadata": {
        "id": "a_Yw6_PkkWkU",
        "colab_type": "code",
        "colab": {
          "base_uri": "https://localhost:8080/",
          "height": 1000
        },
        "outputId": "1040d881-48e8-4b50-f4fc-011aeeb6e9e9"
      },
      "source": [
        "from keras.layers import concatenate\n",
        "\n",
        "# See last layer of network\n",
        "def softMaxAxis3(x):\n",
        "    return softmax(x,axis=3)\n",
        "\n",
        "inputs = Input(shape=(64, 64, 1))\n",
        "\n",
        "# Encoder\n",
        "conv1 = Conv2D(8, 3, activation = 'relu', padding = 'same', kernel_initializer = 'he_normal')(inputs)\n",
        "conv1 = Conv2D(8, 3, activation = 'relu', padding = 'same', kernel_initializer = 'he_normal')(conv1)\n",
        "pool1 = MaxPooling2D(pool_size=(2, 2))(conv1)\n",
        "conv2 = Conv2D(16, 3, activation = 'relu', padding = 'same', kernel_initializer = 'he_normal')(pool1)\n",
        "conv2 = Conv2D(16, 3, activation = 'relu', padding = 'same', kernel_initializer = 'he_normal')(conv2)\n",
        "pool2 = MaxPooling2D(pool_size=(2, 2))(conv2)\n",
        "conv3 = Conv2D(32, 3, activation = 'relu', padding = 'same', kernel_initializer = 'he_normal')(pool2)\n",
        "conv3 = Conv2D(32, 3, activation = 'relu', padding = 'same', kernel_initializer = 'he_normal')(conv3)\n",
        "pool3 = MaxPooling2D(pool_size=(2, 2))(conv3)\n",
        "conv4 = Conv2D(64, 3, activation = 'relu', padding = 'same', kernel_initializer = 'he_normal')(pool3)\n",
        "conv4 = Conv2D(64, 3, activation = 'relu', padding = 'same', kernel_initializer = 'he_normal')(conv4)\n",
        "drop4 = Dropout(0.5)(conv4)\n",
        "\n",
        "# Decoder\n",
        "up7 = Conv2D(32, 2, activation = 'relu', padding = 'same', kernel_initializer = 'he_normal')(UpSampling2D(size = (2,2))(drop4))\n",
        "merge7 = concatenate([conv3,up7], axis = 3)\n",
        "conv7 = Conv2D(32, 3, activation = 'relu', padding = 'same', kernel_initializer = 'he_normal')(merge7)\n",
        "conv7 = Conv2D(32, 3, activation = 'relu', padding = 'same', kernel_initializer = 'he_normal')(conv7)\n",
        "up8 = Conv2D(16, 2, activation = 'relu', padding = 'same', kernel_initializer = 'he_normal')(UpSampling2D(size = (2,2))(conv7))\n",
        "merge8 = concatenate([conv2,up8], axis = 3)\n",
        "conv8 = Conv2D(16, 3, activation = 'relu', padding = 'same', kernel_initializer = 'he_normal')(merge8)\n",
        "conv8 = Conv2D(16, 3, activation = 'relu', padding = 'same', kernel_initializer = 'he_normal')(conv8)\n",
        "up9 = Conv2D(8, 2, activation = 'relu', padding = 'same', kernel_initializer = 'he_normal')(UpSampling2D(size = (2,2))(conv8))\n",
        "merge9 = concatenate([conv1,up9], axis = 3)\n",
        "conv9 = Conv2D(8, 3, activation = 'relu', padding = 'same', kernel_initializer = 'he_normal')(merge9)\n",
        "conv9 = Conv2D(8, 3, activation = 'relu', padding = 'same', kernel_initializer = 'he_normal')(conv9)\n",
        "\n",
        "# Perform softmax on each pixel, so axis should be 3 because output has shape: batch_size x 64 x 64 x num_classes\n",
        "conv10 = Conv2D(num_classes, 1, activation = softMaxAxis3)(conv9)\n",
        "\n",
        "model = Model(inputs, conv10)\n",
        "model.summary()\n",
        "model.compile(optimizer = keras.optimizers.RMSprop(lr = 1e-3), loss = 'binary_crossentropy')"
      ],
      "execution_count": null,
      "outputs": [
        {
          "output_type": "stream",
          "text": [
            "Model: \"functional_23\"\n",
            "__________________________________________________________________________________________________\n",
            "Layer (type)                    Output Shape         Param #     Connected to                     \n",
            "==================================================================================================\n",
            "input_10 (InputLayer)           [(None, 64, 64, 1)]  0                                            \n",
            "__________________________________________________________________________________________________\n",
            "conv2d_59 (Conv2D)              (None, 64, 64, 8)    80          input_10[0][0]                   \n",
            "__________________________________________________________________________________________________\n",
            "conv2d_60 (Conv2D)              (None, 64, 64, 8)    584         conv2d_59[0][0]                  \n",
            "__________________________________________________________________________________________________\n",
            "max_pooling2d_39 (MaxPooling2D) (None, 32, 32, 8)    0           conv2d_60[0][0]                  \n",
            "__________________________________________________________________________________________________\n",
            "conv2d_61 (Conv2D)              (None, 32, 32, 16)   1168        max_pooling2d_39[0][0]           \n",
            "__________________________________________________________________________________________________\n",
            "conv2d_62 (Conv2D)              (None, 32, 32, 16)   2320        conv2d_61[0][0]                  \n",
            "__________________________________________________________________________________________________\n",
            "max_pooling2d_40 (MaxPooling2D) (None, 16, 16, 16)   0           conv2d_62[0][0]                  \n",
            "__________________________________________________________________________________________________\n",
            "conv2d_63 (Conv2D)              (None, 16, 16, 32)   4640        max_pooling2d_40[0][0]           \n",
            "__________________________________________________________________________________________________\n",
            "conv2d_64 (Conv2D)              (None, 16, 16, 32)   9248        conv2d_63[0][0]                  \n",
            "__________________________________________________________________________________________________\n",
            "max_pooling2d_41 (MaxPooling2D) (None, 8, 8, 32)     0           conv2d_64[0][0]                  \n",
            "__________________________________________________________________________________________________\n",
            "conv2d_65 (Conv2D)              (None, 8, 8, 64)     18496       max_pooling2d_41[0][0]           \n",
            "__________________________________________________________________________________________________\n",
            "conv2d_66 (Conv2D)              (None, 8, 8, 64)     36928       conv2d_65[0][0]                  \n",
            "__________________________________________________________________________________________________\n",
            "dropout_3 (Dropout)             (None, 8, 8, 64)     0           conv2d_66[0][0]                  \n",
            "__________________________________________________________________________________________________\n",
            "up_sampling2d_6 (UpSampling2D)  (None, 16, 16, 64)   0           dropout_3[0][0]                  \n",
            "__________________________________________________________________________________________________\n",
            "conv2d_67 (Conv2D)              (None, 16, 16, 32)   8224        up_sampling2d_6[0][0]            \n",
            "__________________________________________________________________________________________________\n",
            "concatenate_3 (Concatenate)     (None, 16, 16, 64)   0           conv2d_64[0][0]                  \n",
            "                                                                 conv2d_67[0][0]                  \n",
            "__________________________________________________________________________________________________\n",
            "conv2d_68 (Conv2D)              (None, 16, 16, 32)   18464       concatenate_3[0][0]              \n",
            "__________________________________________________________________________________________________\n",
            "conv2d_69 (Conv2D)              (None, 16, 16, 32)   9248        conv2d_68[0][0]                  \n",
            "__________________________________________________________________________________________________\n",
            "up_sampling2d_7 (UpSampling2D)  (None, 32, 32, 32)   0           conv2d_69[0][0]                  \n",
            "__________________________________________________________________________________________________\n",
            "conv2d_70 (Conv2D)              (None, 32, 32, 16)   2064        up_sampling2d_7[0][0]            \n",
            "__________________________________________________________________________________________________\n",
            "concatenate_4 (Concatenate)     (None, 32, 32, 32)   0           conv2d_62[0][0]                  \n",
            "                                                                 conv2d_70[0][0]                  \n",
            "__________________________________________________________________________________________________\n",
            "conv2d_71 (Conv2D)              (None, 32, 32, 16)   4624        concatenate_4[0][0]              \n",
            "__________________________________________________________________________________________________\n",
            "conv2d_72 (Conv2D)              (None, 32, 32, 16)   2320        conv2d_71[0][0]                  \n",
            "__________________________________________________________________________________________________\n",
            "up_sampling2d_8 (UpSampling2D)  (None, 64, 64, 16)   0           conv2d_72[0][0]                  \n",
            "__________________________________________________________________________________________________\n",
            "conv2d_73 (Conv2D)              (None, 64, 64, 8)    520         up_sampling2d_8[0][0]            \n",
            "__________________________________________________________________________________________________\n",
            "concatenate_5 (Concatenate)     (None, 64, 64, 16)   0           conv2d_60[0][0]                  \n",
            "                                                                 conv2d_73[0][0]                  \n",
            "__________________________________________________________________________________________________\n",
            "conv2d_74 (Conv2D)              (None, 64, 64, 8)    1160        concatenate_5[0][0]              \n",
            "__________________________________________________________________________________________________\n",
            "conv2d_75 (Conv2D)              (None, 64, 64, 8)    584         conv2d_74[0][0]                  \n",
            "__________________________________________________________________________________________________\n",
            "conv2d_76 (Conv2D)              (None, 64, 64, 10)   90          conv2d_75[0][0]                  \n",
            "==================================================================================================\n",
            "Total params: 120,762\n",
            "Trainable params: 120,762\n",
            "Non-trainable params: 0\n",
            "__________________________________________________________________________________________________\n"
          ],
          "name": "stdout"
        }
      ]
    },
    {
      "cell_type": "markdown",
      "metadata": {
        "id": "pFtbTD9CC9v_",
        "colab_type": "text"
      },
      "source": [
        "###Questions 9.1\n",
        "1. What does \"concatenate\" do?\n",
        "2. Which layers of the encoder are being concated with which layers of the decoder?\n",
        "3. Why do you think U-Net concatenates outputs from layers of the encoder and layers of the decoder?\n",
        "\n",
        "Hint: Use K.int_shape(...) to get the shapes of the layers that are being concatenated"
      ]
    },
    {
      "cell_type": "markdown",
      "metadata": {
        "id": "By1_TT4pOrpu",
        "colab_type": "text"
      },
      "source": [
        "###Training"
      ]
    },
    {
      "cell_type": "code",
      "metadata": {
        "id": "iu1bZx4J65lM",
        "colab_type": "code",
        "colab": {}
      },
      "source": [
        "model.fit(x_train_seg, y_train_seg, epochs=30, batch_size=64, shuffle=True, verbose=1)"
      ],
      "execution_count": null,
      "outputs": []
    },
    {
      "cell_type": "markdown",
      "metadata": {
        "id": "ECy9tSPLOuG2",
        "colab_type": "text"
      },
      "source": [
        "###Model evaluation"
      ]
    },
    {
      "cell_type": "code",
      "metadata": {
        "id": "fOz5f-5-7rn4",
        "colab_type": "code",
        "colab": {}
      },
      "source": [
        "# Pick 4 random examples\n",
        "rand_ix = np.random.randint(0,5000,4)\n",
        "out = model.predict(x_train_seg[rand_ix,:,:,:])\n",
        "ref = y_train_seg[rand_ix,:,:,:].squeeze()\n",
        "for k in range(4):\n",
        "  plt.figure(figsize=(20,4))\n",
        "  plt.subplot(2,11,1)\n",
        "  plt.imshow(x_train_seg[rand_ix[k],:,:,:].squeeze())\n",
        "  plt.title('Input image')\n",
        "  ax.get_xaxis().set_visible(False)\n",
        "  ax.get_yaxis().set_visible(False)\n",
        "  for i in range(10):\n",
        "    ax = plt.subplot(2,11,i+2)\n",
        "    plt.imshow(out[k,:,:,i].squeeze(),vmin=0,vmax=1)\n",
        "    plt.title('Predicted ' + str(i))\n",
        "    ax.get_xaxis().set_visible(False)\n",
        "    ax.get_yaxis().set_visible(False)\n",
        "    ax = plt.subplot(2,11,11+i+2)\n",
        "    plt.imshow(ref[k,:,:,i].squeeze(),vmin=0,vmax=1)\n",
        "    plt.title('True ' + str(i))\n",
        "    ax.get_xaxis().set_visible(False)\n",
        "    ax.get_yaxis().set_visible(False)"
      ],
      "execution_count": null,
      "outputs": []
    },
    {
      "cell_type": "markdown",
      "metadata": {
        "id": "psBtdJUcFt_n",
        "colab_type": "text"
      },
      "source": [
        "###Task 9.1\n",
        "Remove the concatenation layers (i.e., fill in the empty slots marked with ???). Then run the code block and train the model."
      ]
    },
    {
      "cell_type": "code",
      "metadata": {
        "id": "rwFBtvPcGZgz",
        "colab_type": "code",
        "colab": {}
      },
      "source": [
        "inputs = Input(shape=(64, 64, 1))\n",
        "\n",
        "# Encoder\n",
        "conv1 = Conv2D(8, 3, activation = 'relu', padding = 'same', kernel_initializer = 'he_normal')(inputs)\n",
        "conv1 = Conv2D(8, 3, activation = 'relu', padding = 'same', kernel_initializer = 'he_normal')(conv1)\n",
        "pool1 = MaxPooling2D(pool_size=(2, 2))(conv1)\n",
        "conv2 = Conv2D(16, 3, activation = 'relu', padding = 'same', kernel_initializer = 'he_normal')(pool1)\n",
        "conv2 = Conv2D(16, 3, activation = 'relu', padding = 'same', kernel_initializer = 'he_normal')(conv2)\n",
        "pool2 = MaxPooling2D(pool_size=(2, 2))(conv2)\n",
        "conv3 = Conv2D(32, 3, activation = 'relu', padding = 'same', kernel_initializer = 'he_normal')(pool2)\n",
        "conv3 = Conv2D(32, 3, activation = 'relu', padding = 'same', kernel_initializer = 'he_normal')(conv3)\n",
        "pool3 = MaxPooling2D(pool_size=(2, 2))(conv3)\n",
        "conv4 = Conv2D(64, 3, activation = 'relu', padding = 'same', kernel_initializer = 'he_normal')(pool3)\n",
        "conv4 = Conv2D(64, 3, activation = 'relu', padding = 'same', kernel_initializer = 'he_normal')(conv4)\n",
        "drop4 = Dropout(0.5)(conv4)\n",
        "\n",
        "# Decoder\n",
        "up7 = Conv2D(32, 2, activation = 'relu', padding = 'same', kernel_initializer = 'he_normal')(UpSampling2D(size = (2,2))(drop4))\n",
        "#merge7 = concatenate([conv3,up7], axis = 3)\n",
        "conv7 = Conv2D(32, 3, activation = 'relu', padding = 'same', kernel_initializer = 'he_normal')(???)\n",
        "conv7 = Conv2D(32, 3, activation = 'relu', padding = 'same', kernel_initializer = 'he_normal')(conv7)\n",
        "up8 = Conv2D(16, 2, activation = 'relu', padding = 'same', kernel_initializer = 'he_normal')(UpSampling2D(size = (2,2))(conv7))\n",
        "#merge8 = concatenate([conv2,up8], axis = 3)\n",
        "conv8 = Conv2D(16, 3, activation = 'relu', padding = 'same', kernel_initializer = 'he_normal')(???)\n",
        "conv8 = Conv2D(16, 3, activation = 'relu', padding = 'same', kernel_initializer = 'he_normal')(conv8)\n",
        "up9 = Conv2D(8, 2, activation = 'relu', padding = 'same', kernel_initializer = 'he_normal')(UpSampling2D(size = (2,2))(conv8))\n",
        "#merge9 = concatenate([conv1,up9], axis = 3)\n",
        "conv9 = Conv2D(8, 3, activation = 'relu', padding = 'same', kernel_initializer = 'he_normal')(???)\n",
        "conv9 = Conv2D(8, 3, activation = 'relu', padding = 'same', kernel_initializer = 'he_normal')(conv9)\n",
        "\n",
        "# Perform softmax on each pixel, so axis should be 3 because output has shape: batch_size x 64 x 64 x num_classes\n",
        "conv10 = Conv2D(num_classes, 1, activation = softMaxAxis3)(conv9)\n",
        "\n",
        "model = Model(input = inputs, output = conv10)\n",
        "model.summary()\n",
        "model.compile(optimizer = keras.optimizers.RMSprop(lr = 1e-3), loss = 'binary_crossentropy')"
      ],
      "execution_count": null,
      "outputs": []
    },
    {
      "cell_type": "markdown",
      "metadata": {
        "id": "YCHTqAt7HLiH",
        "colab_type": "text"
      },
      "source": [
        "###Training\n",
        "Train the model"
      ]
    },
    {
      "cell_type": "code",
      "metadata": {
        "id": "lVlwZA9SGPao",
        "colab_type": "code",
        "colab": {}
      },
      "source": [
        "model.fit(x_train_seg, y_train_seg, epochs=30, batch_size=64, shuffle=True, verbose=1)"
      ],
      "execution_count": null,
      "outputs": []
    },
    {
      "cell_type": "markdown",
      "metadata": {
        "id": "scV-vmHuHPLL",
        "colab_type": "text"
      },
      "source": [
        "###Model evaluation"
      ]
    },
    {
      "cell_type": "code",
      "metadata": {
        "id": "sRe5Y2gRGwGc",
        "colab_type": "code",
        "colab": {}
      },
      "source": [
        "# Pick 4 random examples\n",
        "rand_ix = np.random.randint(0,5000,4)\n",
        "out = model.predict(x_train_seg[rand_ix,:,:,:])\n",
        "ref = y_train_seg[rand_ix,:,:,:].squeeze()\n",
        "for k in range(4):\n",
        "  plt.figure(figsize=(20,4))\n",
        "  plt.subplot(2,11,1)\n",
        "  plt.imshow(x_train_seg[rand_ix[k],:,:,:].squeeze())\n",
        "  plt.title('Input image')\n",
        "  ax.get_xaxis().set_visible(False)\n",
        "  ax.get_yaxis().set_visible(False)\n",
        "  for i in range(10):\n",
        "    ax = plt.subplot(2,11,i+2)\n",
        "    plt.imshow(out[k,:,:,i].squeeze(),vmin=0,vmax=1)\n",
        "    plt.title('Predicted ' + str(i))\n",
        "    ax.get_xaxis().set_visible(False)\n",
        "    ax.get_yaxis().set_visible(False)\n",
        "    ax = plt.subplot(2,11,11+i+2)\n",
        "    plt.imshow(ref[k,:,:,i].squeeze(),vmin=0,vmax=1)\n",
        "    plt.title('True ' + str(i))\n",
        "    ax.get_xaxis().set_visible(False)\n",
        "    ax.get_yaxis().set_visible(False)"
      ],
      "execution_count": null,
      "outputs": []
    },
    {
      "cell_type": "markdown",
      "metadata": {
        "id": "MsDvcgV9HS0j",
        "colab_type": "text"
      },
      "source": [
        "###Questions 9.2\n",
        "1. Results look more blurry without the concatenation layers. Why?"
      ]
    },
    {
      "cell_type": "markdown",
      "metadata": {
        "id": "jJrlKE5CPWvz",
        "colab_type": "text"
      },
      "source": [
        "##10 Ideas for further work:\n",
        "###Few-shot learning (or one-shot learning) with Siamese networks\n",
        "What? Why? How?\n",
        "\n",
        "Can you modify the code below to train on just 10 examples of each class?\n",
        "\n",
        "Read here: https://towardsdatascience.com/one-shot-learning-with-siamese-networks-using-keras-17f34e75bb3d\n",
        "\n",
        "Code here: https://keras.io/examples/mnist_siamese/"
      ]
    },
    {
      "cell_type": "code",
      "metadata": {
        "id": "9CYmzCDXI3Q3",
        "colab_type": "code",
        "colab": {}
      },
      "source": [
        "from __future__ import absolute_import\n",
        "from __future__ import print_function\n",
        "import numpy as np\n",
        "\n",
        "import random\n",
        "from keras.datasets import mnist\n",
        "from keras.models import Model\n",
        "from keras.layers import Input, Flatten, Dense, Dropout, Lambda\n",
        "from keras.optimizers import RMSprop\n",
        "from keras import backend as K\n",
        "\n",
        "num_classes = 10\n",
        "epochs = 20\n",
        "\n",
        "def euclidean_distance(vects):\n",
        "    x, y = vects\n",
        "    sum_square = K.sum(K.square(x - y), axis=1, keepdims=True)\n",
        "    return K.sqrt(K.maximum(sum_square, K.epsilon()))\n",
        "\n",
        "def eucl_dist_output_shape(shapes):\n",
        "    shape1, shape2 = shapes\n",
        "    return (shape1[0], 1)\n",
        "\n",
        "def contrastive_loss(y_true, y_pred):\n",
        "    '''Contrastive loss from Hadsell-et-al.'06\n",
        "    http://yann.lecun.com/exdb/publis/pdf/hadsell-chopra-lecun-06.pdf\n",
        "    '''\n",
        "    margin = 1\n",
        "    sqaure_pred = K.square(y_pred)\n",
        "    margin_square = K.square(K.maximum(margin - y_pred, 0))\n",
        "    return K.mean(y_true * sqaure_pred + (1 - y_true) * margin_square)\n",
        "\n",
        "def create_pairs(x, digit_indices):\n",
        "    '''Positive and negative pair creation.\n",
        "    Alternates between positive and negative pairs.\n",
        "    '''\n",
        "    pairs = []\n",
        "    labels = []\n",
        "    n = min([len(digit_indices[d]) for d in range(num_classes)]) - 1\n",
        "    for d in range(num_classes):\n",
        "        for i in range(n):\n",
        "            z1, z2 = digit_indices[d][i], digit_indices[d][i + 1]\n",
        "            pairs += [[x[z1], x[z2]]]\n",
        "            inc = random.randrange(1, num_classes)\n",
        "            dn = (d + inc) % num_classes\n",
        "            z1, z2 = digit_indices[d][i], digit_indices[dn][i]\n",
        "            pairs += [[x[z1], x[z2]]]\n",
        "            labels += [1, 0]\n",
        "    return np.array(pairs).astype('float32'), np.array(labels).astype('float32')\n",
        "\n",
        "def create_base_network(input_shape):\n",
        "    '''Base network to be shared (eq. to feature extraction).\n",
        "    '''\n",
        "    input = Input(shape=input_shape)\n",
        "    x = Flatten()(input)\n",
        "    x = Dense(128, activation='relu')(x)\n",
        "    x = Dropout(0.1)(x)\n",
        "    x = Dense(128, activation='relu')(x)\n",
        "    x = Dropout(0.1)(x)\n",
        "    x = Dense(128, activation='relu')(x)\n",
        "    return Model(input, x)\n",
        "\n",
        "def compute_accuracy(y_true, y_pred):\n",
        "    '''Compute classification accuracy with a fixed threshold on distances.\n",
        "    '''\n",
        "    pred = y_pred.ravel() < 0.5\n",
        "    return np.mean(pred == y_true)\n",
        "\n",
        "def accuracy(y_true, y_pred):\n",
        "    '''Compute classification accuracy with a fixed threshold on distances.\n",
        "    '''\n",
        "    return K.mean(K.equal(y_true, K.cast(y_pred < 0.5, y_true.dtype)))\n",
        "\n",
        "# the data, split between train and test sets\n",
        "(x_train, y_train), (x_test, y_test) = mnist.load_data()\n",
        "x_train = x_train.astype('float32')\n",
        "x_test = x_test.astype('float32')\n",
        "x_train /= 255\n",
        "x_test /= 255\n",
        "input_shape = x_train.shape[1:]\n",
        "\n",
        "# create training+test positive and negative pairs\n",
        "digit_indices = [np.where(y_train == i)[0] for i in range(num_classes)]\n",
        "tr_pairs, tr_y = create_pairs(x_train, digit_indices)\n",
        "\n",
        "digit_indices = [np.where(y_test == i)[0] for i in range(num_classes)]\n",
        "te_pairs, te_y = create_pairs(x_test, digit_indices)\n",
        "\n",
        "# network definition\n",
        "base_network = create_base_network(input_shape)\n",
        "\n",
        "input_a = Input(shape=input_shape)\n",
        "input_b = Input(shape=input_shape)\n",
        "\n",
        "# because we re-use the same instance `base_network`,\n",
        "# the weights of the network\n",
        "# will be shared across the two branches\n",
        "processed_a = base_network(input_a)\n",
        "processed_b = base_network(input_b)\n",
        "\n",
        "distance = Lambda(euclidean_distance,\n",
        "                  output_shape=eucl_dist_output_shape)([processed_a, processed_b])\n",
        "\n",
        "model = Model([input_a, input_b], distance)\n",
        "\n",
        "# train\n",
        "rms = RMSprop()\n",
        "model.compile(loss=contrastive_loss, optimizer=rms, metrics=[accuracy])\n",
        "model.fit([tr_pairs[:, 0], tr_pairs[:, 1]], tr_y,\n",
        "          batch_size=128,\n",
        "          epochs=epochs,\n",
        "          validation_data=([te_pairs[:, 0], te_pairs[:, 1]], te_y))\n",
        "\n",
        "# compute final accuracy on training and test sets\n",
        "y_pred = model.predict([tr_pairs[:, 0], tr_pairs[:, 1]])\n",
        "tr_acc = compute_accuracy(tr_y, y_pred)\n",
        "y_pred = model.predict([te_pairs[:, 0], te_pairs[:, 1]])\n",
        "te_acc = compute_accuracy(te_y, y_pred)\n",
        "\n",
        "print('* Accuracy on training set: %0.2f%%' % (100 * tr_acc))\n",
        "print('* Accuracy on test set: %0.2f%%' % (100 * te_acc))"
      ],
      "execution_count": null,
      "outputs": []
    },
    {
      "cell_type": "markdown",
      "metadata": {
        "id": "a_5WzyIk9LFB",
        "colab_type": "text"
      },
      "source": [
        "###Generative Adversarial Networks\n",
        "What on earth is this thing doing? See if you can guess :-)\n",
        "\n",
        "Read here: https://towardsdatascience.com/dcgans-deep-convolutional-generative-adversarial-networks-c7f392c2c8f8\n",
        "\n",
        "Code here: https://github.com/eriklindernoren/Keras-GAN/blob/master/dcgan/dcgan.py"
      ]
    },
    {
      "cell_type": "code",
      "metadata": {
        "id": "8eYaGm4oV2oo",
        "colab_type": "code",
        "colab": {}
      },
      "source": [
        "from __future__ import print_function, division\n",
        "\n",
        "from keras.datasets import mnist\n",
        "from keras.layers import Input, Dense, Reshape, Flatten, Dropout\n",
        "from keras.layers import BatchNormalization, Activation, ZeroPadding2D\n",
        "from keras.layers.advanced_activations import LeakyReLU\n",
        "from keras.layers.convolutional import UpSampling2D, Conv2D\n",
        "from keras.models import Sequential, Model\n",
        "from keras.optimizers import Adam\n",
        "import matplotlib.pyplot as plt\n",
        "\n",
        "import sys\n",
        "\n",
        "class DCGAN():\n",
        "    def __init__(self):\n",
        "        # Input shape\n",
        "        self.img_rows = 28\n",
        "        self.img_cols = 28\n",
        "        self.channels = 1\n",
        "        self.img_shape = (self.img_rows, self.img_cols, self.channels)\n",
        "        self.latent_dim = 10\n",
        "\n",
        "        optimizer = Adam(0.0002, 0.5)\n",
        "\n",
        "        # Build and compile the discriminator\n",
        "        self.discriminator = self.build_discriminator()\n",
        "        self.discriminator.compile(loss='binary_crossentropy',\n",
        "            optimizer=optimizer,\n",
        "            metrics=['accuracy'])\n",
        "\n",
        "        # Build the generator\n",
        "        self.generator = self.build_generator()\n",
        "\n",
        "        # The generator takes noise as input and generates imgs\n",
        "        z = Input(shape=(self.latent_dim,))\n",
        "        img = self.generator(z)\n",
        "\n",
        "        # For the combined model we will only train the generator\n",
        "        self.discriminator.trainable = False\n",
        "\n",
        "        # The discriminator takes generated images as input and determines validity\n",
        "        valid = self.discriminator(img)\n",
        "\n",
        "        # The combined model  (stacked generator and discriminator)\n",
        "        # Trains the generator to fool the discriminator\n",
        "        self.combined = Model(z, valid)\n",
        "        self.combined.compile(loss='binary_crossentropy', optimizer=optimizer)\n",
        "\n",
        "    def build_generator(self):\n",
        "\n",
        "        model = Sequential()\n",
        "\n",
        "        model.add(Dense(128 * 7 * 7, activation=\"relu\", input_dim=self.latent_dim))\n",
        "        model.add(Reshape((7, 7, 128)))\n",
        "        model.add(UpSampling2D())\n",
        "        model.add(Conv2D(128, kernel_size=3, padding=\"same\"))\n",
        "        model.add(BatchNormalization(momentum=0.8))\n",
        "        model.add(Activation(\"relu\"))\n",
        "        model.add(UpSampling2D())\n",
        "        model.add(Conv2D(64, kernel_size=3, padding=\"same\"))\n",
        "        model.add(BatchNormalization(momentum=0.8))\n",
        "        model.add(Activation(\"relu\"))\n",
        "        model.add(Conv2D(self.channels, kernel_size=3, padding=\"same\"))\n",
        "        model.add(Activation(\"tanh\"))\n",
        "\n",
        "        model.summary()\n",
        "\n",
        "        noise = Input(shape=(self.latent_dim,))\n",
        "        img = model(noise)\n",
        "\n",
        "        return Model(noise, img)\n",
        "\n",
        "    def build_discriminator(self):\n",
        "\n",
        "        model = Sequential()\n",
        "\n",
        "        model.add(Conv2D(32, kernel_size=3, strides=2, input_shape=self.img_shape, padding=\"same\"))\n",
        "        model.add(LeakyReLU(alpha=0.2))\n",
        "        model.add(Dropout(0.25))\n",
        "        model.add(Conv2D(64, kernel_size=3, strides=2, padding=\"same\"))\n",
        "        model.add(ZeroPadding2D(padding=((0,1),(0,1))))\n",
        "        model.add(BatchNormalization(momentum=0.8))\n",
        "        model.add(LeakyReLU(alpha=0.2))\n",
        "        model.add(Dropout(0.25))\n",
        "        model.add(Conv2D(128, kernel_size=3, strides=2, padding=\"same\"))\n",
        "        model.add(BatchNormalization(momentum=0.8))\n",
        "        model.add(LeakyReLU(alpha=0.2))\n",
        "        model.add(Dropout(0.25))\n",
        "        model.add(Conv2D(256, kernel_size=3, strides=1, padding=\"same\"))\n",
        "        model.add(BatchNormalization(momentum=0.8))\n",
        "        model.add(LeakyReLU(alpha=0.2))\n",
        "        model.add(Dropout(0.25))\n",
        "        model.add(Flatten())\n",
        "        model.add(Dense(1, activation='sigmoid'))\n",
        "\n",
        "        model.summary()\n",
        "\n",
        "        img = Input(shape=self.img_shape)\n",
        "        validity = model(img)\n",
        "\n",
        "        return Model(img, validity)\n",
        "\n",
        "    def train(self, epochs, batch_size=128, save_interval=500):\n",
        "\n",
        "        # Load the dataset\n",
        "        (X_train, _), (_, _) = mnist.load_data()\n",
        "\n",
        "        # Rescale -1 to 1\n",
        "        X_train = X_train / 127.5 - 1.\n",
        "        X_train = np.expand_dims(X_train, axis=3)\n",
        "\n",
        "        # Adversarial ground truths\n",
        "        valid = np.ones((batch_size, 1))\n",
        "        fake = np.zeros((batch_size, 1))\n",
        "\n",
        "        for epoch in range(epochs):\n",
        "\n",
        "            # ---------------------\n",
        "            #  Train Discriminator\n",
        "            # ---------------------\n",
        "\n",
        "            # Select a random half of images\n",
        "            idx = np.random.randint(0, X_train.shape[0], batch_size)\n",
        "            imgs = X_train[idx]\n",
        "\n",
        "            # Sample noise and generate a batch of new images\n",
        "            noise = np.random.normal(0, 1, (batch_size, self.latent_dim))\n",
        "            gen_imgs = self.generator.predict(noise)\n",
        "\n",
        "            # Train the discriminator (real classified as ones and generated as zeros)\n",
        "            d_loss_real = self.discriminator.train_on_batch(imgs, valid)\n",
        "            d_loss_fake = self.discriminator.train_on_batch(gen_imgs, fake)\n",
        "            d_loss = 0.5 * np.add(d_loss_real, d_loss_fake)\n",
        "\n",
        "            # ---------------------\n",
        "            #  Train Generator\n",
        "            # ---------------------\n",
        "\n",
        "            # Train the generator (wants discriminator to mistake images as real)\n",
        "            g_loss = self.combined.train_on_batch(noise, valid)\n",
        "\n",
        "            # Plot the progress\n",
        "            #print (\"%d [D loss: %f, acc.: %.2f%%] [G loss: %f]\" % (epoch, d_loss[0], 100*d_loss[1], g_loss))\n",
        "\n",
        "            # If at save interval => save generated image samples\n",
        "            if epoch % save_interval == 0:\n",
        "                print (\"%d [D loss: %f, acc.: %.2f%%] [G loss: %f]\" % (epoch, d_loss[0], 100*d_loss[1], g_loss))\n",
        "                self.save_imgs(epoch)\n",
        "\n",
        "    def save_imgs(self, epoch):\n",
        "        r, c = 5, 5\n",
        "        noise = np.random.normal(0, 1, (r * c, self.latent_dim))\n",
        "        gen_imgs = self.generator.predict(noise)\n",
        "\n",
        "        # Rescale images 0 - 1\n",
        "        gen_imgs = 0.5 * gen_imgs + 0.5\n",
        "\n",
        "        plt.figure()\n",
        "        fig, axs = plt.subplots(r, c)\n",
        "        cnt = 0\n",
        "        for i in range(r):\n",
        "            for j in range(c):\n",
        "                axs[i,j].imshow(gen_imgs[cnt, :,:,0], cmap='gray')\n",
        "                axs[i,j].axis('off')\n",
        "                cnt += 1\n",
        "        #fig.savefig(\"mnist_%d.png\" % epoch)\n",
        "        plt.show()\n",
        "\n",
        "if __name__ == '__main__':\n",
        "    dcgan = DCGAN()\n",
        "    dcgan.train(epochs=4000, batch_size=32, save_interval=500)"
      ],
      "execution_count": null,
      "outputs": []
    },
    {
      "cell_type": "code",
      "metadata": {
        "id": "QuCrfo9pTnx6",
        "colab_type": "code",
        "colab": {}
      },
      "source": [
        ""
      ],
      "execution_count": null,
      "outputs": []
    }
  ]
}